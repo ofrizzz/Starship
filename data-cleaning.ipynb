{
 "cells": [
  {
   "cell_type": "markdown",
   "metadata": {},
   "source": [
    "# Imports"
   ]
  },
  {
   "cell_type": "code",
   "execution_count": 6,
   "metadata": {},
   "outputs": [],
   "source": [
    "import pandas as pd\n",
    "import numpy as np\n",
    "import matplotlib.pyplot as plt\n",
    "import seaborn as sns"
   ]
  },
  {
   "cell_type": "code",
   "execution_count": 173,
   "metadata": {},
   "outputs": [],
   "source": [
    "from scipy.stats import zscore"
   ]
  },
  {
   "cell_type": "code",
   "execution_count": 256,
   "metadata": {},
   "outputs": [],
   "source": [
    "from catboost import CatBoostClassifier\n",
    "from sklearn.model_selection import train_test_split\n",
    "from sklearn.metrics import accuracy_score"
   ]
  },
  {
   "cell_type": "code",
   "execution_count": 289,
   "metadata": {},
   "outputs": [],
   "source": [
    "from catboost import Pool"
   ]
  },
  {
   "cell_type": "markdown",
   "metadata": {},
   "source": [
    "# Loading data"
   ]
  },
  {
   "cell_type": "code",
   "execution_count": 7,
   "metadata": {},
   "outputs": [
    {
     "data": {
      "text/html": [
       "<div>\n",
       "<style scoped>\n",
       "    .dataframe tbody tr th:only-of-type {\n",
       "        vertical-align: middle;\n",
       "    }\n",
       "\n",
       "    .dataframe tbody tr th {\n",
       "        vertical-align: top;\n",
       "    }\n",
       "\n",
       "    .dataframe thead th {\n",
       "        text-align: right;\n",
       "    }\n",
       "</style>\n",
       "<table border=\"1\" class=\"dataframe\">\n",
       "  <thead>\n",
       "    <tr style=\"text-align: right;\">\n",
       "      <th></th>\n",
       "      <th>sourceItemId</th>\n",
       "      <th>itemId</th>\n",
       "      <th>placement</th>\n",
       "      <th>userId</th>\n",
       "      <th>publisherId</th>\n",
       "      <th>publisherLanguage</th>\n",
       "      <th>city</th>\n",
       "      <th>region</th>\n",
       "      <th>country</th>\n",
       "      <th>sessionReferrer</th>\n",
       "      <th>userQualityLoyalty</th>\n",
       "      <th>pub_group</th>\n",
       "      <th>upperTaxonomy</th>\n",
       "      <th>alchemyTaxonomy</th>\n",
       "      <th>rcClicks</th>\n",
       "      <th>spClicks</th>\n",
       "      <th>date</th>\n",
       "      <th>clicks</th>\n",
       "      <th>pvs</th>\n",
       "      <th>session_depth</th>\n",
       "    </tr>\n",
       "  </thead>\n",
       "  <tbody>\n",
       "    <tr>\n",
       "      <th>0</th>\n",
       "      <td>971463733300483695</td>\n",
       "      <td>-3287362093468539136</td>\n",
       "      <td>Explore More | Card 17</td>\n",
       "      <td>D3SEHPCZt3Rh+A==</td>\n",
       "      <td>ACPG9jMAB9JDFw==</td>\n",
       "      <td>jp</td>\n",
       "      <td>fukuroi</td>\n",
       "      <td>22</td>\n",
       "      <td>JAPAN</td>\n",
       "      <td>https://www.google.com/</td>\n",
       "      <td>FLY_BY</td>\n",
       "      <td>o_non_en</td>\n",
       "      <td>AUTOS</td>\n",
       "      <td>/automotive and vehicles/cars/car culture</td>\n",
       "      <td>0.0</td>\n",
       "      <td>1.0</td>\n",
       "      <td>20231230</td>\n",
       "      <td>0</td>\n",
       "      <td>1</td>\n",
       "      <td>2</td>\n",
       "    </tr>\n",
       "    <tr>\n",
       "      <th>1</th>\n",
       "      <td>8457151523382032299</td>\n",
       "      <td>6138823687901464576</td>\n",
       "      <td>Explore More | Card 1</td>\n",
       "      <td>co6X5NlH/brybA==</td>\n",
       "      <td>ACPG9jMAB9JDFw==</td>\n",
       "      <td>jp</td>\n",
       "      <td>suzaka</td>\n",
       "      <td>20</td>\n",
       "      <td>JAPAN</td>\n",
       "      <td>NaN</td>\n",
       "      <td>OTHER</td>\n",
       "      <td>o_non_en</td>\n",
       "      <td>OPINIONS</td>\n",
       "      <td>/science/physics</td>\n",
       "      <td>0.0</td>\n",
       "      <td>0.0</td>\n",
       "      <td>20231230</td>\n",
       "      <td>0</td>\n",
       "      <td>1</td>\n",
       "      <td>2</td>\n",
       "    </tr>\n",
       "    <tr>\n",
       "      <th>2</th>\n",
       "      <td>8457151523382032299</td>\n",
       "      <td>6138823687901464576</td>\n",
       "      <td>Explore More | Card 3</td>\n",
       "      <td>zPZAP6ai07An5Q==</td>\n",
       "      <td>ACPG9jMAB9JDFw==</td>\n",
       "      <td>jp</td>\n",
       "      <td>kameyama</td>\n",
       "      <td>24</td>\n",
       "      <td>JAPAN</td>\n",
       "      <td>https://www.webcartop.jp/2023/12/1257266/</td>\n",
       "      <td>OTHER</td>\n",
       "      <td>o_non_en</td>\n",
       "      <td>OPINIONS</td>\n",
       "      <td>/science/physics</td>\n",
       "      <td>2.0</td>\n",
       "      <td>1.0</td>\n",
       "      <td>20231230</td>\n",
       "      <td>0</td>\n",
       "      <td>1</td>\n",
       "      <td>1</td>\n",
       "    </tr>\n",
       "    <tr>\n",
       "      <th>3</th>\n",
       "      <td>-8015512517978446107</td>\n",
       "      <td>1400704243977415430</td>\n",
       "      <td>Explore More | Card 6</td>\n",
       "      <td>iw7zvYqor3JmHA==</td>\n",
       "      <td>ACPG9jMAB9JDFw==</td>\n",
       "      <td>jp</td>\n",
       "      <td>utsunomiya</td>\n",
       "      <td>09</td>\n",
       "      <td>JAPAN</td>\n",
       "      <td>https://www.google.com/</td>\n",
       "      <td>LOYAL</td>\n",
       "      <td>o_non_en</td>\n",
       "      <td>AUTOS</td>\n",
       "      <td>/automotive and vehicles/cars</td>\n",
       "      <td>0.0</td>\n",
       "      <td>1.0</td>\n",
       "      <td>20231230</td>\n",
       "      <td>0</td>\n",
       "      <td>1</td>\n",
       "      <td>2</td>\n",
       "    </tr>\n",
       "    <tr>\n",
       "      <th>4</th>\n",
       "      <td>3968886523333617577</td>\n",
       "      <td>-5556314375770347508</td>\n",
       "      <td>Explore More | Card 8</td>\n",
       "      <td>VKMyuFwfIfRpsQ==</td>\n",
       "      <td>ACPG9jMAB9JDFw==</td>\n",
       "      <td>jp</td>\n",
       "      <td>otsu</td>\n",
       "      <td>25</td>\n",
       "      <td>JAPAN</td>\n",
       "      <td>NaN</td>\n",
       "      <td>FLY_BY</td>\n",
       "      <td>o_non_en</td>\n",
       "      <td>AUTOS</td>\n",
       "      <td>/automotive and vehicles/cars/car culture</td>\n",
       "      <td>0.0</td>\n",
       "      <td>0.0</td>\n",
       "      <td>20231230</td>\n",
       "      <td>0</td>\n",
       "      <td>1</td>\n",
       "      <td>2</td>\n",
       "    </tr>\n",
       "  </tbody>\n",
       "</table>\n",
       "</div>"
      ],
      "text/plain": [
       "          sourceItemId               itemId               placement  \\\n",
       "0   971463733300483695 -3287362093468539136  Explore More | Card 17   \n",
       "1  8457151523382032299  6138823687901464576   Explore More | Card 1   \n",
       "2  8457151523382032299  6138823687901464576   Explore More | Card 3   \n",
       "3 -8015512517978446107  1400704243977415430   Explore More | Card 6   \n",
       "4  3968886523333617577 -5556314375770347508   Explore More | Card 8   \n",
       "\n",
       "             userId       publisherId publisherLanguage        city region  \\\n",
       "0  D3SEHPCZt3Rh+A==  ACPG9jMAB9JDFw==                jp     fukuroi     22   \n",
       "1  co6X5NlH/brybA==  ACPG9jMAB9JDFw==                jp      suzaka     20   \n",
       "2  zPZAP6ai07An5Q==  ACPG9jMAB9JDFw==                jp    kameyama     24   \n",
       "3  iw7zvYqor3JmHA==  ACPG9jMAB9JDFw==                jp  utsunomiya     09   \n",
       "4  VKMyuFwfIfRpsQ==  ACPG9jMAB9JDFw==                jp        otsu     25   \n",
       "\n",
       "  country                            sessionReferrer userQualityLoyalty  \\\n",
       "0   JAPAN                    https://www.google.com/             FLY_BY   \n",
       "1   JAPAN                                        NaN              OTHER   \n",
       "2   JAPAN  https://www.webcartop.jp/2023/12/1257266/              OTHER   \n",
       "3   JAPAN                    https://www.google.com/              LOYAL   \n",
       "4   JAPAN                                        NaN             FLY_BY   \n",
       "\n",
       "  pub_group upperTaxonomy                            alchemyTaxonomy  \\\n",
       "0  o_non_en         AUTOS  /automotive and vehicles/cars/car culture   \n",
       "1  o_non_en      OPINIONS                           /science/physics   \n",
       "2  o_non_en      OPINIONS                           /science/physics   \n",
       "3  o_non_en         AUTOS              /automotive and vehicles/cars   \n",
       "4  o_non_en         AUTOS  /automotive and vehicles/cars/car culture   \n",
       "\n",
       "   rcClicks  spClicks      date  clicks  pvs  session_depth  \n",
       "0       0.0       1.0  20231230       0    1              2  \n",
       "1       0.0       0.0  20231230       0    1              2  \n",
       "2       2.0       1.0  20231230       0    1              1  \n",
       "3       0.0       1.0  20231230       0    1              2  \n",
       "4       0.0       0.0  20231230       0    1              2  "
      ]
     },
     "execution_count": 7,
     "metadata": {},
     "output_type": "execute_result"
    }
   ],
   "source": [
    "day1_df_orig = pd.read_csv(\"C:\\\\Users\\\\ofri\\\\Desktop\\\\ofri\\\\B.sc\\\\semester e\\\\Starship\\\\main dataset\\\\30-12-2023.csv\")\n",
    "day1_df = day1_df_orig.copy()\n",
    "day1_df.head()"
   ]
  },
  {
   "cell_type": "code",
   "execution_count": 8,
   "metadata": {},
   "outputs": [],
   "source": [
    "day2_df_orig = pd.read_csv(\"C:\\\\Users\\\\ofri\\\\Desktop\\\\ofri\\\\B.sc\\\\semester e\\\\Starship\\\\main dataset\\\\31-12-2023.csv\")\n",
    "day2_df = day2_df_orig.copy()\n",
    "day3_df_orig = pd.read_csv(\"C:\\\\Users\\\\ofri\\\\Desktop\\\\ofri\\\\B.sc\\\\semester e\\\\Starship\\\\main dataset\\\\01-01-2024.csv\")\n",
    "day3_df = day3_df_orig.copy()\n",
    "day4_df_orig = pd.read_csv(\"C:\\\\Users\\\\ofri\\\\Desktop\\\\ofri\\\\B.sc\\\\semester e\\\\Starship\\\\main dataset\\\\02-01-2024.csv\")\n",
    "day4_df = day4_df_orig.copy()\n",
    "day5_df_orig = pd.read_csv(\"C:\\\\Users\\\\ofri\\\\Desktop\\\\ofri\\\\B.sc\\\\semester e\\\\Starship\\\\main dataset\\\\03-01-2024.csv\")\n",
    "day5_df = day5_df_orig.copy()\n",
    "day6_df_orig = pd.read_csv(\"C:\\\\Users\\\\ofri\\\\Desktop\\\\ofri\\\\B.sc\\\\semester e\\\\Starship\\\\main dataset\\\\04-01-2024.csv\")\n",
    "day6_df = day6_df_orig.copy()\n",
    "day7_df_orig = pd.read_csv(\"C:\\\\Users\\\\ofri\\\\Desktop\\\\ofri\\\\B.sc\\\\semester e\\\\Starship\\\\main dataset\\\\05-01-2024.csv\")\n",
    "day7_df = day7_df_orig.copy()"
   ]
  },
  {
   "cell_type": "code",
   "execution_count": 9,
   "metadata": {},
   "outputs": [],
   "source": [
    "dfs_lst = [day1_df, day2_df, day3_df, day4_df, day5_df, day6_df, day7_df]"
   ]
  },
  {
   "cell_type": "markdown",
   "metadata": {},
   "source": [
    "# Filter for users"
   ]
  },
  {
   "cell_type": "code",
   "execution_count": 47,
   "metadata": {},
   "outputs": [],
   "source": [
    "user_counts = {}\n",
    "for df in dfs_lst:\n",
    "    for user in set(df['userId']):\n",
    "        user_counts[user] = user_counts.get(user, 0) + 1\n",
    "\n",
    "# Identify users who appeared in at least two DataFrames\n",
    "common_users = {user for user, count in user_counts.items() if count >= 2}\n",
    "\n",
    "# Step 2: Filter rows with non-null values in 'spClicks' and 'rcClicks'\n",
    "filtered_dfs = []\n",
    "for df in dfs_lst:\n",
    "    filtered_df = df[df['userId'].isin(common_users) & df['spClicks'].notnull() & df['rcClicks'].notnull()]\n",
    "    filtered_dfs.append(filtered_df)"
   ]
  },
  {
   "cell_type": "code",
   "execution_count": 48,
   "metadata": {},
   "outputs": [
    {
     "name": "stdout",
     "output_type": "stream",
     "text": [
      "Number of sessions from sampled users each day:\n",
      "      Day 1: 1426442\n",
      "      Day 2: 1401520\n",
      "      Day 3: 1511657\n",
      "      Day 4: 1545234\n",
      "      Day 5: 1569419\n",
      "      Day 6: 1522046\n",
      "      Day 7: 1454730\n",
      "      \n"
     ]
    }
   ],
   "source": [
    "print(\"\"\"Number of sessions from sampled users each day:\n",
    "      Day 1: %d\n",
    "      Day 2: %d\n",
    "      Day 3: %d\n",
    "      Day 4: %d\n",
    "      Day 5: %d\n",
    "      Day 6: %d\n",
    "      Day 7: %d\n",
    "      \"\"\" %tuple(map(len, filtered_dfs)))"
   ]
  },
  {
   "cell_type": "code",
   "execution_count": 49,
   "metadata": {},
   "outputs": [],
   "source": [
    "filtered_days = [df.sample(n=250000, random_state=42) for df in filtered_dfs]"
   ]
  },
  {
   "cell_type": "markdown",
   "metadata": {},
   "source": [
    "Sanity check:"
   ]
  },
  {
   "cell_type": "code",
   "execution_count": 50,
   "metadata": {},
   "outputs": [
    {
     "name": "stdout",
     "output_type": "stream",
     "text": [
      "Number of sessions from sampled users each day:\n",
      "      Day 1: 250000\n",
      "      Day 2: 250000\n",
      "      Day 3: 250000\n",
      "      Day 4: 250000\n",
      "      Day 5: 250000\n",
      "      Day 6: 250000\n",
      "      Day 7: 250000\n",
      "      \n"
     ]
    }
   ],
   "source": [
    "print(\"\"\"Number of sessions from sampled users each day:\n",
    "      Day 1: %d\n",
    "      Day 2: %d\n",
    "      Day 3: %d\n",
    "      Day 4: %d\n",
    "      Day 5: %d\n",
    "      Day 6: %d\n",
    "      Day 7: %d\n",
    "      \"\"\" %tuple(map(len, filtered_days)))"
   ]
  },
  {
   "cell_type": "markdown",
   "metadata": {},
   "source": [
    "Combining data frames for handling missing values:"
   ]
  },
  {
   "cell_type": "code",
   "execution_count": 52,
   "metadata": {},
   "outputs": [
    {
     "data": {
      "text/html": [
       "<div>\n",
       "<style scoped>\n",
       "    .dataframe tbody tr th:only-of-type {\n",
       "        vertical-align: middle;\n",
       "    }\n",
       "\n",
       "    .dataframe tbody tr th {\n",
       "        vertical-align: top;\n",
       "    }\n",
       "\n",
       "    .dataframe thead th {\n",
       "        text-align: right;\n",
       "    }\n",
       "</style>\n",
       "<table border=\"1\" class=\"dataframe\">\n",
       "  <thead>\n",
       "    <tr style=\"text-align: right;\">\n",
       "      <th></th>\n",
       "      <th>sourceItemId</th>\n",
       "      <th>itemId</th>\n",
       "      <th>placement</th>\n",
       "      <th>userId</th>\n",
       "      <th>publisherId</th>\n",
       "      <th>publisherLanguage</th>\n",
       "      <th>city</th>\n",
       "      <th>region</th>\n",
       "      <th>country</th>\n",
       "      <th>sessionReferrer</th>\n",
       "      <th>userQualityLoyalty</th>\n",
       "      <th>pub_group</th>\n",
       "      <th>upperTaxonomy</th>\n",
       "      <th>alchemyTaxonomy</th>\n",
       "      <th>rcClicks</th>\n",
       "      <th>spClicks</th>\n",
       "      <th>date</th>\n",
       "      <th>clicks</th>\n",
       "      <th>pvs</th>\n",
       "      <th>session_depth</th>\n",
       "    </tr>\n",
       "  </thead>\n",
       "  <tbody>\n",
       "    <tr>\n",
       "      <th>1758002</th>\n",
       "      <td>3930372826329877079</td>\n",
       "      <td>-8567832437167189860</td>\n",
       "      <td>Explore More | Card 1</td>\n",
       "      <td>CeD9Am1Kfn0HmA==</td>\n",
       "      <td>9/jqcDOov81Ahg==</td>\n",
       "      <td>hi</td>\n",
       "      <td>ghaziabad</td>\n",
       "      <td>UP</td>\n",
       "      <td>INDIA</td>\n",
       "      <td>https://www.google.com/</td>\n",
       "      <td>OTHER</td>\n",
       "      <td>o_non_en</td>\n",
       "      <td>NEWS</td>\n",
       "      <td>/society/social institution</td>\n",
       "      <td>4.0</td>\n",
       "      <td>2.0</td>\n",
       "      <td>20231230</td>\n",
       "      <td>0</td>\n",
       "      <td>1</td>\n",
       "      <td>1</td>\n",
       "    </tr>\n",
       "    <tr>\n",
       "      <th>701798</th>\n",
       "      <td>-8350655315436087924</td>\n",
       "      <td>-7487955333344511114</td>\n",
       "      <td>Mobile Below Home Thumbnails | Card 1</td>\n",
       "      <td>inqVm1IkwdBLlw==</td>\n",
       "      <td>iGZurVXOeNO28g==</td>\n",
       "      <td>he</td>\n",
       "      <td>tel aviv</td>\n",
       "      <td>TA</td>\n",
       "      <td>ISRAEL</td>\n",
       "      <td>_sessionPending_</td>\n",
       "      <td>FLY_BY</td>\n",
       "      <td>o_non_en</td>\n",
       "      <td>SPORTS</td>\n",
       "      <td>/sports/soccer</td>\n",
       "      <td>0.0</td>\n",
       "      <td>0.0</td>\n",
       "      <td>20231230</td>\n",
       "      <td>0</td>\n",
       "      <td>1</td>\n",
       "      <td>1</td>\n",
       "    </tr>\n",
       "    <tr>\n",
       "      <th>1148426</th>\n",
       "      <td>-5849162253345923100</td>\n",
       "      <td>-4311605725343316158</td>\n",
       "      <td>Below Article Thumbnails | Card 18</td>\n",
       "      <td>EXnc2K61Zjr1kw==</td>\n",
       "      <td>IdxZcTuMzbt+oQ==</td>\n",
       "      <td>jp</td>\n",
       "      <td>surugadai</td>\n",
       "      <td>12</td>\n",
       "      <td>JAPAN</td>\n",
       "      <td>NaN</td>\n",
       "      <td>UNDEFINED</td>\n",
       "      <td>o_non_en</td>\n",
       "      <td>SPORTS</td>\n",
       "      <td>/art and entertainment/celebrity fan and gossip</td>\n",
       "      <td>0.0</td>\n",
       "      <td>0.0</td>\n",
       "      <td>20231230</td>\n",
       "      <td>0</td>\n",
       "      <td>1</td>\n",
       "      <td>1</td>\n",
       "    </tr>\n",
       "    <tr>\n",
       "      <th>1310014</th>\n",
       "      <td>-1025595395044274377</td>\n",
       "      <td>4695486645231195887</td>\n",
       "      <td>Explore More | Card 1</td>\n",
       "      <td>aPh0s/s7PP0zmg==</td>\n",
       "      <td>WtdAB9ShTqWMVQ==</td>\n",
       "      <td>pt-br</td>\n",
       "      <td>sao joao da boa vista</td>\n",
       "      <td>SP</td>\n",
       "      <td>BRAZIL</td>\n",
       "      <td>android-app://com.google.android.googlequickse...</td>\n",
       "      <td>OTHER</td>\n",
       "      <td>o_non_en</td>\n",
       "      <td>SPORTS</td>\n",
       "      <td>/sports/football</td>\n",
       "      <td>1.0</td>\n",
       "      <td>4.0</td>\n",
       "      <td>20231230</td>\n",
       "      <td>0</td>\n",
       "      <td>1</td>\n",
       "      <td>1</td>\n",
       "    </tr>\n",
       "    <tr>\n",
       "      <th>2704018</th>\n",
       "      <td>7798965393379467669</td>\n",
       "      <td>6946793513395916601</td>\n",
       "      <td>Explore More | Card 6</td>\n",
       "      <td>dsJsweYc8dhJwQ==</td>\n",
       "      <td>VxknyWvW4KHTMA==</td>\n",
       "      <td>pt-br</td>\n",
       "      <td>rio de janeiro</td>\n",
       "      <td>RJ</td>\n",
       "      <td>BRAZIL</td>\n",
       "      <td>https://www-metropoles-com.cdn.ampproject.org/</td>\n",
       "      <td>LOYAL</td>\n",
       "      <td>o_non_en</td>\n",
       "      <td>NEWS~POLITICS</td>\n",
       "      <td>/society/crime</td>\n",
       "      <td>46.0</td>\n",
       "      <td>112.0</td>\n",
       "      <td>20231230</td>\n",
       "      <td>0</td>\n",
       "      <td>1</td>\n",
       "      <td>1</td>\n",
       "    </tr>\n",
       "  </tbody>\n",
       "</table>\n",
       "</div>"
      ],
      "text/plain": [
       "                sourceItemId               itemId  \\\n",
       "1758002  3930372826329877079 -8567832437167189860   \n",
       "701798  -8350655315436087924 -7487955333344511114   \n",
       "1148426 -5849162253345923100 -4311605725343316158   \n",
       "1310014 -1025595395044274377  4695486645231195887   \n",
       "2704018  7798965393379467669  6946793513395916601   \n",
       "\n",
       "                                     placement            userId  \\\n",
       "1758002                  Explore More | Card 1  CeD9Am1Kfn0HmA==   \n",
       "701798   Mobile Below Home Thumbnails | Card 1  inqVm1IkwdBLlw==   \n",
       "1148426     Below Article Thumbnails | Card 18  EXnc2K61Zjr1kw==   \n",
       "1310014                  Explore More | Card 1  aPh0s/s7PP0zmg==   \n",
       "2704018                  Explore More | Card 6  dsJsweYc8dhJwQ==   \n",
       "\n",
       "              publisherId publisherLanguage                   city region  \\\n",
       "1758002  9/jqcDOov81Ahg==                hi              ghaziabad     UP   \n",
       "701798   iGZurVXOeNO28g==                he               tel aviv     TA   \n",
       "1148426  IdxZcTuMzbt+oQ==                jp              surugadai     12   \n",
       "1310014  WtdAB9ShTqWMVQ==             pt-br  sao joao da boa vista     SP   \n",
       "2704018  VxknyWvW4KHTMA==             pt-br         rio de janeiro     RJ   \n",
       "\n",
       "        country                                    sessionReferrer  \\\n",
       "1758002   INDIA                            https://www.google.com/   \n",
       "701798   ISRAEL                                   _sessionPending_   \n",
       "1148426   JAPAN                                                NaN   \n",
       "1310014  BRAZIL  android-app://com.google.android.googlequickse...   \n",
       "2704018  BRAZIL     https://www-metropoles-com.cdn.ampproject.org/   \n",
       "\n",
       "        userQualityLoyalty pub_group  upperTaxonomy  \\\n",
       "1758002              OTHER  o_non_en           NEWS   \n",
       "701798              FLY_BY  o_non_en         SPORTS   \n",
       "1148426          UNDEFINED  o_non_en         SPORTS   \n",
       "1310014              OTHER  o_non_en         SPORTS   \n",
       "2704018              LOYAL  o_non_en  NEWS~POLITICS   \n",
       "\n",
       "                                         alchemyTaxonomy  rcClicks  spClicks  \\\n",
       "1758002                      /society/social institution       4.0       2.0   \n",
       "701798                                    /sports/soccer       0.0       0.0   \n",
       "1148426  /art and entertainment/celebrity fan and gossip       0.0       0.0   \n",
       "1310014                                 /sports/football       1.0       4.0   \n",
       "2704018                                   /society/crime      46.0     112.0   \n",
       "\n",
       "             date  clicks  pvs  session_depth  \n",
       "1758002  20231230       0    1              1  \n",
       "701798   20231230       0    1              1  \n",
       "1148426  20231230       0    1              1  \n",
       "1310014  20231230       0    1              1  \n",
       "2704018  20231230       0    1              1  "
      ]
     },
     "execution_count": 52,
     "metadata": {},
     "output_type": "execute_result"
    }
   ],
   "source": [
    "combined_df = pd.concat(filtered_days)\n",
    "combined_df.head()"
   ]
  },
  {
   "cell_type": "code",
   "execution_count": 189,
   "metadata": {},
   "outputs": [
    {
     "name": "stdout",
     "output_type": "stream",
     "text": [
      "<class 'pandas.core.frame.DataFrame'>\n",
      "Int64Index: 1691896 entries, 1758002 to 571747\n",
      "Data columns (total 20 columns):\n",
      " #   Column              Dtype  \n",
      "---  ------              -----  \n",
      " 0   sourceItemId        int64  \n",
      " 1   itemId              int64  \n",
      " 2   placement           object \n",
      " 3   userId              object \n",
      " 4   publisherId         object \n",
      " 5   publisherLanguage   object \n",
      " 6   city                object \n",
      " 7   region              object \n",
      " 8   country             object \n",
      " 9   sessionReferrer     object \n",
      " 10  userQualityLoyalty  object \n",
      " 11  pub_group           object \n",
      " 12  upperTaxonomy       object \n",
      " 13  alchemyTaxonomy     object \n",
      " 14  rcClicks            float64\n",
      " 15  spClicks            float64\n",
      " 16  date                int64  \n",
      " 17  clicks              int64  \n",
      " 18  pvs                 int64  \n",
      " 19  session_depth       int64  \n",
      "dtypes: float64(2), int64(6), object(12)\n",
      "memory usage: 271.1+ MB\n"
     ]
    }
   ],
   "source": [
    "combined_df.info()"
   ]
  },
  {
   "cell_type": "markdown",
   "metadata": {},
   "source": [
    "# Handling missing values"
   ]
  },
  {
   "cell_type": "code",
   "execution_count": 89,
   "metadata": {},
   "outputs": [
    {
     "name": "stdout",
     "output_type": "stream",
     "text": [
      "region => 3125\n",
      "country => 27\n"
     ]
    }
   ],
   "source": [
    "def missing_cols(df):\n",
    "    '''prints out columns with its amount of missing values'''\n",
    "    total = 0\n",
    "    for col in df.columns:\n",
    "        missing_vals = df[col].isnull().sum()\n",
    "        total += missing_vals\n",
    "        if missing_vals != 0:\n",
    "            print(f\"{col} => {df[col].isnull().sum()}\")\n",
    "    \n",
    "    if total == 0:\n",
    "        print(\"no missing values left\")\n",
    "            \n",
    "missing_cols(combined_df)"
   ]
  },
  {
   "cell_type": "code",
   "execution_count": 90,
   "metadata": {},
   "outputs": [
    {
     "name": "stdout",
     "output_type": "stream",
     "text": [
      "region => 0.18%\n",
      "country => 0.0%\n"
     ]
    }
   ],
   "source": [
    "def perc_missing(df):\n",
    "    '''prints out columns with missing values with its %'''\n",
    "    for col in df.columns:\n",
    "        pct = df[col].isna().mean() * 100\n",
    "        if (pct != 0):\n",
    "            print('{} => {}%'.format(col, round(pct, 2)))\n",
    "    \n",
    "perc_missing(combined_df)"
   ]
  },
  {
   "cell_type": "markdown",
   "metadata": {},
   "source": [
    "## Inferring features\n",
    "Inferring features that are associated with user according to other records of the same user."
   ]
  },
  {
   "cell_type": "code",
   "execution_count": 91,
   "metadata": {},
   "outputs": [],
   "source": [
    "def infer_feature_by_user(feature_name):\n",
    "    combined_df[feature_name] = combined_df.groupby('userId')[feature_name].transform(lambda x: x.ffill().bfill())\n",
    "\n",
    "infer_feature_by_user('country')\n",
    "infer_feature_by_user('region')"
   ]
  },
  {
   "cell_type": "markdown",
   "metadata": {},
   "source": [
    "Now there is a very small number of rows without country, so it will not change much to drop them."
   ]
  },
  {
   "cell_type": "code",
   "execution_count": 95,
   "metadata": {},
   "outputs": [
    {
     "name": "stdout",
     "output_type": "stream",
     "text": [
      "no missing values left\n"
     ]
    }
   ],
   "source": [
    "combined_df = combined_df.dropna(subset=['country'])\n",
    "combined_df = combined_df.dropna(subset=['region'])\n",
    "\n",
    "missing_cols(combined_df)"
   ]
  },
  {
   "cell_type": "markdown",
   "metadata": {},
   "source": [
    "## Reduce memory usage:"
   ]
  },
  {
   "cell_type": "code",
   "execution_count": 262,
   "metadata": {},
   "outputs": [
    {
     "name": "stdout",
     "output_type": "stream",
     "text": [
      "<class 'pandas.core.frame.DataFrame'>\n",
      "Int64Index: 1691896 entries, 1758002 to 571747\n",
      "Data columns (total 19 columns):\n",
      " #   Column              Dtype  \n",
      "---  ------              -----  \n",
      " 0   sourceItemId        int64  \n",
      " 1   itemId              int64  \n",
      " 2   placement           object \n",
      " 3   userId              object \n",
      " 4   publisherId         object \n",
      " 5   publisherLanguage   object \n",
      " 6   city                object \n",
      " 7   region              object \n",
      " 8   country             object \n",
      " 9   sessionReferrer     object \n",
      " 10  userQualityLoyalty  object \n",
      " 11  upperTaxonomy       object \n",
      " 12  alchemyTaxonomy     object \n",
      " 13  rcClicks            float64\n",
      " 14  spClicks            float64\n",
      " 15  date                int64  \n",
      " 16  clicks              int64  \n",
      " 17  pvs                 int64  \n",
      " 18  session_depth       int64  \n",
      "dtypes: float64(2), int64(6), object(11)\n",
      "memory usage: 290.4+ MB\n"
     ]
    }
   ],
   "source": [
    "combined_df.info()"
   ]
  },
  {
   "cell_type": "code",
   "execution_count": 263,
   "metadata": {},
   "outputs": [
    {
     "name": "stdout",
     "output_type": "stream",
     "text": [
      "<class 'pandas.core.frame.DataFrame'>\n",
      "Int64Index: 1691896 entries, 1758002 to 571747\n",
      "Data columns (total 19 columns):\n",
      " #   Column              Dtype   \n",
      "---  ------              -----   \n",
      " 0   sourceItemId        int64   \n",
      " 1   itemId              int64   \n",
      " 2   placement           category\n",
      " 3   userId              object  \n",
      " 4   publisherId         object  \n",
      " 5   publisherLanguage   category\n",
      " 6   city                category\n",
      " 7   region              category\n",
      " 8   country             category\n",
      " 9   sessionReferrer     category\n",
      " 10  userQualityLoyalty  category\n",
      " 11  upperTaxonomy       category\n",
      " 12  alchemyTaxonomy     category\n",
      " 13  rcClicks            float32 \n",
      " 14  spClicks            float32 \n",
      " 15  date                int32   \n",
      " 16  clicks              int32   \n",
      " 17  pvs                 int32   \n",
      " 18  session_depth       int32   \n",
      "dtypes: category(9), float32(2), int32(4), int64(2), object(2)\n",
      "memory usage: 164.0+ MB\n"
     ]
    }
   ],
   "source": [
    "combined_df[\"rcClicks\"] = combined_df[\"rcClicks\"].astype('float32')\n",
    "combined_df[\"spClicks\"] = combined_df[\"spClicks\"].astype('float32')\n",
    "combined_df[\"clicks\"] = combined_df[\"clicks\"].astype('int32')\n",
    "combined_df[\"date\"] = combined_df[\"date\"].astype('int32')\n",
    "combined_df[\"pvs\"] = combined_df[\"pvs\"].astype('int32')\n",
    "combined_df[\"session_depth\"] = combined_df[\"session_depth\"].astype('int32')\n",
    "combined_df[\"userQualityLoyalty\"] = combined_df[\"userQualityLoyalty\"].astype('category')\n",
    "combined_df[\"placement\"] = combined_df[\"placement\"].astype('category')\n",
    "combined_df[\"publisherLanguage\"] = combined_df[\"publisherLanguage\"].astype('category')\n",
    "combined_df[\"city\"] = combined_df[\"city\"].astype('category')\n",
    "combined_df[\"region\"] = combined_df[\"region\"].astype('category')\n",
    "combined_df[\"country\"] = combined_df[\"country\"].astype('category')\n",
    "combined_df[\"sessionReferrer\"] = combined_df[\"sessionReferrer\"].astype('category')\n",
    "combined_df[\"upperTaxonomy\"] = combined_df[\"upperTaxonomy\"].astype('category')\n",
    "combined_df[\"alchemyTaxonomy\"] = combined_df[\"alchemyTaxonomy\"].astype('category')\n",
    "combined_df.info()"
   ]
  },
  {
   "cell_type": "code",
   "execution_count": 24,
   "metadata": {},
   "outputs": [
    {
     "data": {
      "text/plain": [
       "o_non_en    1399991\n",
       "Name: pub_group, dtype: int64"
      ]
     },
     "execution_count": 24,
     "metadata": {},
     "output_type": "execute_result"
    }
   ],
   "source": [
    "combined_df[\"pub_group\"].value_counts()"
   ]
  },
  {
   "cell_type": "markdown",
   "metadata": {},
   "source": [
    "All records share the same publisher group- no information is given with this feature."
   ]
  },
  {
   "cell_type": "code",
   "execution_count": 225,
   "metadata": {},
   "outputs": [],
   "source": [
    "combined_df = combined_df.drop([\"pub_group\"], axis=1)"
   ]
  },
  {
   "cell_type": "markdown",
   "metadata": {},
   "source": [
    "## Categorize features"
   ]
  },
  {
   "cell_type": "code",
   "execution_count": 83,
   "metadata": {},
   "outputs": [],
   "source": [
    "combined_df[\"sessionReferrer\"] = combined_df[\"sessionReferrer\"].astype('str')"
   ]
  },
  {
   "cell_type": "code",
   "execution_count": 88,
   "metadata": {},
   "outputs": [
    {
     "data": {
      "text/plain": [
       "OTHER            1211656\n",
       "SEARCH ENGINE     501367\n",
       "SOCIAL MEDIA       28095\n",
       "TABOOLA             8882\n",
       "Name: sessionReferrer, dtype: int64"
      ]
     },
     "execution_count": 88,
     "metadata": {},
     "output_type": "execute_result"
    }
   ],
   "source": [
    "mapping = {\n",
    "    'google': 'SEARCH ENGINE',\n",
    "    'bing': 'SEARCH ENGINE',\n",
    "    'yahoo': 'SEARCH ENGINE',\n",
    "    'baidu' : 'SEARCH ENGINE',\n",
    "    'yandex' : 'SEARCH ENGINE',\n",
    "    'duckduckgo' : 'SEARCH ENGINE',\n",
    "    'aol' : 'SEARCH ENGINE',\n",
    "    'naver' : 'SEARCH ENGINE',\n",
    "    'seznam.cz' : 'SEARCH ENGINE',\n",
    "    'facebook': 'SOCIAL MEDIA',\n",
    "    'twitter': 'SOCIAL MEDIA',\n",
    "    'instagram': 'SOCIAL MEDIA',\n",
    "    'linkedin' : 'SOCIAL MEDIA',\n",
    "    'threads' : 'SOCIAL MEDIA',\n",
    "    'taboola' : 'TABOOLA', \n",
    "    '_sessionPending_' : 'OTHER'\n",
    "}\n",
    "\n",
    "# Function to replace keywords based on the mapping\n",
    "def replace_keywords(referrer):\n",
    "    if referrer in mapping.values():\n",
    "            return referrer\n",
    "    for keyword, replacement in mapping.items():\n",
    "        if keyword in referrer.lower():\n",
    "            return replacement\n",
    "    return 'OTHER'\n",
    "\n",
    "\n",
    "combined_df['sessionReferrer'] = combined_df['sessionReferrer'].apply(replace_keywords)\n",
    "\n",
    "combined_df['sessionReferrer'].value_counts()"
   ]
  },
  {
   "cell_type": "code",
   "execution_count": 248,
   "metadata": {},
   "outputs": [
    {
     "data": {
      "text/plain": [
       "NEWS             591911\n",
       "ENTERTAINMENT    351570\n",
       "LIFE             333765\n",
       "SPORTS           221758\n",
       "BUSINESS          81363\n",
       "TECH              50914\n",
       "OPINIONS          29323\n",
       "INDIA             14354\n",
       "AUTOS             12242\n",
       "VIRAL              2425\n",
       "ENVIRONMENT         901\n",
       "HUMOR               613\n",
       "HISTORY             533\n",
       "TOP-NEWS            117\n",
       "OBSOLETE             70\n",
       "PODCASTS             37\n",
       "Name: upperTaxonomy, dtype: int64"
      ]
     },
     "execution_count": 248,
     "metadata": {},
     "output_type": "execute_result"
    }
   ],
   "source": [
    "def slice_sub_subjects(s : str):\n",
    "    idx = s.find('~')\n",
    "    if idx == -1:\n",
    "        return s\n",
    "    return s[ : idx]\n",
    "\n",
    "combined_df['upperTaxonomy'] = combined_df['upperTaxonomy'].apply(slice_sub_subjects)\n",
    "combined_df['upperTaxonomy'].value_counts()"
   ]
  },
  {
   "cell_type": "code",
   "execution_count": 249,
   "metadata": {},
   "outputs": [
    {
     "data": {
      "text/plain": [
       "NEWS             592028\n",
       "ENTERTAINMENT    351570\n",
       "LIFE             333765\n",
       "SPORTS           221758\n",
       "BUSINESS          81363\n",
       "TECH              50914\n",
       "OPINIONS          29323\n",
       "INDIA             14354\n",
       "AUTOS             12242\n",
       "VIRAL              2425\n",
       "ENVIRONMENT         901\n",
       "HUMOR               613\n",
       "HISTORY             533\n",
       "OBSOLETE             70\n",
       "PODCASTS             37\n",
       "Name: upperTaxonomy, dtype: int64"
      ]
     },
     "execution_count": 249,
     "metadata": {},
     "output_type": "execute_result"
    }
   ],
   "source": [
    "combined_df['upperTaxonomy'].replace(\"TOP-NEWS\", \"NEWS\", inplace=True)\n",
    "combined_df['upperTaxonomy'].value_counts()"
   ]
  },
  {
   "cell_type": "code",
   "execution_count": 276,
   "metadata": {},
   "outputs": [],
   "source": [
    "combined_df_v2 = combined_df.copy()"
   ]
  },
  {
   "cell_type": "code",
   "execution_count": 277,
   "metadata": {},
   "outputs": [
    {
     "data": {
      "text/plain": [
       "Explore More                                       852225\n",
       "Below Article Thumbnails                           212365\n",
       "Below Article Thumbnails AMP                        92511\n",
       "Below Article Thumbnails SP                         84092\n",
       "SDK JS Article Feed ND                              45095\n",
       "                                                    ...  \n",
       "Below Article Thumbnails Dark                           1\n",
       "Mobile Mid HP Thumbnails ND                             1\n",
       "Mobile Below Regio Feed - Video_2021 Dark Mode          1\n",
       "Endless Article VOD                                     1\n",
       "Below Video Thumbnails LTV                              1\n",
       "Name: placement, Length: 379, dtype: int64"
      ]
     },
     "execution_count": 277,
     "metadata": {},
     "output_type": "execute_result"
    }
   ],
   "source": [
    "def slice_sub_placement(s : str):\n",
    "    idx = s.find('|')\n",
    "    if idx == -1:\n",
    "        return s\n",
    "    return s[ : idx]\n",
    "\n",
    "combined_df_v2['placement'] = combined_df_v2['placement'].apply(slice_sub_placement)\n",
    "combined_df_v2['placement'].value_counts()"
   ]
  },
  {
   "cell_type": "markdown",
   "metadata": {},
   "source": [
    "# Handling anomalies"
   ]
  },
  {
   "cell_type": "markdown",
   "metadata": {},
   "source": [
    "## Detedcting anomalies"
   ]
  },
  {
   "cell_type": "code",
   "execution_count": 26,
   "metadata": {},
   "outputs": [
    {
     "data": {
      "text/plain": [
       "count    1.119503e+06\n",
       "mean     2.297707e+01\n",
       "std      4.038362e+01\n",
       "min      0.000000e+00\n",
       "25%      2.000000e+00\n",
       "50%      9.000000e+00\n",
       "75%      2.600000e+01\n",
       "max      1.440000e+03\n",
       "Name: rcClicks, dtype: float64"
      ]
     },
     "execution_count": 26,
     "metadata": {},
     "output_type": "execute_result"
    }
   ],
   "source": [
    "combined_df[combined_df[\"rcClicks\"].notnull()][\"rcClicks\"].describe()"
   ]
  },
  {
   "cell_type": "code",
   "execution_count": 224,
   "metadata": {},
   "outputs": [
    {
     "data": {
      "text/plain": [
       "<Figure size 1000x600 with 0 Axes>"
      ]
     },
     "metadata": {},
     "output_type": "display_data"
    },
    {
     "data": {
      "image/png": "[encoded data removed]",
      "text/plain": [
       "<Figure size 640x480 with 1 Axes>"
      ]
     },
     "metadata": {},
     "output_type": "display_data"
    }
   ],
   "source": [
    "plt.figure(figsize=(10, 6))\n",
    "combined_df.hist(column=['rcClicks'], bins= 100)\n",
    "plt.yscale('log')\n"
   ]
  },
  {
   "cell_type": "code",
   "execution_count": 175,
   "metadata": {},
   "outputs": [
    {
     "data": {
      "text/plain": [
       "<Figure size 1000x600 with 0 Axes>"
      ]
     },
     "metadata": {},
     "output_type": "display_data"
    },
    {
     "data": {
      "image/png": "[encoded data removed]",
      "text/plain": [
       "<Figure size 640x480 with 1 Axes>"
      ]
     },
     "metadata": {},
     "output_type": "display_data"
    }
   ],
   "source": [
    "plt.figure(figsize=(10, 6))\n",
    "combined_df.hist(column=['spClicks'], bins=100)\n",
    "plt.yscale('log')\n"
   ]
  },
  {
   "cell_type": "code",
   "execution_count": 127,
   "metadata": {},
   "outputs": [
    {
     "data": {
      "text/plain": [
       "<Figure size 1000x600 with 0 Axes>"
      ]
     },
     "metadata": {},
     "output_type": "display_data"
    },
    {
     "data": {
      "image/png": "[encoded data removed]",
      "text/plain": [
       "<Figure size 640x480 with 1 Axes>"
      ]
     },
     "metadata": {},
     "output_type": "display_data"
    }
   ],
   "source": [
    "plt.figure(figsize=(10, 6))\n",
    "combined_df.hist(column=['pvs'], bins=40)\n",
    "plt.yscale('log')\n"
   ]
  },
  {
   "cell_type": "code",
   "execution_count": 223,
   "metadata": {},
   "outputs": [
    {
     "data": {
      "text/plain": [
       "0    1524509\n",
       "1     167387\n",
       "Name: clicks, dtype: int64"
      ]
     },
     "execution_count": 223,
     "metadata": {},
     "output_type": "execute_result"
    }
   ],
   "source": [
    "combined_df[\"clicks\"].value_counts()"
   ]
  },
  {
   "cell_type": "markdown",
   "metadata": {},
   "source": [
    "## handling outliers\n",
    "In both spClicks and rcClicks there are clear outliers- a very small amount of samples with extremely large values."
   ]
  },
  {
   "cell_type": "code",
   "execution_count": 176,
   "metadata": {},
   "outputs": [],
   "source": [
    "z_score = zscore(combined_df['rcClicks'])\n",
    "\n",
    "combined_df = combined_df[z_score <= 3.5]"
   ]
  },
  {
   "cell_type": "code",
   "execution_count": 187,
   "metadata": {},
   "outputs": [
    {
     "data": {
      "text/plain": [
       "<Figure size 1000x600 with 0 Axes>"
      ]
     },
     "metadata": {},
     "output_type": "display_data"
    },
    {
     "data": {
      "image/png": "[encoded data removed]",
      "text/plain": [
       "<Figure size 640x480 with 1 Axes>"
      ]
     },
     "metadata": {},
     "output_type": "display_data"
    }
   ],
   "source": [
    "plt.figure(figsize=(10, 6))\n",
    "combined_df.hist(column=['rcClicks'], bins= 100)\n",
    "plt.yscale('log')\n"
   ]
  },
  {
   "cell_type": "code",
   "execution_count": 185,
   "metadata": {},
   "outputs": [],
   "source": [
    "z_score_spClicks = zscore(combined_df['spClicks'])\n",
    "\n",
    "combined_df = combined_df[z_score_spClicks <= 3.5]"
   ]
  },
  {
   "cell_type": "code",
   "execution_count": 186,
   "metadata": {},
   "outputs": [
    {
     "data": {
      "text/plain": [
       "<Figure size 1000x600 with 0 Axes>"
      ]
     },
     "metadata": {},
     "output_type": "display_data"
    },
    {
     "data": {
      "image/png": "[encoded data removed]",
      "text/plain": [
       "<Figure size 640x480 with 1 Axes>"
      ]
     },
     "metadata": {},
     "output_type": "display_data"
    }
   ],
   "source": [
    "plt.figure(figsize=(10, 6))\n",
    "combined_df.hist(column=['spClicks'], bins= 100)\n",
    "plt.yscale('log')"
   ]
  },
  {
   "cell_type": "markdown",
   "metadata": {},
   "source": [
    "# Limit Sparse Features"
   ]
  },
  {
   "cell_type": "code",
   "execution_count": 220,
   "metadata": {},
   "outputs": [],
   "source": [
    "def limit_sparse_feature(feature_name, threshold):\n",
    "    feature_counts = combined_df[feature_name].value_counts()\n",
    "\n",
    "    values_to_replace = feature_counts[feature_counts < threshold].index\n",
    "\n",
    "    combined_df[feature_name] = combined_df[feature_name].replace(values_to_replace, 'OTHER')\n"
   ]
  },
  {
   "cell_type": "code",
   "execution_count": 155,
   "metadata": {},
   "outputs": [],
   "source": [
    "limit_sparse_feature(\"country\", 10)"
   ]
  },
  {
   "cell_type": "code",
   "execution_count": 221,
   "metadata": {},
   "outputs": [
    {
     "name": "stderr",
     "output_type": "stream",
     "text": [
      "C:\\Users\\ofri\\AppData\\Local\\Temp\\ipykernel_2028\\1593950919.py:6: SettingWithCopyWarning: \n",
      "A value is trying to be set on a copy of a slice from a DataFrame.\n",
      "Try using .loc[row_indexer,col_indexer] = value instead\n",
      "\n",
      "See the caveats in the documentation: https://pandas.pydata.org/pandas-docs/stable/user_guide/indexing.html#returning-a-view-versus-a-copy\n",
      "  combined_df[feature_name] = combined_df[feature_name].replace(values_to_replace, 'OTHER')\n"
     ]
    },
    {
     "data": {
      "image/png": "[encoded data removed]",
      "text/plain": [
       "<Figure size 640x480 with 1 Axes>"
      ]
     },
     "metadata": {},
     "output_type": "display_data"
    }
   ],
   "source": [
    "limit_sparse_feature('region', 20)\n",
    "plt.figure()\n",
    "region_value_counts = combined_df['region'].value_counts().values\n",
    "plt.hist(region_value_counts, bins=100)\n",
    "plt.yscale('log')"
   ]
  },
  {
   "cell_type": "code",
   "execution_count": 212,
   "metadata": {},
   "outputs": [
    {
     "name": "stdout",
     "output_type": "stream",
     "text": [
      "Index(['bossoroca', 'algorta', 'petrosino', 'chabeuil', 'tibau do sul',\n",
      "       'huttwil', 'kale', 'villabruna', 'sterling', 'beckdorf',\n",
      "       ...\n",
      "       'westborough', 'sainte-marie-du-mont', 'saulny', 'vernon hills', 'hode',\n",
      "       'subotica', 'ljungby', 'serra da silveira', 'gerderest', 'sequals'],\n",
      "      dtype='object', length=44344)\n"
     ]
    },
    {
     "data": {
      "text/plain": [
       "0.08721990004113728"
      ]
     },
     "execution_count": 212,
     "metadata": {},
     "output_type": "execute_result"
    }
   ],
   "source": [
    "city_value_counts = combined_df['city'].value_counts()\n",
    "sparse_values = city_value_counts[city_value_counts < 10].index\n",
    "len(combined_df[combined_df['city'].isin(sparse_values)]) / len(combined_df)"
   ]
  },
  {
   "cell_type": "code",
   "execution_count": 234,
   "metadata": {},
   "outputs": [],
   "source": [
    "df_exploded = combined_df['upperTaxonomy'].str.split('~', expand=True).stack().reset_index(level=1, drop=True).rename('Category')\n",
    "# # Create a count plot using seaborn\n",
    "# sns.set(style=\"darkgrid\")\n",
    "# plt.figure(figsize=(8, 6))\n",
    "# sns.countplot(x=df_exploded, palette=\"viridis\")\n",
    "\n",
    "# # Show the plot\n",
    "# plt.title('Distribution of Categories')\n",
    "# plt.show()"
   ]
  },
  {
   "cell_type": "markdown",
   "metadata": {},
   "source": [
    "# version"
   ]
  },
  {
   "cell_type": "code",
   "execution_count": 251,
   "metadata": {},
   "outputs": [],
   "source": [
    "combined_df.to_csv(\"mid-processed-data.csv\", index=False)"
   ]
  },
  {
   "cell_type": "markdown",
   "metadata": {},
   "source": [
    "# Building First Model"
   ]
  },
  {
   "cell_type": "markdown",
   "metadata": {},
   "source": [
    "### Dropping Irrelevant Features"
   ]
  },
  {
   "cell_type": "code",
   "execution_count": 315,
   "metadata": {},
   "outputs": [],
   "source": [
    "data = combined_df"
   ]
  },
  {
   "cell_type": "markdown",
   "metadata": {},
   "source": [
    "### Split Train Test"
   ]
  },
  {
   "cell_type": "code",
   "execution_count": 316,
   "metadata": {},
   "outputs": [],
   "source": [
    "labels = data['clicks']\n",
    "data = data.drop('clicks', axis=1)"
   ]
  },
  {
   "cell_type": "code",
   "execution_count": 317,
   "metadata": {},
   "outputs": [],
   "source": [
    "X_train, X_test, y_train, y_test = train_test_split(data, labels, test_size= 0.2, random_state=42)"
   ]
  },
  {
   "cell_type": "markdown",
   "metadata": {},
   "source": [
    "### Create And Fit Model"
   ]
  },
  {
   "cell_type": "code",
   "execution_count": 318,
   "metadata": {},
   "outputs": [
    {
     "name": "stdout",
     "output_type": "stream",
     "text": [
      "<class 'pandas.core.frame.DataFrame'>\n",
      "Int64Index: 1691896 entries, 1758002 to 571747\n",
      "Data columns (total 18 columns):\n",
      " #   Column              Dtype   \n",
      "---  ------              -----   \n",
      " 0   sourceItemId        int64   \n",
      " 1   itemId              int64   \n",
      " 2   placement           category\n",
      " 3   userId              object  \n",
      " 4   publisherId         object  \n",
      " 5   publisherLanguage   category\n",
      " 6   city                category\n",
      " 7   region              category\n",
      " 8   country             category\n",
      " 9   sessionReferrer     category\n",
      " 10  userQualityLoyalty  category\n",
      " 11  upperTaxonomy       category\n",
      " 12  alchemyTaxonomy     category\n",
      " 13  rcClicks            float32 \n",
      " 14  spClicks            float32 \n",
      " 15  date                int32   \n",
      " 16  pvs                 int32   \n",
      " 17  session_depth       int32   \n",
      "dtypes: category(9), float32(2), int32(3), int64(2), object(2)\n",
      "memory usage: 157.6+ MB\n"
     ]
    }
   ],
   "source": [
    "data.info()"
   ]
  },
  {
   "cell_type": "code",
   "execution_count": 337,
   "metadata": {},
   "outputs": [],
   "source": [
    "model = CatBoostClassifier(depth=6,  learning_rate= 0.1, num_trees=200 , cat_features= ['placement', 'publisherLanguage', 'city', 'region', 'country', 'sessionReferrer', 'userQualityLoyalty', 'upperTaxonomy', 'alchemyTaxonomy', \"userId\", \"publisherId\", \"sourceItemId\", \"itemId\"])"
   ]
  },
  {
   "cell_type": "code",
   "execution_count": 338,
   "metadata": {},
   "outputs": [
    {
     "name": "stdout",
     "output_type": "stream",
     "text": [
      "0:\tlearn: 0.6060392\ttotal: 1.9s\tremaining: 6m 17s\n",
      "1:\tlearn: 0.5399875\ttotal: 6.04s\tremaining: 9m 58s\n",
      "2:\tlearn: 0.4884244\ttotal: 8.19s\tremaining: 8m 57s\n",
      "3:\tlearn: 0.4478757\ttotal: 10.9s\tremaining: 8m 56s\n",
      "4:\tlearn: 0.4180294\ttotal: 13.6s\tremaining: 8m 51s\n",
      "5:\tlearn: 0.3961005\ttotal: 14.6s\tremaining: 7m 52s\n",
      "6:\tlearn: 0.3770710\ttotal: 17.3s\tremaining: 7m 55s\n",
      "7:\tlearn: 0.3622769\ttotal: 21.2s\tremaining: 8m 29s\n",
      "8:\tlearn: 0.3506751\ttotal: 25.3s\tremaining: 8m 56s\n",
      "9:\tlearn: 0.3414364\ttotal: 27.5s\tremaining: 8m 42s\n",
      "10:\tlearn: 0.3335903\ttotal: 30.1s\tremaining: 8m 36s\n",
      "11:\tlearn: 0.3281914\ttotal: 32.1s\tremaining: 8m 22s\n",
      "12:\tlearn: 0.3236172\ttotal: 35.7s\tremaining: 8m 33s\n",
      "13:\tlearn: 0.3198104\ttotal: 39.2s\tremaining: 8m 40s\n",
      "14:\tlearn: 0.3166612\ttotal: 42.5s\tremaining: 8m 43s\n",
      "15:\tlearn: 0.3139959\ttotal: 45.5s\tremaining: 8m 42s\n",
      "16:\tlearn: 0.3119206\ttotal: 48.9s\tremaining: 8m 46s\n",
      "17:\tlearn: 0.3100519\ttotal: 51.9s\tremaining: 8m 44s\n",
      "18:\tlearn: 0.3087549\ttotal: 54.9s\tremaining: 8m 43s\n",
      "19:\tlearn: 0.3074202\ttotal: 58.5s\tremaining: 8m 46s\n",
      "20:\tlearn: 0.3064560\ttotal: 1m 1s\tremaining: 8m 46s\n",
      "21:\tlearn: 0.3055355\ttotal: 1m 5s\tremaining: 8m 50s\n",
      "22:\tlearn: 0.3049760\ttotal: 1m 6s\tremaining: 8m 32s\n",
      "23:\tlearn: 0.3044004\ttotal: 1m 11s\tremaining: 8m 41s\n",
      "24:\tlearn: 0.3038445\ttotal: 1m 14s\tremaining: 8m 42s\n",
      "25:\tlearn: 0.3033788\ttotal: 1m 18s\tremaining: 8m 44s\n",
      "26:\tlearn: 0.3029140\ttotal: 1m 20s\tremaining: 8m 32s\n",
      "27:\tlearn: 0.3025375\ttotal: 1m 21s\tremaining: 8m 23s\n",
      "28:\tlearn: 0.3019265\ttotal: 1m 27s\tremaining: 8m 34s\n",
      "29:\tlearn: 0.3014435\ttotal: 1m 31s\tremaining: 8m 40s\n",
      "30:\tlearn: 0.3010490\ttotal: 1m 37s\tremaining: 8m 53s\n",
      "31:\tlearn: 0.3007439\ttotal: 1m 42s\tremaining: 8m 59s\n",
      "32:\tlearn: 0.3004431\ttotal: 1m 45s\tremaining: 8m 56s\n",
      "33:\tlearn: 0.3001386\ttotal: 1m 51s\tremaining: 9m 5s\n",
      "34:\tlearn: 0.2999123\ttotal: 1m 56s\tremaining: 9m 9s\n",
      "35:\tlearn: 0.2997186\ttotal: 1m 59s\tremaining: 9m 3s\n",
      "36:\tlearn: 0.2994914\ttotal: 2m 4s\tremaining: 9m 9s\n",
      "37:\tlearn: 0.2992971\ttotal: 2m 9s\tremaining: 9m 13s\n",
      "38:\tlearn: 0.2990992\ttotal: 2m 15s\tremaining: 9m 18s\n",
      "39:\tlearn: 0.2989280\ttotal: 2m 20s\tremaining: 9m 22s\n",
      "40:\tlearn: 0.2986379\ttotal: 2m 26s\tremaining: 9m 29s\n",
      "41:\tlearn: 0.2984105\ttotal: 2m 33s\tremaining: 9m 35s\n",
      "42:\tlearn: 0.2981935\ttotal: 2m 38s\tremaining: 9m 38s\n",
      "43:\tlearn: 0.2980579\ttotal: 2m 44s\tremaining: 9m 43s\n",
      "44:\tlearn: 0.2978831\ttotal: 2m 50s\tremaining: 9m 46s\n",
      "45:\tlearn: 0.2977358\ttotal: 2m 55s\tremaining: 9m 49s\n",
      "46:\tlearn: 0.2976411\ttotal: 3m 1s\tremaining: 9m 51s\n",
      "47:\tlearn: 0.2975122\ttotal: 3m 8s\tremaining: 9m 58s\n",
      "48:\tlearn: 0.2974313\ttotal: 3m 15s\tremaining: 10m 3s\n",
      "49:\tlearn: 0.2973316\ttotal: 3m 19s\tremaining: 9m 58s\n",
      "50:\tlearn: 0.2972672\ttotal: 3m 25s\tremaining: 10m\n",
      "51:\tlearn: 0.2971702\ttotal: 3m 31s\tremaining: 10m 1s\n",
      "52:\tlearn: 0.2971023\ttotal: 3m 35s\tremaining: 9m 58s\n",
      "53:\tlearn: 0.2970245\ttotal: 3m 40s\tremaining: 9m 55s\n",
      "54:\tlearn: 0.2969626\ttotal: 3m 48s\tremaining: 10m 3s\n",
      "55:\tlearn: 0.2968884\ttotal: 3m 53s\tremaining: 9m 59s\n",
      "56:\tlearn: 0.2968213\ttotal: 3m 57s\tremaining: 9m 56s\n",
      "57:\tlearn: 0.2967722\ttotal: 4m 2s\tremaining: 9m 53s\n",
      "58:\tlearn: 0.2966413\ttotal: 4m 8s\tremaining: 9m 54s\n",
      "59:\tlearn: 0.2965880\ttotal: 4m 13s\tremaining: 9m 51s\n",
      "60:\tlearn: 0.2965107\ttotal: 4m 17s\tremaining: 9m 47s\n",
      "61:\tlearn: 0.2964697\ttotal: 4m 21s\tremaining: 9m 42s\n",
      "62:\tlearn: 0.2964261\ttotal: 4m 26s\tremaining: 9m 39s\n",
      "63:\tlearn: 0.2963698\ttotal: 4m 32s\tremaining: 9m 39s\n",
      "64:\tlearn: 0.2963250\ttotal: 4m 38s\tremaining: 9m 38s\n",
      "65:\tlearn: 0.2962658\ttotal: 4m 43s\tremaining: 9m 35s\n",
      "66:\tlearn: 0.2962267\ttotal: 4m 48s\tremaining: 9m 32s\n",
      "67:\tlearn: 0.2961824\ttotal: 4m 55s\tremaining: 9m 33s\n",
      "68:\tlearn: 0.2961206\ttotal: 4m 58s\tremaining: 9m 27s\n",
      "69:\tlearn: 0.2960821\ttotal: 5m 2s\tremaining: 9m 22s\n",
      "70:\tlearn: 0.2960448\ttotal: 5m 8s\tremaining: 9m 19s\n",
      "71:\tlearn: 0.2960063\ttotal: 5m 13s\tremaining: 9m 17s\n",
      "72:\tlearn: 0.2959782\ttotal: 5m 20s\tremaining: 9m 17s\n",
      "73:\tlearn: 0.2959568\ttotal: 5m 25s\tremaining: 9m 13s\n",
      "74:\tlearn: 0.2959256\ttotal: 5m 29s\tremaining: 9m 9s\n",
      "75:\tlearn: 0.2958941\ttotal: 5m 35s\tremaining: 9m 7s\n",
      "76:\tlearn: 0.2957128\ttotal: 5m 43s\tremaining: 9m 8s\n",
      "77:\tlearn: 0.2956741\ttotal: 5m 47s\tremaining: 9m 3s\n",
      "78:\tlearn: 0.2956421\ttotal: 5m 53s\tremaining: 9m 1s\n",
      "79:\tlearn: 0.2956093\ttotal: 5m 59s\tremaining: 8m 58s\n",
      "80:\tlearn: 0.2955595\ttotal: 6m 3s\tremaining: 8m 54s\n",
      "81:\tlearn: 0.2955334\ttotal: 6m 9s\tremaining: 8m 52s\n",
      "82:\tlearn: 0.2954959\ttotal: 6m 16s\tremaining: 8m 51s\n",
      "83:\tlearn: 0.2954730\ttotal: 6m 20s\tremaining: 8m 45s\n",
      "84:\tlearn: 0.2954394\ttotal: 6m 29s\tremaining: 8m 46s\n",
      "85:\tlearn: 0.2954090\ttotal: 6m 38s\tremaining: 8m 48s\n",
      "86:\tlearn: 0.2953836\ttotal: 6m 43s\tremaining: 8m 44s\n",
      "87:\tlearn: 0.2953304\ttotal: 6m 52s\tremaining: 8m 45s\n",
      "88:\tlearn: 0.2952816\ttotal: 6m 58s\tremaining: 8m 41s\n",
      "89:\tlearn: 0.2952572\ttotal: 7m 4s\tremaining: 8m 38s\n",
      "90:\tlearn: 0.2952353\ttotal: 7m 8s\tremaining: 8m 33s\n",
      "91:\tlearn: 0.2952151\ttotal: 7m 13s\tremaining: 8m 29s\n",
      "92:\tlearn: 0.2951977\ttotal: 7m 17s\tremaining: 8m 23s\n",
      "93:\tlearn: 0.2951524\ttotal: 7m 23s\tremaining: 8m 19s\n",
      "94:\tlearn: 0.2951256\ttotal: 7m 29s\tremaining: 8m 16s\n",
      "95:\tlearn: 0.2951045\ttotal: 7m 33s\tremaining: 8m 11s\n",
      "96:\tlearn: 0.2950821\ttotal: 7m 38s\tremaining: 8m 6s\n",
      "97:\tlearn: 0.2950465\ttotal: 7m 42s\tremaining: 8m 1s\n",
      "98:\tlearn: 0.2950192\ttotal: 7m 49s\tremaining: 7m 59s\n",
      "99:\tlearn: 0.2949966\ttotal: 7m 54s\tremaining: 7m 54s\n",
      "100:\tlearn: 0.2949790\ttotal: 8m 2s\tremaining: 7m 53s\n",
      "101:\tlearn: 0.2949562\ttotal: 8m 7s\tremaining: 7m 48s\n",
      "102:\tlearn: 0.2949417\ttotal: 8m 12s\tremaining: 7m 43s\n",
      "103:\tlearn: 0.2949217\ttotal: 8m 17s\tremaining: 7m 38s\n",
      "104:\tlearn: 0.2949108\ttotal: 8m 22s\tremaining: 7m 34s\n",
      "105:\tlearn: 0.2948874\ttotal: 8m 29s\tremaining: 7m 31s\n",
      "106:\tlearn: 0.2948553\ttotal: 8m 35s\tremaining: 7m 28s\n",
      "107:\tlearn: 0.2948139\ttotal: 8m 41s\tremaining: 7m 24s\n",
      "108:\tlearn: 0.2947770\ttotal: 8m 49s\tremaining: 7m 21s\n",
      "109:\tlearn: 0.2947663\ttotal: 8m 54s\tremaining: 7m 17s\n",
      "110:\tlearn: 0.2947496\ttotal: 8m 58s\tremaining: 7m 12s\n",
      "111:\tlearn: 0.2947192\ttotal: 9m 4s\tremaining: 7m 7s\n",
      "112:\tlearn: 0.2946861\ttotal: 9m 9s\tremaining: 7m 2s\n",
      "113:\tlearn: 0.2946486\ttotal: 9m 16s\tremaining: 6m 59s\n",
      "114:\tlearn: 0.2946330\ttotal: 9m 20s\tremaining: 6m 54s\n",
      "115:\tlearn: 0.2946097\ttotal: 9m 31s\tremaining: 6m 53s\n",
      "116:\tlearn: 0.2945975\ttotal: 9m 36s\tremaining: 6m 49s\n",
      "117:\tlearn: 0.2945856\ttotal: 9m 41s\tremaining: 6m 43s\n",
      "118:\tlearn: 0.2945668\ttotal: 9m 45s\tremaining: 6m 38s\n",
      "119:\tlearn: 0.2945476\ttotal: 9m 51s\tremaining: 6m 34s\n",
      "120:\tlearn: 0.2944051\ttotal: 9m 59s\tremaining: 6m 31s\n",
      "121:\tlearn: 0.2943932\ttotal: 10m 9s\tremaining: 6m 29s\n",
      "122:\tlearn: 0.2943477\ttotal: 10m 16s\tremaining: 6m 25s\n",
      "123:\tlearn: 0.2943304\ttotal: 10m 22s\tremaining: 6m 21s\n",
      "124:\tlearn: 0.2942857\ttotal: 10m 29s\tremaining: 6m 17s\n",
      "125:\tlearn: 0.2942634\ttotal: 10m 35s\tremaining: 6m 13s\n",
      "126:\tlearn: 0.2942476\ttotal: 10m 40s\tremaining: 6m 7s\n",
      "127:\tlearn: 0.2942116\ttotal: 10m 46s\tremaining: 6m 3s\n",
      "128:\tlearn: 0.2941956\ttotal: 10m 52s\tremaining: 5m 59s\n",
      "129:\tlearn: 0.2941842\ttotal: 10m 59s\tremaining: 5m 55s\n",
      "130:\tlearn: 0.2941573\ttotal: 11m 7s\tremaining: 5m 51s\n",
      "131:\tlearn: 0.2941265\ttotal: 11m 13s\tremaining: 5m 47s\n",
      "132:\tlearn: 0.2941088\ttotal: 11m 23s\tremaining: 5m 44s\n",
      "133:\tlearn: 0.2940978\ttotal: 11m 29s\tremaining: 5m 39s\n",
      "134:\tlearn: 0.2940740\ttotal: 11m 36s\tremaining: 5m 35s\n",
      "135:\tlearn: 0.2940548\ttotal: 11m 44s\tremaining: 5m 31s\n",
      "136:\tlearn: 0.2940414\ttotal: 11m 52s\tremaining: 5m 27s\n",
      "137:\tlearn: 0.2940276\ttotal: 11m 57s\tremaining: 5m 22s\n",
      "138:\tlearn: 0.2940011\ttotal: 12m 5s\tremaining: 5m 18s\n",
      "139:\tlearn: 0.2938687\ttotal: 12m 12s\tremaining: 5m 13s\n",
      "140:\tlearn: 0.2938571\ttotal: 12m 18s\tremaining: 5m 9s\n",
      "141:\tlearn: 0.2938479\ttotal: 12m 22s\tremaining: 5m 3s\n",
      "142:\tlearn: 0.2938371\ttotal: 12m 29s\tremaining: 4m 58s\n",
      "143:\tlearn: 0.2937749\ttotal: 12m 39s\tremaining: 4m 55s\n",
      "144:\tlearn: 0.2937427\ttotal: 12m 48s\tremaining: 4m 51s\n",
      "145:\tlearn: 0.2937294\ttotal: 12m 55s\tremaining: 4m 46s\n",
      "146:\tlearn: 0.2937076\ttotal: 12m 59s\tremaining: 4m 41s\n",
      "147:\tlearn: 0.2936965\ttotal: 13m 6s\tremaining: 4m 36s\n",
      "148:\tlearn: 0.2936736\ttotal: 13m 14s\tremaining: 4m 32s\n",
      "149:\tlearn: 0.2936546\ttotal: 13m 21s\tremaining: 4m 27s\n",
      "150:\tlearn: 0.2936375\ttotal: 13m 29s\tremaining: 4m 22s\n",
      "151:\tlearn: 0.2936089\ttotal: 13m 36s\tremaining: 4m 17s\n",
      "152:\tlearn: 0.2936004\ttotal: 13m 41s\tremaining: 4m 12s\n",
      "153:\tlearn: 0.2935857\ttotal: 13m 47s\tremaining: 4m 7s\n",
      "154:\tlearn: 0.2935353\ttotal: 13m 55s\tremaining: 4m 2s\n",
      "155:\tlearn: 0.2935228\ttotal: 14m 1s\tremaining: 3m 57s\n",
      "156:\tlearn: 0.2934970\ttotal: 14m 7s\tremaining: 3m 52s\n",
      "157:\tlearn: 0.2934847\ttotal: 14m 11s\tremaining: 3m 46s\n",
      "158:\tlearn: 0.2934581\ttotal: 14m 19s\tremaining: 3m 41s\n",
      "159:\tlearn: 0.2934471\ttotal: 14m 25s\tremaining: 3m 36s\n",
      "160:\tlearn: 0.2934390\ttotal: 14m 30s\tremaining: 3m 30s\n",
      "161:\tlearn: 0.2933420\ttotal: 14m 37s\tremaining: 3m 25s\n",
      "162:\tlearn: 0.2933217\ttotal: 14m 44s\tremaining: 3m 20s\n",
      "163:\tlearn: 0.2933024\ttotal: 14m 49s\tremaining: 3m 15s\n",
      "164:\tlearn: 0.2932902\ttotal: 14m 55s\tremaining: 3m 9s\n",
      "165:\tlearn: 0.2932782\ttotal: 15m 1s\tremaining: 3m 4s\n",
      "166:\tlearn: 0.2932724\ttotal: 15m 7s\tremaining: 2m 59s\n",
      "167:\tlearn: 0.2932632\ttotal: 15m 13s\tremaining: 2m 53s\n",
      "168:\tlearn: 0.2932502\ttotal: 15m 19s\tremaining: 2m 48s\n",
      "169:\tlearn: 0.2932265\ttotal: 15m 25s\tremaining: 2m 43s\n",
      "170:\tlearn: 0.2932085\ttotal: 15m 34s\tremaining: 2m 38s\n",
      "171:\tlearn: 0.2931936\ttotal: 15m 38s\tremaining: 2m 32s\n",
      "172:\tlearn: 0.2931837\ttotal: 15m 45s\tremaining: 2m 27s\n",
      "173:\tlearn: 0.2931394\ttotal: 15m 55s\tremaining: 2m 22s\n",
      "174:\tlearn: 0.2931282\ttotal: 16m 1s\tremaining: 2m 17s\n",
      "175:\tlearn: 0.2930921\ttotal: 16m 10s\tremaining: 2m 12s\n",
      "176:\tlearn: 0.2930869\ttotal: 16m 16s\tremaining: 2m 6s\n",
      "177:\tlearn: 0.2930597\ttotal: 16m 22s\tremaining: 2m 1s\n",
      "178:\tlearn: 0.2929871\ttotal: 16m 29s\tremaining: 1m 56s\n",
      "179:\tlearn: 0.2929756\ttotal: 16m 36s\tremaining: 1m 50s\n",
      "180:\tlearn: 0.2929556\ttotal: 16m 43s\tremaining: 1m 45s\n",
      "181:\tlearn: 0.2929446\ttotal: 16m 48s\tremaining: 1m 39s\n",
      "182:\tlearn: 0.2929356\ttotal: 16m 57s\tremaining: 1m 34s\n",
      "183:\tlearn: 0.2929230\ttotal: 17m 1s\tremaining: 1m 28s\n",
      "184:\tlearn: 0.2929161\ttotal: 17m 7s\tremaining: 1m 23s\n",
      "185:\tlearn: 0.2928995\ttotal: 17m 15s\tremaining: 1m 17s\n",
      "186:\tlearn: 0.2928894\ttotal: 17m 22s\tremaining: 1m 12s\n",
      "187:\tlearn: 0.2928604\ttotal: 17m 31s\tremaining: 1m 7s\n",
      "188:\tlearn: 0.2928441\ttotal: 17m 39s\tremaining: 1m 1s\n",
      "189:\tlearn: 0.2928332\ttotal: 17m 45s\tremaining: 56.1s\n",
      "190:\tlearn: 0.2928196\ttotal: 17m 51s\tremaining: 50.5s\n",
      "191:\tlearn: 0.2928149\ttotal: 17m 57s\tremaining: 44.9s\n",
      "192:\tlearn: 0.2928072\ttotal: 18m 3s\tremaining: 39.3s\n",
      "193:\tlearn: 0.2928001\ttotal: 18m 8s\tremaining: 33.7s\n",
      "194:\tlearn: 0.2927886\ttotal: 18m 16s\tremaining: 28.1s\n",
      "195:\tlearn: 0.2927743\ttotal: 18m 26s\tremaining: 22.6s\n",
      "196:\tlearn: 0.2927614\ttotal: 18m 33s\tremaining: 17s\n",
      "197:\tlearn: 0.2927427\ttotal: 18m 39s\tremaining: 11.3s\n",
      "198:\tlearn: 0.2927127\ttotal: 18m 45s\tremaining: 5.65s\n",
      "199:\tlearn: 0.2927034\ttotal: 18m 50s\tremaining: 0us\n"
     ]
    },
    {
     "data": {
      "text/plain": [
       "<catboost.core.CatBoostClassifier at 0x1a2cbea0e80>"
      ]
     },
     "execution_count": 338,
     "metadata": {},
     "output_type": "execute_result"
    }
   ],
   "source": [
    "model.fit(X_train, y_train)"
   ]
  },
  {
   "cell_type": "code",
   "execution_count": 339,
   "metadata": {},
   "outputs": [],
   "source": [
    "y_pred = model.predict(X_test)"
   ]
  },
  {
   "cell_type": "code",
   "execution_count": 340,
   "metadata": {},
   "outputs": [
    {
     "data": {
      "text/plain": [
       "0.901403747266387"
      ]
     },
     "execution_count": 340,
     "metadata": {},
     "output_type": "execute_result"
    }
   ],
   "source": [
    "accuracy = accuracy_score(y_test, y_pred)\n",
    "accuracy"
   ]
  },
  {
   "cell_type": "markdown",
   "metadata": {},
   "source": [
    "100 trees, depth- 6 accuracy: 0.9010875347242745\n",
    "200 trees, depth- 6 accuracy: 0.901403747266387"
   ]
  },
  {
   "cell_type": "markdown",
   "metadata": {},
   "source": [
    "## Model V2"
   ]
  },
  {
   "cell_type": "markdown",
   "metadata": {},
   "source": [
    "### Dropping Irrelevant Features"
   ]
  },
  {
   "cell_type": "code",
   "execution_count": 279,
   "metadata": {},
   "outputs": [],
   "source": [
    "data_V2 = combined_df_v2.drop(['userId', 'publisherId', 'itemId', 'sourceItemId', 'date'], axis=1)\n",
    "labels_V2 = data_V2['clicks']\n",
    "data_V2 = data_V2.drop('clicks', axis=1)"
   ]
  },
  {
   "cell_type": "markdown",
   "metadata": {},
   "source": [
    "### Split Train Test"
   ]
  },
  {
   "cell_type": "code",
   "execution_count": 281,
   "metadata": {},
   "outputs": [],
   "source": [
    "X_train_V2, X_test_V2, y_train_V2, y_test_V2 = train_test_split(data_V2, labels_V2, test_size= 0.2, random_state=42)"
   ]
  },
  {
   "cell_type": "markdown",
   "metadata": {},
   "source": [
    "### Create And Fit Model"
   ]
  },
  {
   "cell_type": "code",
   "execution_count": 299,
   "metadata": {},
   "outputs": [],
   "source": [
    "cat_features_indices = ['placement', 'publisherLanguage', 'city', 'region', 'country', 'sessionReferrer', 'userQualityLoyalty', 'upperTaxonomy', 'alchemyTaxonomy']"
   ]
  },
  {
   "cell_type": "code",
   "execution_count": 304,
   "metadata": {},
   "outputs": [],
   "source": [
    "model_V2 = CatBoostClassifier(iterations=30, depth=3, learning_rate= 0.1, cat_features= ['placement', 'publisherLanguage', 'city', 'region', 'country', 'sessionReferrer', 'userQualityLoyalty', 'upperTaxonomy', 'alchemyTaxonomy'])"
   ]
  },
  {
   "cell_type": "code",
   "execution_count": 305,
   "metadata": {},
   "outputs": [
    {
     "name": "stdout",
     "output_type": "stream",
     "text": [
      "0:\tlearn: 0.6316216\ttotal: 686ms\tremaining: 19.9s\n",
      "1:\tlearn: 0.5817498\ttotal: 898ms\tremaining: 12.6s\n",
      "2:\tlearn: 0.5401440\ttotal: 1.6s\tremaining: 14.4s\n",
      "3:\tlearn: 0.5055643\ttotal: 1.97s\tremaining: 12.8s\n",
      "4:\tlearn: 0.4765570\ttotal: 2.45s\tremaining: 12.3s\n",
      "5:\tlearn: 0.4521165\ttotal: 2.72s\tremaining: 10.9s\n",
      "6:\tlearn: 0.4314439\ttotal: 3.17s\tremaining: 10.4s\n",
      "7:\tlearn: 0.4139200\ttotal: 3.52s\tremaining: 9.68s\n",
      "8:\tlearn: 0.3989454\ttotal: 3.93s\tremaining: 9.16s\n",
      "9:\tlearn: 0.3862857\ttotal: 4.35s\tremaining: 8.7s\n",
      "10:\tlearn: 0.3753567\ttotal: 4.76s\tremaining: 8.23s\n",
      "11:\tlearn: 0.3659587\ttotal: 5.3s\tremaining: 7.95s\n",
      "12:\tlearn: 0.3583830\ttotal: 5.51s\tremaining: 7.2s\n",
      "13:\tlearn: 0.3515141\ttotal: 5.95s\tremaining: 6.8s\n",
      "14:\tlearn: 0.3456411\ttotal: 6.47s\tremaining: 6.47s\n",
      "15:\tlearn: 0.3406444\ttotal: 6.89s\tremaining: 6.03s\n",
      "16:\tlearn: 0.3365242\ttotal: 7.35s\tremaining: 5.62s\n",
      "17:\tlearn: 0.3328547\ttotal: 7.77s\tremaining: 5.18s\n",
      "18:\tlearn: 0.3298238\ttotal: 8.21s\tremaining: 4.75s\n",
      "19:\tlearn: 0.3272537\ttotal: 8.56s\tremaining: 4.28s\n",
      "20:\tlearn: 0.3249627\ttotal: 8.91s\tremaining: 3.82s\n",
      "21:\tlearn: 0.3230661\ttotal: 9.26s\tremaining: 3.37s\n",
      "22:\tlearn: 0.3214241\ttotal: 9.66s\tremaining: 2.94s\n",
      "23:\tlearn: 0.3200000\ttotal: 10s\tremaining: 2.51s\n",
      "24:\tlearn: 0.3188631\ttotal: 10.4s\tremaining: 2.08s\n",
      "25:\tlearn: 0.3177918\ttotal: 10.8s\tremaining: 1.66s\n",
      "26:\tlearn: 0.3168861\ttotal: 11.2s\tremaining: 1.25s\n",
      "27:\tlearn: 0.3161455\ttotal: 11.6s\tremaining: 832ms\n",
      "28:\tlearn: 0.3155231\ttotal: 12s\tremaining: 414ms\n",
      "29:\tlearn: 0.3149417\ttotal: 12.4s\tremaining: 0us\n"
     ]
    },
    {
     "data": {
      "text/plain": [
       "<catboost.core.CatBoostClassifier at 0x1a31b615750>"
      ]
     },
     "execution_count": 305,
     "metadata": {},
     "output_type": "execute_result"
    }
   ],
   "source": [
    "model_V2.fit(X_train_V2, y_train_V2)"
   ]
  },
  {
   "cell_type": "code",
   "execution_count": 306,
   "metadata": {},
   "outputs": [],
   "source": [
    "y_pred_V2 = model_V2.predict(X_test_V2)\n"
   ]
  },
  {
   "cell_type": "code",
   "execution_count": 307,
   "metadata": {},
   "outputs": [
    {
     "data": {
      "text/plain": [
       "0.9010136532892015"
      ]
     },
     "execution_count": 307,
     "metadata": {},
     "output_type": "execute_result"
    }
   ],
   "source": [
    "accuracy_V2 = accuracy_score(y_test_V2, y_pred_V2)\n",
    "accuracy_V2"
   ]
  },
  {
   "cell_type": "markdown",
   "metadata": {},
   "source": [
    "## Visualize Feature Importance"
   ]
  },
  {
   "cell_type": "code",
   "execution_count": 324,
   "metadata": {},
   "outputs": [
    {
     "name": "stdout",
     "output_type": "stream",
     "text": [
      "sourceItemId: Importance = 0.0\n",
      "itemId: Importance = 18.41\n",
      "placement: Importance = 17.92\n",
      "userId: Importance = 0.0\n",
      "publisherId: Importance = 28.02\n",
      "publisherLanguage: Importance = 0.27\n",
      "city: Importance = 0.0\n",
      "region: Importance = 0.06\n",
      "country: Importance = 0.55\n",
      "sessionReferrer: Importance = 0.01\n",
      "userQualityLoyalty: Importance = 0.02\n",
      "upperTaxonomy: Importance = 0.13\n",
      "alchemyTaxonomy: Importance = 0.96\n",
      "rcClicks: Importance = 32.64\n",
      "spClicks: Importance = 1.01\n",
      "date: Importance = 0.0\n",
      "pvs: Importance = 0.0\n",
      "session_depth: Importance = 0.0\n"
     ]
    }
   ],
   "source": [
    "feature_importance = model.get_feature_importance()\n",
    "features = data.columns\n",
    "for i, importance in enumerate(feature_importance):\n",
    "    print(f\"{features[i]}: Importance = {round(importance, 2)}\")"
   ]
  },
  {
   "cell_type": "code",
   "execution_count": 310,
   "metadata": {},
   "outputs": [
    {
     "data": {
      "image/png": "[encoded data removed]",
      "text/plain": [
       "<Figure size 1000x800 with 2 Axes>"
      ]
     },
     "metadata": {},
     "output_type": "display_data"
    }
   ],
   "source": [
    "numerical_features = [\"pvs\", \"rcClicks\", \"spClicks\", \"session_depth\", \"clicks\"]\n",
    "numerical_features_corr = combined_df[numerical_features].corr()\n",
    "\n",
    "plt.figure(figsize=(10, 8))\n",
    "sns.heatmap(numerical_features_corr, annot=True, cmap='coolwarm', fmt=\".2f\")\n",
    "plt.title('Correlation Heatmap for Numerical Features')\n",
    "plt.show()"
   ]
  }
 ],
 "metadata": {
  "kernelspec": {
   "display_name": "Python 3",
   "language": "python",
   "name": "python3"
  },
  "language_info": {
   "codemirror_mode": {
    "name": "ipython",
    "version": 3
   },
   "file_extension": ".py",
   "mimetype": "text/x-python",
   "name": "python",
   "nbconvert_exporter": "python",
   "pygments_lexer": "ipython3",
   "version": "3.10.11"
  }
 },
 "nbformat": 4,
 "nbformat_minor": 2
}
