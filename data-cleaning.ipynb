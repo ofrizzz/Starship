{
 "cells": [
  {
   "cell_type": "markdown",
   "metadata": {},
   "source": [
    "# Imports"
   ]
  },
  {
   "cell_type": "code",
   "execution_count": 1,
   "metadata": {},
   "outputs": [],
   "source": [
    "import pandas as pd\n",
    "import matplotlib.pyplot as plt\n",
    "import seaborn as sns\n",
    "import numpy as np"
   ]
  },
  {
   "cell_type": "code",
   "execution_count": 2,
   "metadata": {},
   "outputs": [],
   "source": [
    "from scipy.stats import zscore"
   ]
  },
  {
   "cell_type": "code",
   "execution_count": 3,
   "metadata": {},
   "outputs": [],
   "source": [
    "from catboost import CatBoostClassifier\n",
    "from sklearn.model_selection import train_test_split\n",
    "from sklearn.metrics import accuracy_score"
   ]
  },
  {
   "cell_type": "code",
   "execution_count": 4,
   "metadata": {},
   "outputs": [],
   "source": [
    "from catboost import Pool"
   ]
  },
  {
   "cell_type": "code",
   "execution_count": 24,
   "metadata": {},
   "outputs": [
    {
     "ename": "ImportError",
     "evalue": "cannot import name 'LSTM' from 'tensorflow.python.keras.layers' (C:\\Users\\ofri\\AppData\\Local\\Packages\\PythonSoftwareFoundation.Python.3.10_qbz5n2kfra8p0\\LocalCache\\local-packages\\Python310\\site-packages\\tensorflow\\python\\keras\\layers\\__init__.py)",
     "output_type": "error",
     "traceback": [
      "\u001b[1;31m---------------------------------------------------------------------------\u001b[0m",
      "\u001b[1;31mImportError\u001b[0m                               Traceback (most recent call last)",
      "Cell \u001b[1;32mIn[24], line 1\u001b[0m\n\u001b[1;32m----> 1\u001b[0m \u001b[38;5;28;01mfrom\u001b[39;00m \u001b[38;5;21;01mdeepctr\u001b[39;00m\u001b[38;5;21;01m.\u001b[39;00m\u001b[38;5;21;01mmodels\u001b[39;00m \u001b[38;5;28;01mimport\u001b[39;00m DeepFM\n",
      "File \u001b[1;32m~\\AppData\\Local\\Packages\\PythonSoftwareFoundation.Python.3.10_qbz5n2kfra8p0\\LocalCache\\local-packages\\Python310\\site-packages\\deepctr\\models\\__init__.py:1\u001b[0m\n\u001b[1;32m----> 1\u001b[0m \u001b[38;5;28;01mfrom\u001b[39;00m \u001b[38;5;21;01m.\u001b[39;00m\u001b[38;5;21;01mafm\u001b[39;00m \u001b[38;5;28;01mimport\u001b[39;00m AFM\n\u001b[0;32m      2\u001b[0m \u001b[38;5;28;01mfrom\u001b[39;00m \u001b[38;5;21;01m.\u001b[39;00m\u001b[38;5;21;01mautoint\u001b[39;00m \u001b[38;5;28;01mimport\u001b[39;00m AutoInt\n\u001b[0;32m      3\u001b[0m \u001b[38;5;28;01mfrom\u001b[39;00m \u001b[38;5;21;01m.\u001b[39;00m\u001b[38;5;21;01mccpm\u001b[39;00m \u001b[38;5;28;01mimport\u001b[39;00m CCPM\n",
      "File \u001b[1;32m~\\AppData\\Local\\Packages\\PythonSoftwareFoundation.Python.3.10_qbz5n2kfra8p0\\LocalCache\\local-packages\\Python310\\site-packages\\deepctr\\models\\afm.py:13\u001b[0m\n\u001b[0;32m      2\u001b[0m \u001b[38;5;124;03m\"\"\"\u001b[39;00m\n\u001b[0;32m      3\u001b[0m \n\u001b[0;32m      4\u001b[0m \u001b[38;5;124;03mAuthor:\u001b[39;00m\n\u001b[1;32m   (...)\u001b[0m\n\u001b[0;32m     10\u001b[0m \n\u001b[0;32m     11\u001b[0m \u001b[38;5;124;03m\"\"\"\u001b[39;00m\n\u001b[0;32m     12\u001b[0m \u001b[38;5;28;01mfrom\u001b[39;00m \u001b[38;5;21;01mtensorflow\u001b[39;00m\u001b[38;5;21;01m.\u001b[39;00m\u001b[38;5;21;01mpython\u001b[39;00m\u001b[38;5;21;01m.\u001b[39;00m\u001b[38;5;21;01mkeras\u001b[39;00m\u001b[38;5;21;01m.\u001b[39;00m\u001b[38;5;21;01mmodels\u001b[39;00m \u001b[38;5;28;01mimport\u001b[39;00m Model\n\u001b[1;32m---> 13\u001b[0m \u001b[38;5;28;01mfrom\u001b[39;00m \u001b[38;5;21;01m.\u001b[39;00m\u001b[38;5;21;01m.\u001b[39;00m\u001b[38;5;21;01mfeature_column\u001b[39;00m \u001b[38;5;28;01mimport\u001b[39;00m build_input_features, get_linear_logit, DEFAULT_GROUP_NAME, input_from_feature_columns\n\u001b[0;32m     14\u001b[0m \u001b[38;5;28;01mfrom\u001b[39;00m \u001b[38;5;21;01m.\u001b[39;00m\u001b[38;5;21;01m.\u001b[39;00m\u001b[38;5;21;01mlayers\u001b[39;00m\u001b[38;5;21;01m.\u001b[39;00m\u001b[38;5;21;01mcore\u001b[39;00m \u001b[38;5;28;01mimport\u001b[39;00m PredictionLayer\n\u001b[0;32m     15\u001b[0m \u001b[38;5;28;01mfrom\u001b[39;00m \u001b[38;5;21;01m.\u001b[39;00m\u001b[38;5;21;01m.\u001b[39;00m\u001b[38;5;21;01mlayers\u001b[39;00m\u001b[38;5;21;01m.\u001b[39;00m\u001b[38;5;21;01minteraction\u001b[39;00m \u001b[38;5;28;01mimport\u001b[39;00m AFMLayer, FM\n",
      "File \u001b[1;32m~\\AppData\\Local\\Packages\\PythonSoftwareFoundation.Python.3.10_qbz5n2kfra8p0\\LocalCache\\local-packages\\Python310\\site-packages\\deepctr\\feature_column.py:9\u001b[0m\n\u001b[0;32m      6\u001b[0m \u001b[38;5;28;01mfrom\u001b[39;00m \u001b[38;5;21;01mtensorflow\u001b[39;00m\u001b[38;5;21;01m.\u001b[39;00m\u001b[38;5;21;01mpython\u001b[39;00m\u001b[38;5;21;01m.\u001b[39;00m\u001b[38;5;21;01mkeras\u001b[39;00m\u001b[38;5;21;01m.\u001b[39;00m\u001b[38;5;21;01minitializers\u001b[39;00m \u001b[38;5;28;01mimport\u001b[39;00m RandomNormal, Zeros\n\u001b[0;32m      7\u001b[0m \u001b[38;5;28;01mfrom\u001b[39;00m \u001b[38;5;21;01mtensorflow\u001b[39;00m\u001b[38;5;21;01m.\u001b[39;00m\u001b[38;5;21;01mpython\u001b[39;00m\u001b[38;5;21;01m.\u001b[39;00m\u001b[38;5;21;01mkeras\u001b[39;00m\u001b[38;5;21;01m.\u001b[39;00m\u001b[38;5;21;01mlayers\u001b[39;00m \u001b[38;5;28;01mimport\u001b[39;00m Input, Lambda\n\u001b[1;32m----> 9\u001b[0m \u001b[38;5;28;01mfrom\u001b[39;00m \u001b[38;5;21;01m.\u001b[39;00m\u001b[38;5;21;01minputs\u001b[39;00m \u001b[38;5;28;01mimport\u001b[39;00m create_embedding_matrix, embedding_lookup, get_dense_input, varlen_embedding_lookup, \\\n\u001b[0;32m     10\u001b[0m     get_varlen_pooling_list, mergeDict\n\u001b[0;32m     11\u001b[0m \u001b[38;5;28;01mfrom\u001b[39;00m \u001b[38;5;21;01m.\u001b[39;00m\u001b[38;5;21;01mlayers\u001b[39;00m \u001b[38;5;28;01mimport\u001b[39;00m Linear\n\u001b[0;32m     12\u001b[0m \u001b[38;5;28;01mfrom\u001b[39;00m \u001b[38;5;21;01m.\u001b[39;00m\u001b[38;5;21;01mlayers\u001b[39;00m\u001b[38;5;21;01m.\u001b[39;00m\u001b[38;5;21;01mutils\u001b[39;00m \u001b[38;5;28;01mimport\u001b[39;00m concat_func\n",
      "File \u001b[1;32m~\\AppData\\Local\\Packages\\PythonSoftwareFoundation.Python.3.10_qbz5n2kfra8p0\\LocalCache\\local-packages\\Python310\\site-packages\\deepctr\\inputs.py:15\u001b[0m\n\u001b[0;32m     12\u001b[0m \u001b[38;5;28;01mfrom\u001b[39;00m \u001b[38;5;21;01mtensorflow\u001b[39;00m\u001b[38;5;21;01m.\u001b[39;00m\u001b[38;5;21;01mpython\u001b[39;00m\u001b[38;5;21;01m.\u001b[39;00m\u001b[38;5;21;01mkeras\u001b[39;00m\u001b[38;5;21;01m.\u001b[39;00m\u001b[38;5;21;01mlayers\u001b[39;00m \u001b[38;5;28;01mimport\u001b[39;00m Embedding, Lambda\n\u001b[0;32m     13\u001b[0m \u001b[38;5;28;01mfrom\u001b[39;00m \u001b[38;5;21;01mtensorflow\u001b[39;00m\u001b[38;5;21;01m.\u001b[39;00m\u001b[38;5;21;01mpython\u001b[39;00m\u001b[38;5;21;01m.\u001b[39;00m\u001b[38;5;21;01mkeras\u001b[39;00m\u001b[38;5;21;01m.\u001b[39;00m\u001b[38;5;21;01mregularizers\u001b[39;00m \u001b[38;5;28;01mimport\u001b[39;00m l2\n\u001b[1;32m---> 15\u001b[0m \u001b[38;5;28;01mfrom\u001b[39;00m \u001b[38;5;21;01m.\u001b[39;00m\u001b[38;5;21;01mlayers\u001b[39;00m\u001b[38;5;21;01m.\u001b[39;00m\u001b[38;5;21;01msequence\u001b[39;00m \u001b[38;5;28;01mimport\u001b[39;00m SequencePoolingLayer, WeightedSequenceLayer\n\u001b[0;32m     16\u001b[0m \u001b[38;5;28;01mfrom\u001b[39;00m \u001b[38;5;21;01m.\u001b[39;00m\u001b[38;5;21;01mlayers\u001b[39;00m\u001b[38;5;21;01m.\u001b[39;00m\u001b[38;5;21;01mutils\u001b[39;00m \u001b[38;5;28;01mimport\u001b[39;00m Hash\n\u001b[0;32m     19\u001b[0m \u001b[38;5;28;01mdef\u001b[39;00m \u001b[38;5;21mget_inputs_list\u001b[39m(inputs):\n",
      "File \u001b[1;32m~\\AppData\\Local\\Packages\\PythonSoftwareFoundation.Python.3.10_qbz5n2kfra8p0\\LocalCache\\local-packages\\Python310\\site-packages\\deepctr\\layers\\__init__.py:10\u001b[0m\n\u001b[0;32m      5\u001b[0m \u001b[38;5;28;01mfrom\u001b[39;00m \u001b[38;5;21;01m.\u001b[39;00m\u001b[38;5;21;01minteraction\u001b[39;00m \u001b[38;5;28;01mimport\u001b[39;00m (CIN, FM, AFMLayer, BiInteractionPooling, CrossNet, CrossNetMix,\n\u001b[0;32m      6\u001b[0m                           InnerProductLayer, InteractingLayer,\n\u001b[0;32m      7\u001b[0m                           OutterProductLayer, FGCNNLayer, SENETLayer, BilinearInteraction,\n\u001b[0;32m      8\u001b[0m                           FieldWiseBiInteraction, FwFMLayer, FEFMLayer, BridgeModule)\n\u001b[0;32m      9\u001b[0m \u001b[38;5;28;01mfrom\u001b[39;00m \u001b[38;5;21;01m.\u001b[39;00m\u001b[38;5;21;01mnormalization\u001b[39;00m \u001b[38;5;28;01mimport\u001b[39;00m LayerNormalization\n\u001b[1;32m---> 10\u001b[0m \u001b[38;5;28;01mfrom\u001b[39;00m \u001b[38;5;21;01m.\u001b[39;00m\u001b[38;5;21;01msequence\u001b[39;00m \u001b[38;5;28;01mimport\u001b[39;00m (AttentionSequencePoolingLayer, BiasEncoding, BiLSTM,\n\u001b[0;32m     11\u001b[0m                        KMaxPooling, SequencePoolingLayer, WeightedSequenceLayer,\n\u001b[0;32m     12\u001b[0m                        Transformer, DynamicGRU, PositionEncoding)\n\u001b[0;32m     13\u001b[0m \u001b[38;5;28;01mfrom\u001b[39;00m \u001b[38;5;21;01m.\u001b[39;00m\u001b[38;5;21;01mutils\u001b[39;00m \u001b[38;5;28;01mimport\u001b[39;00m NoMask, Hash, Linear, _Add, combined_dnn_input, softmax, reduce_sum, Concat\n\u001b[0;32m     15\u001b[0m custom_objects \u001b[38;5;241m=\u001b[39m {\u001b[38;5;124m'\u001b[39m\u001b[38;5;124mtf\u001b[39m\u001b[38;5;124m'\u001b[39m: tf,\n\u001b[0;32m     16\u001b[0m                   \u001b[38;5;124m'\u001b[39m\u001b[38;5;124mInnerProductLayer\u001b[39m\u001b[38;5;124m'\u001b[39m: InnerProductLayer,\n\u001b[0;32m     17\u001b[0m                   \u001b[38;5;124m'\u001b[39m\u001b[38;5;124mOutterProductLayer\u001b[39m\u001b[38;5;124m'\u001b[39m: OutterProductLayer,\n\u001b[1;32m   (...)\u001b[0m\n\u001b[0;32m     53\u001b[0m                   \u001b[38;5;124m'\u001b[39m\u001b[38;5;124mBridgeModule\u001b[39m\u001b[38;5;124m'\u001b[39m: BridgeModule\n\u001b[0;32m     54\u001b[0m                   }\n",
      "File \u001b[1;32m~\\AppData\\Local\\Packages\\PythonSoftwareFoundation.Python.3.10_qbz5n2kfra8p0\\LocalCache\\local-packages\\Python310\\site-packages\\deepctr\\layers\\sequence.py:18\u001b[0m\n\u001b[0;32m     15\u001b[0m \u001b[38;5;28;01mexcept\u001b[39;00m \u001b[38;5;167;01mImportError\u001b[39;00m:\n\u001b[0;32m     16\u001b[0m     \u001b[38;5;28;01mfrom\u001b[39;00m \u001b[38;5;21;01mtensorflow\u001b[39;00m\u001b[38;5;21;01m.\u001b[39;00m\u001b[38;5;21;01mpython\u001b[39;00m\u001b[38;5;21;01m.\u001b[39;00m\u001b[38;5;21;01mops\u001b[39;00m\u001b[38;5;21;01m.\u001b[39;00m\u001b[38;5;21;01minit_ops_v2\u001b[39;00m \u001b[38;5;28;01mimport\u001b[39;00m TruncatedNormal, Constant, glorot_uniform\n\u001b[1;32m---> 18\u001b[0m \u001b[38;5;28;01mfrom\u001b[39;00m \u001b[38;5;21;01mtensorflow\u001b[39;00m\u001b[38;5;21;01m.\u001b[39;00m\u001b[38;5;21;01mpython\u001b[39;00m\u001b[38;5;21;01m.\u001b[39;00m\u001b[38;5;21;01mkeras\u001b[39;00m\u001b[38;5;21;01m.\u001b[39;00m\u001b[38;5;21;01mlayers\u001b[39;00m \u001b[38;5;28;01mimport\u001b[39;00m LSTM, Lambda, Layer, Dropout\n\u001b[0;32m     20\u001b[0m \u001b[38;5;28;01mfrom\u001b[39;00m \u001b[38;5;21;01m.\u001b[39;00m\u001b[38;5;21;01mcore\u001b[39;00m \u001b[38;5;28;01mimport\u001b[39;00m LocalActivationUnit\n\u001b[0;32m     21\u001b[0m \u001b[38;5;28;01mfrom\u001b[39;00m \u001b[38;5;21;01m.\u001b[39;00m\u001b[38;5;21;01mnormalization\u001b[39;00m \u001b[38;5;28;01mimport\u001b[39;00m LayerNormalization\n",
      "\u001b[1;31mImportError\u001b[0m: cannot import name 'LSTM' from 'tensorflow.python.keras.layers' (C:\\Users\\ofri\\AppData\\Local\\Packages\\PythonSoftwareFoundation.Python.3.10_qbz5n2kfra8p0\\LocalCache\\local-packages\\Python310\\site-packages\\tensorflow\\python\\keras\\layers\\__init__.py)"
     ]
    }
   ],
   "source": [
    "from deepctr.models import DeepFM"
   ]
  },
  {
   "cell_type": "markdown",
   "metadata": {},
   "source": [
    "# Loading data"
   ]
  },
  {
   "cell_type": "code",
   "execution_count": 7,
   "metadata": {},
   "outputs": [
    {
     "data": {
      "text/html": [
       "<div>\n",
       "<style scoped>\n",
       "    .dataframe tbody tr th:only-of-type {\n",
       "        vertical-align: middle;\n",
       "    }\n",
       "\n",
       "    .dataframe tbody tr th {\n",
       "        vertical-align: top;\n",
       "    }\n",
       "\n",
       "    .dataframe thead th {\n",
       "        text-align: right;\n",
       "    }\n",
       "</style>\n",
       "<table border=\"1\" class=\"dataframe\">\n",
       "  <thead>\n",
       "    <tr style=\"text-align: right;\">\n",
       "      <th></th>\n",
       "      <th>sourceItemId</th>\n",
       "      <th>itemId</th>\n",
       "      <th>placement</th>\n",
       "      <th>userId</th>\n",
       "      <th>publisherId</th>\n",
       "      <th>publisherLanguage</th>\n",
       "      <th>city</th>\n",
       "      <th>region</th>\n",
       "      <th>country</th>\n",
       "      <th>sessionReferrer</th>\n",
       "      <th>userQualityLoyalty</th>\n",
       "      <th>pub_group</th>\n",
       "      <th>upperTaxonomy</th>\n",
       "      <th>alchemyTaxonomy</th>\n",
       "      <th>rcClicks</th>\n",
       "      <th>spClicks</th>\n",
       "      <th>date</th>\n",
       "      <th>clicks</th>\n",
       "      <th>pvs</th>\n",
       "      <th>session_depth</th>\n",
       "    </tr>\n",
       "  </thead>\n",
       "  <tbody>\n",
       "    <tr>\n",
       "      <th>0</th>\n",
       "      <td>971463733300483695</td>\n",
       "      <td>-3287362093468539136</td>\n",
       "      <td>Explore More | Card 17</td>\n",
       "      <td>D3SEHPCZt3Rh+A==</td>\n",
       "      <td>ACPG9jMAB9JDFw==</td>\n",
       "      <td>jp</td>\n",
       "      <td>fukuroi</td>\n",
       "      <td>22</td>\n",
       "      <td>JAPAN</td>\n",
       "      <td>https://www.google.com/</td>\n",
       "      <td>FLY_BY</td>\n",
       "      <td>o_non_en</td>\n",
       "      <td>AUTOS</td>\n",
       "      <td>/automotive and vehicles/cars/car culture</td>\n",
       "      <td>0.0</td>\n",
       "      <td>1.0</td>\n",
       "      <td>20231230</td>\n",
       "      <td>0</td>\n",
       "      <td>1</td>\n",
       "      <td>2</td>\n",
       "    </tr>\n",
       "    <tr>\n",
       "      <th>1</th>\n",
       "      <td>8457151523382032299</td>\n",
       "      <td>6138823687901464576</td>\n",
       "      <td>Explore More | Card 1</td>\n",
       "      <td>co6X5NlH/brybA==</td>\n",
       "      <td>ACPG9jMAB9JDFw==</td>\n",
       "      <td>jp</td>\n",
       "      <td>suzaka</td>\n",
       "      <td>20</td>\n",
       "      <td>JAPAN</td>\n",
       "      <td>NaN</td>\n",
       "      <td>OTHER</td>\n",
       "      <td>o_non_en</td>\n",
       "      <td>OPINIONS</td>\n",
       "      <td>/science/physics</td>\n",
       "      <td>0.0</td>\n",
       "      <td>0.0</td>\n",
       "      <td>20231230</td>\n",
       "      <td>0</td>\n",
       "      <td>1</td>\n",
       "      <td>2</td>\n",
       "    </tr>\n",
       "    <tr>\n",
       "      <th>2</th>\n",
       "      <td>8457151523382032299</td>\n",
       "      <td>6138823687901464576</td>\n",
       "      <td>Explore More | Card 3</td>\n",
       "      <td>zPZAP6ai07An5Q==</td>\n",
       "      <td>ACPG9jMAB9JDFw==</td>\n",
       "      <td>jp</td>\n",
       "      <td>kameyama</td>\n",
       "      <td>24</td>\n",
       "      <td>JAPAN</td>\n",
       "      <td>https://www.webcartop.jp/2023/12/1257266/</td>\n",
       "      <td>OTHER</td>\n",
       "      <td>o_non_en</td>\n",
       "      <td>OPINIONS</td>\n",
       "      <td>/science/physics</td>\n",
       "      <td>2.0</td>\n",
       "      <td>1.0</td>\n",
       "      <td>20231230</td>\n",
       "      <td>0</td>\n",
       "      <td>1</td>\n",
       "      <td>1</td>\n",
       "    </tr>\n",
       "    <tr>\n",
       "      <th>3</th>\n",
       "      <td>-8015512517978446107</td>\n",
       "      <td>1400704243977415430</td>\n",
       "      <td>Explore More | Card 6</td>\n",
       "      <td>iw7zvYqor3JmHA==</td>\n",
       "      <td>ACPG9jMAB9JDFw==</td>\n",
       "      <td>jp</td>\n",
       "      <td>utsunomiya</td>\n",
       "      <td>09</td>\n",
       "      <td>JAPAN</td>\n",
       "      <td>https://www.google.com/</td>\n",
       "      <td>LOYAL</td>\n",
       "      <td>o_non_en</td>\n",
       "      <td>AUTOS</td>\n",
       "      <td>/automotive and vehicles/cars</td>\n",
       "      <td>0.0</td>\n",
       "      <td>1.0</td>\n",
       "      <td>20231230</td>\n",
       "      <td>0</td>\n",
       "      <td>1</td>\n",
       "      <td>2</td>\n",
       "    </tr>\n",
       "    <tr>\n",
       "      <th>4</th>\n",
       "      <td>3968886523333617577</td>\n",
       "      <td>-5556314375770347508</td>\n",
       "      <td>Explore More | Card 8</td>\n",
       "      <td>VKMyuFwfIfRpsQ==</td>\n",
       "      <td>ACPG9jMAB9JDFw==</td>\n",
       "      <td>jp</td>\n",
       "      <td>otsu</td>\n",
       "      <td>25</td>\n",
       "      <td>JAPAN</td>\n",
       "      <td>NaN</td>\n",
       "      <td>FLY_BY</td>\n",
       "      <td>o_non_en</td>\n",
       "      <td>AUTOS</td>\n",
       "      <td>/automotive and vehicles/cars/car culture</td>\n",
       "      <td>0.0</td>\n",
       "      <td>0.0</td>\n",
       "      <td>20231230</td>\n",
       "      <td>0</td>\n",
       "      <td>1</td>\n",
       "      <td>2</td>\n",
       "    </tr>\n",
       "  </tbody>\n",
       "</table>\n",
       "</div>"
      ],
      "text/plain": [
       "          sourceItemId               itemId               placement  \\\n",
       "0   971463733300483695 -3287362093468539136  Explore More | Card 17   \n",
       "1  8457151523382032299  6138823687901464576   Explore More | Card 1   \n",
       "2  8457151523382032299  6138823687901464576   Explore More | Card 3   \n",
       "3 -8015512517978446107  1400704243977415430   Explore More | Card 6   \n",
       "4  3968886523333617577 -5556314375770347508   Explore More | Card 8   \n",
       "\n",
       "             userId       publisherId publisherLanguage        city region  \\\n",
       "0  D3SEHPCZt3Rh+A==  ACPG9jMAB9JDFw==                jp     fukuroi     22   \n",
       "1  co6X5NlH/brybA==  ACPG9jMAB9JDFw==                jp      suzaka     20   \n",
       "2  zPZAP6ai07An5Q==  ACPG9jMAB9JDFw==                jp    kameyama     24   \n",
       "3  iw7zvYqor3JmHA==  ACPG9jMAB9JDFw==                jp  utsunomiya     09   \n",
       "4  VKMyuFwfIfRpsQ==  ACPG9jMAB9JDFw==                jp        otsu     25   \n",
       "\n",
       "  country                            sessionReferrer userQualityLoyalty  \\\n",
       "0   JAPAN                    https://www.google.com/             FLY_BY   \n",
       "1   JAPAN                                        NaN              OTHER   \n",
       "2   JAPAN  https://www.webcartop.jp/2023/12/1257266/              OTHER   \n",
       "3   JAPAN                    https://www.google.com/              LOYAL   \n",
       "4   JAPAN                                        NaN             FLY_BY   \n",
       "\n",
       "  pub_group upperTaxonomy                            alchemyTaxonomy  \\\n",
       "0  o_non_en         AUTOS  /automotive and vehicles/cars/car culture   \n",
       "1  o_non_en      OPINIONS                           /science/physics   \n",
       "2  o_non_en      OPINIONS                           /science/physics   \n",
       "3  o_non_en         AUTOS              /automotive and vehicles/cars   \n",
       "4  o_non_en         AUTOS  /automotive and vehicles/cars/car culture   \n",
       "\n",
       "   rcClicks  spClicks      date  clicks  pvs  session_depth  \n",
       "0       0.0       1.0  20231230       0    1              2  \n",
       "1       0.0       0.0  20231230       0    1              2  \n",
       "2       2.0       1.0  20231230       0    1              1  \n",
       "3       0.0       1.0  20231230       0    1              2  \n",
       "4       0.0       0.0  20231230       0    1              2  "
      ]
     },
     "execution_count": 7,
     "metadata": {},
     "output_type": "execute_result"
    }
   ],
   "source": [
    "day1_df_orig = pd.read_csv(\"C:\\\\Users\\\\ofri\\\\Desktop\\\\ofri\\\\B.sc\\\\semester e\\\\Starship\\\\main dataset\\\\30-12-2023.csv\")\n",
    "day1_df = day1_df_orig.copy()\n",
    "day1_df.head()"
   ]
  },
  {
   "cell_type": "code",
   "execution_count": 8,
   "metadata": {},
   "outputs": [],
   "source": [
    "day2_df_orig = pd.read_csv(\"C:\\\\Users\\\\ofri\\\\Desktop\\\\ofri\\\\B.sc\\\\semester e\\\\Starship\\\\main dataset\\\\31-12-2023.csv\")\n",
    "day2_df = day2_df_orig.copy()\n",
    "day3_df_orig = pd.read_csv(\"C:\\\\Users\\\\ofri\\\\Desktop\\\\ofri\\\\B.sc\\\\semester e\\\\Starship\\\\main dataset\\\\01-01-2024.csv\")\n",
    "day3_df = day3_df_orig.copy()\n",
    "day4_df_orig = pd.read_csv(\"C:\\\\Users\\\\ofri\\\\Desktop\\\\ofri\\\\B.sc\\\\semester e\\\\Starship\\\\main dataset\\\\02-01-2024.csv\")\n",
    "day4_df = day4_df_orig.copy()\n",
    "day5_df_orig = pd.read_csv(\"C:\\\\Users\\\\ofri\\\\Desktop\\\\ofri\\\\B.sc\\\\semester e\\\\Starship\\\\main dataset\\\\03-01-2024.csv\")\n",
    "day5_df = day5_df_orig.copy()\n",
    "day6_df_orig = pd.read_csv(\"C:\\\\Users\\\\ofri\\\\Desktop\\\\ofri\\\\B.sc\\\\semester e\\\\Starship\\\\main dataset\\\\04-01-2024.csv\")\n",
    "day6_df = day6_df_orig.copy()\n",
    "day7_df_orig = pd.read_csv(\"C:\\\\Users\\\\ofri\\\\Desktop\\\\ofri\\\\B.sc\\\\semester e\\\\Starship\\\\main dataset\\\\05-01-2024.csv\")\n",
    "day7_df = day7_df_orig.copy()"
   ]
  },
  {
   "cell_type": "code",
   "execution_count": 9,
   "metadata": {},
   "outputs": [],
   "source": [
    "dfs_lst = [day1_df, day2_df, day3_df, day4_df, day5_df, day6_df, day7_df]"
   ]
  },
  {
   "cell_type": "code",
   "execution_count": 18,
   "metadata": {},
   "outputs": [],
   "source": [
    "pub_com_users = pd.read_csv(\"C:\\\\Users\\\\ofri\\\\Desktop\\\\ofri\\\\B.sc\\\\semester e\\\\Starship\\\\main dataset\\\\publisher-common-users.csv\")"
   ]
  },
  {
   "cell_type": "code",
   "execution_count": 20,
   "metadata": {},
   "outputs": [
    {
     "name": "stdout",
     "output_type": "stream",
     "text": [
      "<class 'pandas.core.frame.DataFrame'>\n",
      "RangeIndex: 3950 entries, 0 to 3949\n",
      "Data columns (total 7 columns):\n",
      " #   Column                      Non-Null Count  Dtype  \n",
      "---  ------                      --------------  -----  \n",
      " 0   publisher_id                3950 non-null   object \n",
      " 1   publisher_group             3950 non-null   object \n",
      " 2   feature                     3950 non-null   object \n",
      " 3   top_5_common_user_feature   3950 non-null   object \n",
      " 4   top_5_feature_explained_pv  3950 non-null   float64\n",
      " 5   total_pvs                   3950 non-null   int64  \n",
      " 6   total_pv_clicks             3950 non-null   int64  \n",
      "dtypes: float64(1), int64(2), object(4)\n",
      "memory usage: 216.1+ KB\n"
     ]
    }
   ],
   "source": [
    "pub_com_users.info()"
   ]
  },
  {
   "cell_type": "code",
   "execution_count": 23,
   "metadata": {},
   "outputs": [
    {
     "data": {
      "text/plain": [
       "count     3950.000000\n",
       "mean       144.937975\n",
       "std        438.233454\n",
       "min          0.000000\n",
       "25%         22.000000\n",
       "50%         55.000000\n",
       "75%        134.000000\n",
       "max      10930.000000\n",
       "Name: total_pv_clicks, dtype: float64"
      ]
     },
     "execution_count": 23,
     "metadata": {},
     "output_type": "execute_result"
    }
   ],
   "source": [
    "pub_com_users[\"total_pv_clicks\"].describe()"
   ]
  },
  {
   "cell_type": "code",
   "execution_count": 48,
   "metadata": {},
   "outputs": [
    {
     "data": {
      "text/plain": [
       "COMMON_USER_REGION_CODE         825\n",
       "COMMON_USER_CITY                825\n",
       "COMMON_USER_REGION              825\n",
       "COMMON_USER_COUNTRY             825\n",
       "COMMON_SOURCE_UPPER_TAXONOMY    650\n",
       "Name: feature, dtype: int64"
      ]
     },
     "execution_count": 48,
     "metadata": {},
     "output_type": "execute_result"
    }
   ],
   "source": [
    "pub_com_users[\"feature\"].value_counts()"
   ]
  },
  {
   "cell_type": "code",
   "execution_count": 9,
   "metadata": {},
   "outputs": [
    {
     "data": {
      "text/html": [
       "<div>\n",
       "<style scoped>\n",
       "    .dataframe tbody tr th:only-of-type {\n",
       "        vertical-align: middle;\n",
       "    }\n",
       "\n",
       "    .dataframe tbody tr th {\n",
       "        vertical-align: top;\n",
       "    }\n",
       "\n",
       "    .dataframe thead th {\n",
       "        text-align: right;\n",
       "    }\n",
       "</style>\n",
       "<table border=\"1\" class=\"dataframe\">\n",
       "  <thead>\n",
       "    <tr style=\"text-align: right;\">\n",
       "      <th></th>\n",
       "      <th>publisher_id</th>\n",
       "      <th>publisher_group</th>\n",
       "      <th>feature</th>\n",
       "      <th>top_5_common_user_feature</th>\n",
       "      <th>top_5_feature_explained_pv</th>\n",
       "      <th>total_pvs</th>\n",
       "      <th>total_pv_clicks</th>\n",
       "    </tr>\n",
       "  </thead>\n",
       "  <tbody>\n",
       "    <tr>\n",
       "      <th>0</th>\n",
       "      <td>ElrpPtunWSPl6w==</td>\n",
       "      <td>o_non_en</td>\n",
       "      <td>COMMON_SOURCE_UPPER_TAXONOMY</td>\n",
       "      <td>BUSINESS,NEWS~POLITICS,LIFE~SOCIETY,LIFE~TRAVE...</td>\n",
       "      <td>0.0</td>\n",
       "      <td>156</td>\n",
       "      <td>0</td>\n",
       "    </tr>\n",
       "    <tr>\n",
       "      <th>1</th>\n",
       "      <td>2w+x4CLBhVisvg==</td>\n",
       "      <td>o_non_en</td>\n",
       "      <td>COMMON_USER_REGION_CODE</td>\n",
       "      <td>41,11,48,27,46</td>\n",
       "      <td>0.0</td>\n",
       "      <td>15</td>\n",
       "      <td>0</td>\n",
       "    </tr>\n",
       "    <tr>\n",
       "      <th>2</th>\n",
       "      <td>2w+x4CLBhVisvg==</td>\n",
       "      <td>o_non_en</td>\n",
       "      <td>COMMON_USER_CITY</td>\n",
       "      <td>dochang-dong,taepyeongno 1 (il)-ga,namnae-dong...</td>\n",
       "      <td>0.0</td>\n",
       "      <td>14</td>\n",
       "      <td>0</td>\n",
       "    </tr>\n",
       "    <tr>\n",
       "      <th>3</th>\n",
       "      <td>2w+x4CLBhVisvg==</td>\n",
       "      <td>o_non_en</td>\n",
       "      <td>COMMON_SOURCE_UPPER_TAXONOMY</td>\n",
       "      <td>NEWS~SOCIAL-ISSUES,TECH~SCIENCE,BUSINESS~FINAN...</td>\n",
       "      <td>0.0</td>\n",
       "      <td>16</td>\n",
       "      <td>0</td>\n",
       "    </tr>\n",
       "    <tr>\n",
       "      <th>4</th>\n",
       "      <td>2w+x4CLBhVisvg==</td>\n",
       "      <td>o_non_en</td>\n",
       "      <td>COMMON_USER_REGION</td>\n",
       "      <td>Gyeonggi-Do,Seoul-t'ukpyolsi,Gyeongsangnam-Do,...</td>\n",
       "      <td>0.0</td>\n",
       "      <td>15</td>\n",
       "      <td>0</td>\n",
       "    </tr>\n",
       "    <tr>\n",
       "      <th>5</th>\n",
       "      <td>2w+x4CLBhVisvg==</td>\n",
       "      <td>o_non_en</td>\n",
       "      <td>COMMON_USER_COUNTRY</td>\n",
       "      <td>KOREA, REPUBLIC OF</td>\n",
       "      <td>0.0</td>\n",
       "      <td>16</td>\n",
       "      <td>0</td>\n",
       "    </tr>\n",
       "    <tr>\n",
       "      <th>6</th>\n",
       "      <td>N+D2YTAOL1NT7g==</td>\n",
       "      <td>o_non_en</td>\n",
       "      <td>COMMON_SOURCE_UPPER_TAXONOMY</td>\n",
       "      <td>NEWS~WORLD,BUSINESS,LIFE~HEALTH,SPORTS,TECH</td>\n",
       "      <td>0.0</td>\n",
       "      <td>96</td>\n",
       "      <td>0</td>\n",
       "    </tr>\n",
       "    <tr>\n",
       "      <th>7</th>\n",
       "      <td>gwGmEKF36ESgXQ==</td>\n",
       "      <td>o_non_en</td>\n",
       "      <td>COMMON_SOURCE_UPPER_TAXONOMY</td>\n",
       "      <td>LIFE~FASHION,LIFE~SEX,LIFE~FOOD,ENTERTAINMENT~...</td>\n",
       "      <td>0.0</td>\n",
       "      <td>14</td>\n",
       "      <td>0</td>\n",
       "    </tr>\n",
       "    <tr>\n",
       "      <th>8</th>\n",
       "      <td>ry7UeF+fluj79Q==</td>\n",
       "      <td>o_non_en</td>\n",
       "      <td>COMMON_SOURCE_UPPER_TAXONOMY</td>\n",
       "      <td>SPORTS</td>\n",
       "      <td>0.0</td>\n",
       "      <td>1</td>\n",
       "      <td>0</td>\n",
       "    </tr>\n",
       "    <tr>\n",
       "      <th>9</th>\n",
       "      <td>zgvCXmp3W/7Gxg==</td>\n",
       "      <td>o_non_en</td>\n",
       "      <td>COMMON_SOURCE_UPPER_TAXONOMY</td>\n",
       "      <td>ENTERTAINMENT</td>\n",
       "      <td>0.0</td>\n",
       "      <td>1</td>\n",
       "      <td>0</td>\n",
       "    </tr>\n",
       "    <tr>\n",
       "      <th>10</th>\n",
       "      <td>rC5kslF7WRI47A==</td>\n",
       "      <td>o_non_en</td>\n",
       "      <td>COMMON_SOURCE_UPPER_TAXONOMY</td>\n",
       "      <td>LIFE</td>\n",
       "      <td>0.0</td>\n",
       "      <td>4</td>\n",
       "      <td>0</td>\n",
       "    </tr>\n",
       "    <tr>\n",
       "      <th>11</th>\n",
       "      <td>wP5n3EPghxq71A==</td>\n",
       "      <td>o_non_en</td>\n",
       "      <td>COMMON_SOURCE_UPPER_TAXONOMY</td>\n",
       "      <td>NEWS~FOREIGN-AFFAIRS</td>\n",
       "      <td>0.0</td>\n",
       "      <td>1</td>\n",
       "      <td>0</td>\n",
       "    </tr>\n",
       "    <tr>\n",
       "      <th>12</th>\n",
       "      <td>goUagfJvyzzBGA==</td>\n",
       "      <td>o_non_en</td>\n",
       "      <td>COMMON_SOURCE_UPPER_TAXONOMY</td>\n",
       "      <td>ENTERTAINMENT~CELEBS</td>\n",
       "      <td>0.0</td>\n",
       "      <td>1</td>\n",
       "      <td>0</td>\n",
       "    </tr>\n",
       "    <tr>\n",
       "      <th>13</th>\n",
       "      <td>gGTsKojyF0bc6A==</td>\n",
       "      <td>o_non_en</td>\n",
       "      <td>COMMON_SOURCE_UPPER_TAXONOMY</td>\n",
       "      <td>LIFE</td>\n",
       "      <td>0.0</td>\n",
       "      <td>7</td>\n",
       "      <td>0</td>\n",
       "    </tr>\n",
       "    <tr>\n",
       "      <th>14</th>\n",
       "      <td>4r+pd2isb0TIsg==</td>\n",
       "      <td>o_non_en</td>\n",
       "      <td>COMMON_SOURCE_UPPER_TAXONOMY</td>\n",
       "      <td>NEWS~LAW-ENFORCEMENT,TECH~SECURITY,NEWS~ARMED-...</td>\n",
       "      <td>0.0</td>\n",
       "      <td>16</td>\n",
       "      <td>0</td>\n",
       "    </tr>\n",
       "    <tr>\n",
       "      <th>15</th>\n",
       "      <td>uUsI9lPh6zo3Bw==</td>\n",
       "      <td>o_non_en</td>\n",
       "      <td>COMMON_SOURCE_UPPER_TAXONOMY</td>\n",
       "      <td>NEWS~POLITICS</td>\n",
       "      <td>0.0</td>\n",
       "      <td>3</td>\n",
       "      <td>0</td>\n",
       "    </tr>\n",
       "    <tr>\n",
       "      <th>16</th>\n",
       "      <td>INesYVF9ioI7/A==</td>\n",
       "      <td>o_non_en</td>\n",
       "      <td>COMMON_SOURCE_UPPER_TAXONOMY</td>\n",
       "      <td>SPORTS</td>\n",
       "      <td>0.0</td>\n",
       "      <td>1</td>\n",
       "      <td>0</td>\n",
       "    </tr>\n",
       "    <tr>\n",
       "      <th>17</th>\n",
       "      <td>1huXjQnM3jpKZA==</td>\n",
       "      <td>o_non_en</td>\n",
       "      <td>COMMON_USER_REGION_CODE</td>\n",
       "      <td>OMS</td>\n",
       "      <td>0.0</td>\n",
       "      <td>1</td>\n",
       "      <td>0</td>\n",
       "    </tr>\n",
       "    <tr>\n",
       "      <th>18</th>\n",
       "      <td>1huXjQnM3jpKZA==</td>\n",
       "      <td>o_non_en</td>\n",
       "      <td>COMMON_USER_REGION</td>\n",
       "      <td>Omskaya Oblast</td>\n",
       "      <td>0.0</td>\n",
       "      <td>1</td>\n",
       "      <td>0</td>\n",
       "    </tr>\n",
       "    <tr>\n",
       "      <th>19</th>\n",
       "      <td>1huXjQnM3jpKZA==</td>\n",
       "      <td>o_non_en</td>\n",
       "      <td>COMMON_USER_CITY</td>\n",
       "      <td>kalachinsk</td>\n",
       "      <td>0.0</td>\n",
       "      <td>1</td>\n",
       "      <td>0</td>\n",
       "    </tr>\n",
       "  </tbody>\n",
       "</table>\n",
       "</div>"
      ],
      "text/plain": [
       "        publisher_id publisher_group                       feature  \\\n",
       "0   ElrpPtunWSPl6w==        o_non_en  COMMON_SOURCE_UPPER_TAXONOMY   \n",
       "1   2w+x4CLBhVisvg==        o_non_en       COMMON_USER_REGION_CODE   \n",
       "2   2w+x4CLBhVisvg==        o_non_en              COMMON_USER_CITY   \n",
       "3   2w+x4CLBhVisvg==        o_non_en  COMMON_SOURCE_UPPER_TAXONOMY   \n",
       "4   2w+x4CLBhVisvg==        o_non_en            COMMON_USER_REGION   \n",
       "5   2w+x4CLBhVisvg==        o_non_en           COMMON_USER_COUNTRY   \n",
       "6   N+D2YTAOL1NT7g==        o_non_en  COMMON_SOURCE_UPPER_TAXONOMY   \n",
       "7   gwGmEKF36ESgXQ==        o_non_en  COMMON_SOURCE_UPPER_TAXONOMY   \n",
       "8   ry7UeF+fluj79Q==        o_non_en  COMMON_SOURCE_UPPER_TAXONOMY   \n",
       "9   zgvCXmp3W/7Gxg==        o_non_en  COMMON_SOURCE_UPPER_TAXONOMY   \n",
       "10  rC5kslF7WRI47A==        o_non_en  COMMON_SOURCE_UPPER_TAXONOMY   \n",
       "11  wP5n3EPghxq71A==        o_non_en  COMMON_SOURCE_UPPER_TAXONOMY   \n",
       "12  goUagfJvyzzBGA==        o_non_en  COMMON_SOURCE_UPPER_TAXONOMY   \n",
       "13  gGTsKojyF0bc6A==        o_non_en  COMMON_SOURCE_UPPER_TAXONOMY   \n",
       "14  4r+pd2isb0TIsg==        o_non_en  COMMON_SOURCE_UPPER_TAXONOMY   \n",
       "15  uUsI9lPh6zo3Bw==        o_non_en  COMMON_SOURCE_UPPER_TAXONOMY   \n",
       "16  INesYVF9ioI7/A==        o_non_en  COMMON_SOURCE_UPPER_TAXONOMY   \n",
       "17  1huXjQnM3jpKZA==        o_non_en       COMMON_USER_REGION_CODE   \n",
       "18  1huXjQnM3jpKZA==        o_non_en            COMMON_USER_REGION   \n",
       "19  1huXjQnM3jpKZA==        o_non_en              COMMON_USER_CITY   \n",
       "\n",
       "                            top_5_common_user_feature  \\\n",
       "0   BUSINESS,NEWS~POLITICS,LIFE~SOCIETY,LIFE~TRAVE...   \n",
       "1                                      41,11,48,27,46   \n",
       "2   dochang-dong,taepyeongno 1 (il)-ga,namnae-dong...   \n",
       "3   NEWS~SOCIAL-ISSUES,TECH~SCIENCE,BUSINESS~FINAN...   \n",
       "4   Gyeonggi-Do,Seoul-t'ukpyolsi,Gyeongsangnam-Do,...   \n",
       "5                                  KOREA, REPUBLIC OF   \n",
       "6         NEWS~WORLD,BUSINESS,LIFE~HEALTH,SPORTS,TECH   \n",
       "7   LIFE~FASHION,LIFE~SEX,LIFE~FOOD,ENTERTAINMENT~...   \n",
       "8                                              SPORTS   \n",
       "9                                       ENTERTAINMENT   \n",
       "10                                               LIFE   \n",
       "11                               NEWS~FOREIGN-AFFAIRS   \n",
       "12                               ENTERTAINMENT~CELEBS   \n",
       "13                                               LIFE   \n",
       "14  NEWS~LAW-ENFORCEMENT,TECH~SECURITY,NEWS~ARMED-...   \n",
       "15                                      NEWS~POLITICS   \n",
       "16                                             SPORTS   \n",
       "17                                                OMS   \n",
       "18                                     Omskaya Oblast   \n",
       "19                                         kalachinsk   \n",
       "\n",
       "    top_5_feature_explained_pv  total_pvs  total_pv_clicks  \n",
       "0                          0.0        156                0  \n",
       "1                          0.0         15                0  \n",
       "2                          0.0         14                0  \n",
       "3                          0.0         16                0  \n",
       "4                          0.0         15                0  \n",
       "5                          0.0         16                0  \n",
       "6                          0.0         96                0  \n",
       "7                          0.0         14                0  \n",
       "8                          0.0          1                0  \n",
       "9                          0.0          1                0  \n",
       "10                         0.0          4                0  \n",
       "11                         0.0          1                0  \n",
       "12                         0.0          1                0  \n",
       "13                         0.0          7                0  \n",
       "14                         0.0         16                0  \n",
       "15                         0.0          3                0  \n",
       "16                         0.0          1                0  \n",
       "17                         0.0          1                0  \n",
       "18                         0.0          1                0  \n",
       "19                         0.0          1                0  "
      ]
     },
     "execution_count": 9,
     "metadata": {},
     "output_type": "execute_result"
    }
   ],
   "source": [
    "pub_com_users.head(20)"
   ]
  },
  {
   "cell_type": "markdown",
   "metadata": {},
   "source": [
    "# Filter for users"
   ]
  },
  {
   "cell_type": "code",
   "execution_count": 47,
   "metadata": {},
   "outputs": [],
   "source": [
    "user_counts = {}\n",
    "for df in dfs_lst:\n",
    "    for user in set(df['userId']):\n",
    "        user_counts[user] = user_counts.get(user, 0) + 1\n",
    "\n",
    "# Identify users who appeared in at least two DataFrames\n",
    "common_users = {user for user, count in user_counts.items() if count >= 2}\n",
    "\n",
    "# Step 2: Filter rows with non-null values in 'spClicks' and 'rcClicks'\n",
    "filtered_dfs = []\n",
    "for df in dfs_lst:\n",
    "    filtered_df = df[df['userId'].isin(common_users) & df['spClicks'].notnull() & df['rcClicks'].notnull()]\n",
    "    filtered_dfs.append(filtered_df)"
   ]
  },
  {
   "cell_type": "code",
   "execution_count": 48,
   "metadata": {},
   "outputs": [
    {
     "name": "stdout",
     "output_type": "stream",
     "text": [
      "Number of sessions from sampled users each day:\n",
      "      Day 1: 1426442\n",
      "      Day 2: 1401520\n",
      "      Day 3: 1511657\n",
      "      Day 4: 1545234\n",
      "      Day 5: 1569419\n",
      "      Day 6: 1522046\n",
      "      Day 7: 1454730\n",
      "      \n"
     ]
    }
   ],
   "source": [
    "print(\"\"\"Number of sessions from sampled users each day:\n",
    "      Day 1: %d\n",
    "      Day 2: %d\n",
    "      Day 3: %d\n",
    "      Day 4: %d\n",
    "      Day 5: %d\n",
    "      Day 6: %d\n",
    "      Day 7: %d\n",
    "      \"\"\" %tuple(map(len, filtered_dfs)))"
   ]
  },
  {
   "cell_type": "code",
   "execution_count": 49,
   "metadata": {},
   "outputs": [],
   "source": [
    "filtered_days = [df.sample(n=250000, random_state=42) for df in filtered_dfs]"
   ]
  },
  {
   "cell_type": "markdown",
   "metadata": {},
   "source": [
    "Sanity check:"
   ]
  },
  {
   "cell_type": "code",
   "execution_count": 50,
   "metadata": {},
   "outputs": [
    {
     "name": "stdout",
     "output_type": "stream",
     "text": [
      "Number of sessions from sampled users each day:\n",
      "      Day 1: 250000\n",
      "      Day 2: 250000\n",
      "      Day 3: 250000\n",
      "      Day 4: 250000\n",
      "      Day 5: 250000\n",
      "      Day 6: 250000\n",
      "      Day 7: 250000\n",
      "      \n"
     ]
    }
   ],
   "source": [
    "print(\"\"\"Number of sessions from sampled users each day:\n",
    "      Day 1: %d\n",
    "      Day 2: %d\n",
    "      Day 3: %d\n",
    "      Day 4: %d\n",
    "      Day 5: %d\n",
    "      Day 6: %d\n",
    "      Day 7: %d\n",
    "      \"\"\" %tuple(map(len, filtered_days)))"
   ]
  },
  {
   "cell_type": "markdown",
   "metadata": {},
   "source": [
    "Combining data frames for handling missing values:"
   ]
  },
  {
   "cell_type": "code",
   "execution_count": 52,
   "metadata": {},
   "outputs": [
    {
     "data": {
      "text/html": [
       "<div>\n",
       "<style scoped>\n",
       "    .dataframe tbody tr th:only-of-type {\n",
       "        vertical-align: middle;\n",
       "    }\n",
       "\n",
       "    .dataframe tbody tr th {\n",
       "        vertical-align: top;\n",
       "    }\n",
       "\n",
       "    .dataframe thead th {\n",
       "        text-align: right;\n",
       "    }\n",
       "</style>\n",
       "<table border=\"1\" class=\"dataframe\">\n",
       "  <thead>\n",
       "    <tr style=\"text-align: right;\">\n",
       "      <th></th>\n",
       "      <th>sourceItemId</th>\n",
       "      <th>itemId</th>\n",
       "      <th>placement</th>\n",
       "      <th>userId</th>\n",
       "      <th>publisherId</th>\n",
       "      <th>publisherLanguage</th>\n",
       "      <th>city</th>\n",
       "      <th>region</th>\n",
       "      <th>country</th>\n",
       "      <th>sessionReferrer</th>\n",
       "      <th>userQualityLoyalty</th>\n",
       "      <th>pub_group</th>\n",
       "      <th>upperTaxonomy</th>\n",
       "      <th>alchemyTaxonomy</th>\n",
       "      <th>rcClicks</th>\n",
       "      <th>spClicks</th>\n",
       "      <th>date</th>\n",
       "      <th>clicks</th>\n",
       "      <th>pvs</th>\n",
       "      <th>session_depth</th>\n",
       "    </tr>\n",
       "  </thead>\n",
       "  <tbody>\n",
       "    <tr>\n",
       "      <th>1758002</th>\n",
       "      <td>3930372826329877079</td>\n",
       "      <td>-8567832437167189860</td>\n",
       "      <td>Explore More | Card 1</td>\n",
       "      <td>CeD9Am1Kfn0HmA==</td>\n",
       "      <td>9/jqcDOov81Ahg==</td>\n",
       "      <td>hi</td>\n",
       "      <td>ghaziabad</td>\n",
       "      <td>UP</td>\n",
       "      <td>INDIA</td>\n",
       "      <td>https://www.google.com/</td>\n",
       "      <td>OTHER</td>\n",
       "      <td>o_non_en</td>\n",
       "      <td>NEWS</td>\n",
       "      <td>/society/social institution</td>\n",
       "      <td>4.0</td>\n",
       "      <td>2.0</td>\n",
       "      <td>20231230</td>\n",
       "      <td>0</td>\n",
       "      <td>1</td>\n",
       "      <td>1</td>\n",
       "    </tr>\n",
       "    <tr>\n",
       "      <th>701798</th>\n",
       "      <td>-8350655315436087924</td>\n",
       "      <td>-7487955333344511114</td>\n",
       "      <td>Mobile Below Home Thumbnails | Card 1</td>\n",
       "      <td>inqVm1IkwdBLlw==</td>\n",
       "      <td>iGZurVXOeNO28g==</td>\n",
       "      <td>he</td>\n",
       "      <td>tel aviv</td>\n",
       "      <td>TA</td>\n",
       "      <td>ISRAEL</td>\n",
       "      <td>_sessionPending_</td>\n",
       "      <td>FLY_BY</td>\n",
       "      <td>o_non_en</td>\n",
       "      <td>SPORTS</td>\n",
       "      <td>/sports/soccer</td>\n",
       "      <td>0.0</td>\n",
       "      <td>0.0</td>\n",
       "      <td>20231230</td>\n",
       "      <td>0</td>\n",
       "      <td>1</td>\n",
       "      <td>1</td>\n",
       "    </tr>\n",
       "    <tr>\n",
       "      <th>1148426</th>\n",
       "      <td>-5849162253345923100</td>\n",
       "      <td>-4311605725343316158</td>\n",
       "      <td>Below Article Thumbnails | Card 18</td>\n",
       "      <td>EXnc2K61Zjr1kw==</td>\n",
       "      <td>IdxZcTuMzbt+oQ==</td>\n",
       "      <td>jp</td>\n",
       "      <td>surugadai</td>\n",
       "      <td>12</td>\n",
       "      <td>JAPAN</td>\n",
       "      <td>NaN</td>\n",
       "      <td>UNDEFINED</td>\n",
       "      <td>o_non_en</td>\n",
       "      <td>SPORTS</td>\n",
       "      <td>/art and entertainment/celebrity fan and gossip</td>\n",
       "      <td>0.0</td>\n",
       "      <td>0.0</td>\n",
       "      <td>20231230</td>\n",
       "      <td>0</td>\n",
       "      <td>1</td>\n",
       "      <td>1</td>\n",
       "    </tr>\n",
       "    <tr>\n",
       "      <th>1310014</th>\n",
       "      <td>-1025595395044274377</td>\n",
       "      <td>4695486645231195887</td>\n",
       "      <td>Explore More | Card 1</td>\n",
       "      <td>aPh0s/s7PP0zmg==</td>\n",
       "      <td>WtdAB9ShTqWMVQ==</td>\n",
       "      <td>pt-br</td>\n",
       "      <td>sao joao da boa vista</td>\n",
       "      <td>SP</td>\n",
       "      <td>BRAZIL</td>\n",
       "      <td>android-app://com.google.android.googlequickse...</td>\n",
       "      <td>OTHER</td>\n",
       "      <td>o_non_en</td>\n",
       "      <td>SPORTS</td>\n",
       "      <td>/sports/football</td>\n",
       "      <td>1.0</td>\n",
       "      <td>4.0</td>\n",
       "      <td>20231230</td>\n",
       "      <td>0</td>\n",
       "      <td>1</td>\n",
       "      <td>1</td>\n",
       "    </tr>\n",
       "    <tr>\n",
       "      <th>2704018</th>\n",
       "      <td>7798965393379467669</td>\n",
       "      <td>6946793513395916601</td>\n",
       "      <td>Explore More | Card 6</td>\n",
       "      <td>dsJsweYc8dhJwQ==</td>\n",
       "      <td>VxknyWvW4KHTMA==</td>\n",
       "      <td>pt-br</td>\n",
       "      <td>rio de janeiro</td>\n",
       "      <td>RJ</td>\n",
       "      <td>BRAZIL</td>\n",
       "      <td>https://www-metropoles-com.cdn.ampproject.org/</td>\n",
       "      <td>LOYAL</td>\n",
       "      <td>o_non_en</td>\n",
       "      <td>NEWS~POLITICS</td>\n",
       "      <td>/society/crime</td>\n",
       "      <td>46.0</td>\n",
       "      <td>112.0</td>\n",
       "      <td>20231230</td>\n",
       "      <td>0</td>\n",
       "      <td>1</td>\n",
       "      <td>1</td>\n",
       "    </tr>\n",
       "  </tbody>\n",
       "</table>\n",
       "</div>"
      ],
      "text/plain": [
       "                sourceItemId               itemId  \\\n",
       "1758002  3930372826329877079 -8567832437167189860   \n",
       "701798  -8350655315436087924 -7487955333344511114   \n",
       "1148426 -5849162253345923100 -4311605725343316158   \n",
       "1310014 -1025595395044274377  4695486645231195887   \n",
       "2704018  7798965393379467669  6946793513395916601   \n",
       "\n",
       "                                     placement            userId  \\\n",
       "1758002                  Explore More | Card 1  CeD9Am1Kfn0HmA==   \n",
       "701798   Mobile Below Home Thumbnails | Card 1  inqVm1IkwdBLlw==   \n",
       "1148426     Below Article Thumbnails | Card 18  EXnc2K61Zjr1kw==   \n",
       "1310014                  Explore More | Card 1  aPh0s/s7PP0zmg==   \n",
       "2704018                  Explore More | Card 6  dsJsweYc8dhJwQ==   \n",
       "\n",
       "              publisherId publisherLanguage                   city region  \\\n",
       "1758002  9/jqcDOov81Ahg==                hi              ghaziabad     UP   \n",
       "701798   iGZurVXOeNO28g==                he               tel aviv     TA   \n",
       "1148426  IdxZcTuMzbt+oQ==                jp              surugadai     12   \n",
       "1310014  WtdAB9ShTqWMVQ==             pt-br  sao joao da boa vista     SP   \n",
       "2704018  VxknyWvW4KHTMA==             pt-br         rio de janeiro     RJ   \n",
       "\n",
       "        country                                    sessionReferrer  \\\n",
       "1758002   INDIA                            https://www.google.com/   \n",
       "701798   ISRAEL                                   _sessionPending_   \n",
       "1148426   JAPAN                                                NaN   \n",
       "1310014  BRAZIL  android-app://com.google.android.googlequickse...   \n",
       "2704018  BRAZIL     https://www-metropoles-com.cdn.ampproject.org/   \n",
       "\n",
       "        userQualityLoyalty pub_group  upperTaxonomy  \\\n",
       "1758002              OTHER  o_non_en           NEWS   \n",
       "701798              FLY_BY  o_non_en         SPORTS   \n",
       "1148426          UNDEFINED  o_non_en         SPORTS   \n",
       "1310014              OTHER  o_non_en         SPORTS   \n",
       "2704018              LOYAL  o_non_en  NEWS~POLITICS   \n",
       "\n",
       "                                         alchemyTaxonomy  rcClicks  spClicks  \\\n",
       "1758002                      /society/social institution       4.0       2.0   \n",
       "701798                                    /sports/soccer       0.0       0.0   \n",
       "1148426  /art and entertainment/celebrity fan and gossip       0.0       0.0   \n",
       "1310014                                 /sports/football       1.0       4.0   \n",
       "2704018                                   /society/crime      46.0     112.0   \n",
       "\n",
       "             date  clicks  pvs  session_depth  \n",
       "1758002  20231230       0    1              1  \n",
       "701798   20231230       0    1              1  \n",
       "1148426  20231230       0    1              1  \n",
       "1310014  20231230       0    1              1  \n",
       "2704018  20231230       0    1              1  "
      ]
     },
     "execution_count": 52,
     "metadata": {},
     "output_type": "execute_result"
    }
   ],
   "source": [
    "combined_df = pd.concat(filtered_days)\n",
    "combined_df.head()"
   ]
  },
  {
   "cell_type": "code",
   "execution_count": 189,
   "metadata": {},
   "outputs": [
    {
     "name": "stdout",
     "output_type": "stream",
     "text": [
      "<class 'pandas.core.frame.DataFrame'>\n",
      "Int64Index: 1691896 entries, 1758002 to 571747\n",
      "Data columns (total 20 columns):\n",
      " #   Column              Dtype  \n",
      "---  ------              -----  \n",
      " 0   sourceItemId        int64  \n",
      " 1   itemId              int64  \n",
      " 2   placement           object \n",
      " 3   userId              object \n",
      " 4   publisherId         object \n",
      " 5   publisherLanguage   object \n",
      " 6   city                object \n",
      " 7   region              object \n",
      " 8   country             object \n",
      " 9   sessionReferrer     object \n",
      " 10  userQualityLoyalty  object \n",
      " 11  pub_group           object \n",
      " 12  upperTaxonomy       object \n",
      " 13  alchemyTaxonomy     object \n",
      " 14  rcClicks            float64\n",
      " 15  spClicks            float64\n",
      " 16  date                int64  \n",
      " 17  clicks              int64  \n",
      " 18  pvs                 int64  \n",
      " 19  session_depth       int64  \n",
      "dtypes: float64(2), int64(6), object(12)\n",
      "memory usage: 271.1+ MB\n"
     ]
    }
   ],
   "source": [
    "combined_df.info()"
   ]
  },
  {
   "cell_type": "markdown",
   "metadata": {},
   "source": [
    "# Handling missing values"
   ]
  },
  {
   "cell_type": "code",
   "execution_count": 89,
   "metadata": {},
   "outputs": [
    {
     "name": "stdout",
     "output_type": "stream",
     "text": [
      "region => 3125\n",
      "country => 27\n"
     ]
    }
   ],
   "source": [
    "def missing_cols(df):\n",
    "    '''prints out columns with its amount of missing values'''\n",
    "    total = 0\n",
    "    for col in df.columns:\n",
    "        missing_vals = df[col].isnull().sum()\n",
    "        total += missing_vals\n",
    "        if missing_vals != 0:\n",
    "            print(f\"{col} => {df[col].isnull().sum()}\")\n",
    "    \n",
    "    if total == 0:\n",
    "        print(\"no missing values left\")\n",
    "            \n",
    "missing_cols(combined_df)"
   ]
  },
  {
   "cell_type": "code",
   "execution_count": 90,
   "metadata": {},
   "outputs": [
    {
     "name": "stdout",
     "output_type": "stream",
     "text": [
      "region => 0.18%\n",
      "country => 0.0%\n"
     ]
    }
   ],
   "source": [
    "def perc_missing(df):\n",
    "    '''prints out columns with missing values with its %'''\n",
    "    for col in df.columns:\n",
    "        pct = df[col].isna().mean() * 100\n",
    "        if (pct != 0):\n",
    "            print('{} => {}%'.format(col, round(pct, 2)))\n",
    "    \n",
    "perc_missing(combined_df)"
   ]
  },
  {
   "cell_type": "markdown",
   "metadata": {},
   "source": [
    "## Inferring features\n",
    "Inferring features that are associated with user according to other records of the same user."
   ]
  },
  {
   "cell_type": "code",
   "execution_count": 91,
   "metadata": {},
   "outputs": [],
   "source": [
    "def infer_feature_by_user(feature_name):\n",
    "    combined_df[feature_name] = combined_df.groupby('userId')[feature_name].transform(lambda x: x.ffill().bfill())\n",
    "\n",
    "infer_feature_by_user('country')\n",
    "infer_feature_by_user('region')"
   ]
  },
  {
   "cell_type": "markdown",
   "metadata": {},
   "source": [
    "Now there is a very small number of rows without country, so it will not change much to drop them."
   ]
  },
  {
   "cell_type": "code",
   "execution_count": 95,
   "metadata": {},
   "outputs": [
    {
     "name": "stdout",
     "output_type": "stream",
     "text": [
      "no missing values left\n"
     ]
    }
   ],
   "source": [
    "combined_df = combined_df.dropna(subset=['country'])\n",
    "combined_df = combined_df.dropna(subset=['region'])\n",
    "\n",
    "missing_cols(combined_df)"
   ]
  },
  {
   "cell_type": "markdown",
   "metadata": {},
   "source": [
    "## Reduce memory usage:"
   ]
  },
  {
   "cell_type": "code",
   "execution_count": 262,
   "metadata": {},
   "outputs": [
    {
     "name": "stdout",
     "output_type": "stream",
     "text": [
      "<class 'pandas.core.frame.DataFrame'>\n",
      "Int64Index: 1691896 entries, 1758002 to 571747\n",
      "Data columns (total 19 columns):\n",
      " #   Column              Dtype  \n",
      "---  ------              -----  \n",
      " 0   sourceItemId        int64  \n",
      " 1   itemId              int64  \n",
      " 2   placement           object \n",
      " 3   userId              object \n",
      " 4   publisherId         object \n",
      " 5   publisherLanguage   object \n",
      " 6   city                object \n",
      " 7   region              object \n",
      " 8   country             object \n",
      " 9   sessionReferrer     object \n",
      " 10  userQualityLoyalty  object \n",
      " 11  upperTaxonomy       object \n",
      " 12  alchemyTaxonomy     object \n",
      " 13  rcClicks            float64\n",
      " 14  spClicks            float64\n",
      " 15  date                int64  \n",
      " 16  clicks              int64  \n",
      " 17  pvs                 int64  \n",
      " 18  session_depth       int64  \n",
      "dtypes: float64(2), int64(6), object(11)\n",
      "memory usage: 290.4+ MB\n"
     ]
    }
   ],
   "source": [
    "combined_df.info()"
   ]
  },
  {
   "cell_type": "code",
   "execution_count": 263,
   "metadata": {},
   "outputs": [
    {
     "name": "stdout",
     "output_type": "stream",
     "text": [
      "<class 'pandas.core.frame.DataFrame'>\n",
      "Int64Index: 1691896 entries, 1758002 to 571747\n",
      "Data columns (total 19 columns):\n",
      " #   Column              Dtype   \n",
      "---  ------              -----   \n",
      " 0   sourceItemId        int64   \n",
      " 1   itemId              int64   \n",
      " 2   placement           category\n",
      " 3   userId              object  \n",
      " 4   publisherId         object  \n",
      " 5   publisherLanguage   category\n",
      " 6   city                category\n",
      " 7   region              category\n",
      " 8   country             category\n",
      " 9   sessionReferrer     category\n",
      " 10  userQualityLoyalty  category\n",
      " 11  upperTaxonomy       category\n",
      " 12  alchemyTaxonomy     category\n",
      " 13  rcClicks            float32 \n",
      " 14  spClicks            float32 \n",
      " 15  date                int32   \n",
      " 16  clicks              int32   \n",
      " 17  pvs                 int32   \n",
      " 18  session_depth       int32   \n",
      "dtypes: category(9), float32(2), int32(4), int64(2), object(2)\n",
      "memory usage: 164.0+ MB\n"
     ]
    }
   ],
   "source": [
    "combined_df[\"rcClicks\"] = combined_df[\"rcClicks\"].astype('float32')\n",
    "combined_df[\"spClicks\"] = combined_df[\"spClicks\"].astype('float32')\n",
    "combined_df[\"clicks\"] = combined_df[\"clicks\"].astype('int32')\n",
    "combined_df[\"date\"] = combined_df[\"date\"].astype('int32')\n",
    "combined_df[\"pvs\"] = combined_df[\"pvs\"].astype('int32')\n",
    "combined_df[\"session_depth\"] = combined_df[\"session_depth\"].astype('int32')\n",
    "combined_df[\"userQualityLoyalty\"] = combined_df[\"userQualityLoyalty\"].astype('category')\n",
    "combined_df[\"placement\"] = combined_df[\"placement\"].astype('category')\n",
    "combined_df[\"publisherLanguage\"] = combined_df[\"publisherLanguage\"].astype('category')\n",
    "combined_df[\"city\"] = combined_df[\"city\"].astype('category')\n",
    "combined_df[\"region\"] = combined_df[\"region\"].astype('category')\n",
    "combined_df[\"country\"] = combined_df[\"country\"].astype('category')\n",
    "combined_df[\"sessionReferrer\"] = combined_df[\"sessionReferrer\"].astype('category')\n",
    "combined_df[\"upperTaxonomy\"] = combined_df[\"upperTaxonomy\"].astype('category')\n",
    "combined_df[\"alchemyTaxonomy\"] = combined_df[\"alchemyTaxonomy\"].astype('category')\n",
    "combined_df.info()"
   ]
  },
  {
   "cell_type": "code",
   "execution_count": 24,
   "metadata": {},
   "outputs": [
    {
     "data": {
      "text/plain": [
       "o_non_en    1399991\n",
       "Name: pub_group, dtype: int64"
      ]
     },
     "execution_count": 24,
     "metadata": {},
     "output_type": "execute_result"
    }
   ],
   "source": [
    "combined_df[\"pub_group\"].value_counts()"
   ]
  },
  {
   "cell_type": "markdown",
   "metadata": {},
   "source": [
    "All records share the same publisher group- no information is given with this feature."
   ]
  },
  {
   "cell_type": "code",
   "execution_count": 225,
   "metadata": {},
   "outputs": [],
   "source": [
    "combined_df = combined_df.drop([\"pub_group\"], axis=1)"
   ]
  },
  {
   "cell_type": "markdown",
   "metadata": {},
   "source": [
    "## Categorize features"
   ]
  },
  {
   "cell_type": "code",
   "execution_count": 83,
   "metadata": {},
   "outputs": [],
   "source": [
    "combined_df[\"sessionReferrer\"] = combined_df[\"sessionReferrer\"].astype('str')"
   ]
  },
  {
   "cell_type": "code",
   "execution_count": 88,
   "metadata": {},
   "outputs": [
    {
     "data": {
      "text/plain": [
       "OTHER            1211656\n",
       "SEARCH ENGINE     501367\n",
       "SOCIAL MEDIA       28095\n",
       "TABOOLA             8882\n",
       "Name: sessionReferrer, dtype: int64"
      ]
     },
     "execution_count": 88,
     "metadata": {},
     "output_type": "execute_result"
    }
   ],
   "source": [
    "mapping = {\n",
    "    'google': 'SEARCH ENGINE',\n",
    "    'bing': 'SEARCH ENGINE',\n",
    "    'yahoo': 'SEARCH ENGINE',\n",
    "    'baidu' : 'SEARCH ENGINE',\n",
    "    'yandex' : 'SEARCH ENGINE',\n",
    "    'duckduckgo' : 'SEARCH ENGINE',\n",
    "    'aol' : 'SEARCH ENGINE',\n",
    "    'naver' : 'SEARCH ENGINE',\n",
    "    'seznam.cz' : 'SEARCH ENGINE',\n",
    "    'facebook': 'SOCIAL MEDIA',\n",
    "    'twitter': 'SOCIAL MEDIA',\n",
    "    'instagram': 'SOCIAL MEDIA',\n",
    "    'linkedin' : 'SOCIAL MEDIA',\n",
    "    'threads' : 'SOCIAL MEDIA',\n",
    "    'taboola' : 'TABOOLA', \n",
    "    '_sessionPending_' : 'OTHER'\n",
    "}\n",
    "\n",
    "# Function to replace keywords based on the mapping\n",
    "def replace_keywords(referrer):\n",
    "    if referrer in mapping.values():\n",
    "            return referrer\n",
    "    for keyword, replacement in mapping.items():\n",
    "        if keyword in referrer.lower():\n",
    "            return replacement\n",
    "    return 'OTHER'\n",
    "\n",
    "\n",
    "combined_df['sessionReferrer'] = combined_df['sessionReferrer'].apply(replace_keywords)\n",
    "\n",
    "combined_df['sessionReferrer'].value_counts()"
   ]
  },
  {
   "cell_type": "code",
   "execution_count": 248,
   "metadata": {},
   "outputs": [
    {
     "data": {
      "text/plain": [
       "NEWS             591911\n",
       "ENTERTAINMENT    351570\n",
       "LIFE             333765\n",
       "SPORTS           221758\n",
       "BUSINESS          81363\n",
       "TECH              50914\n",
       "OPINIONS          29323\n",
       "INDIA             14354\n",
       "AUTOS             12242\n",
       "VIRAL              2425\n",
       "ENVIRONMENT         901\n",
       "HUMOR               613\n",
       "HISTORY             533\n",
       "TOP-NEWS            117\n",
       "OBSOLETE             70\n",
       "PODCASTS             37\n",
       "Name: upperTaxonomy, dtype: int64"
      ]
     },
     "execution_count": 248,
     "metadata": {},
     "output_type": "execute_result"
    }
   ],
   "source": [
    "def slice_sub_subjects(s : str):\n",
    "    idx = s.find('~')\n",
    "    if idx == -1:\n",
    "        return s\n",
    "    return s[ : idx]\n",
    "\n",
    "combined_df['upperTaxonomy'] = combined_df['upperTaxonomy'].apply(slice_sub_subjects)\n",
    "combined_df['upperTaxonomy'].value_counts()"
   ]
  },
  {
   "cell_type": "code",
   "execution_count": 249,
   "metadata": {},
   "outputs": [
    {
     "data": {
      "text/plain": [
       "NEWS             592028\n",
       "ENTERTAINMENT    351570\n",
       "LIFE             333765\n",
       "SPORTS           221758\n",
       "BUSINESS          81363\n",
       "TECH              50914\n",
       "OPINIONS          29323\n",
       "INDIA             14354\n",
       "AUTOS             12242\n",
       "VIRAL              2425\n",
       "ENVIRONMENT         901\n",
       "HUMOR               613\n",
       "HISTORY             533\n",
       "OBSOLETE             70\n",
       "PODCASTS             37\n",
       "Name: upperTaxonomy, dtype: int64"
      ]
     },
     "execution_count": 249,
     "metadata": {},
     "output_type": "execute_result"
    }
   ],
   "source": [
    "combined_df['upperTaxonomy'].replace(\"TOP-NEWS\", \"NEWS\", inplace=True)\n",
    "combined_df['upperTaxonomy'].value_counts()"
   ]
  },
  {
   "cell_type": "markdown",
   "metadata": {},
   "source": [
    "# Handling anomalies"
   ]
  },
  {
   "cell_type": "markdown",
   "metadata": {},
   "source": [
    "## Detedcting anomalies"
   ]
  },
  {
   "cell_type": "code",
   "execution_count": 26,
   "metadata": {},
   "outputs": [
    {
     "data": {
      "text/plain": [
       "count    1.119503e+06\n",
       "mean     2.297707e+01\n",
       "std      4.038362e+01\n",
       "min      0.000000e+00\n",
       "25%      2.000000e+00\n",
       "50%      9.000000e+00\n",
       "75%      2.600000e+01\n",
       "max      1.440000e+03\n",
       "Name: rcClicks, dtype: float64"
      ]
     },
     "execution_count": 26,
     "metadata": {},
     "output_type": "execute_result"
    }
   ],
   "source": [
    "combined_df[combined_df[\"rcClicks\"].notnull()][\"rcClicks\"].describe()"
   ]
  },
  {
   "cell_type": "code",
   "execution_count": 224,
   "metadata": {},
   "outputs": [
    {
     "data": {
      "text/plain": [
       "<Figure size 1000x600 with 0 Axes>"
      ]
     },
     "metadata": {},
     "output_type": "display_data"
    },
    {
     "data": {
      "image/png": "[encoded data removed]",
      "text/plain": [
       "<Figure size 640x480 with 1 Axes>"
      ]
     },
     "metadata": {},
     "output_type": "display_data"
    }
   ],
   "source": [
    "plt.figure(figsize=(10, 6))\n",
    "combined_df.hist(column=['rcClicks'], bins= 100)\n",
    "plt.yscale('log')\n"
   ]
  },
  {
   "cell_type": "code",
   "execution_count": 175,
   "metadata": {},
   "outputs": [
    {
     "data": {
      "text/plain": [
       "<Figure size 1000x600 with 0 Axes>"
      ]
     },
     "metadata": {},
     "output_type": "display_data"
    },
    {
     "data": {
      "image/png": "[encoded data removed]",
      "text/plain": [
       "<Figure size 640x480 with 1 Axes>"
      ]
     },
     "metadata": {},
     "output_type": "display_data"
    }
   ],
   "source": [
    "plt.figure(figsize=(10, 6))\n",
    "combined_df.hist(column=['spClicks'], bins=100)\n",
    "plt.yscale('log')\n"
   ]
  },
  {
   "cell_type": "code",
   "execution_count": 127,
   "metadata": {},
   "outputs": [
    {
     "data": {
      "text/plain": [
       "<Figure size 1000x600 with 0 Axes>"
      ]
     },
     "metadata": {},
     "output_type": "display_data"
    },
    {
     "data": {
      "image/png": "[encoded data removed]",
      "text/plain": [
       "<Figure size 640x480 with 1 Axes>"
      ]
     },
     "metadata": {},
     "output_type": "display_data"
    }
   ],
   "source": [
    "plt.figure(figsize=(10, 6))\n",
    "combined_df.hist(column=['pvs'], bins=40)\n",
    "plt.yscale('log')\n"
   ]
  },
  {
   "cell_type": "code",
   "execution_count": 223,
   "metadata": {},
   "outputs": [
    {
     "data": {
      "text/plain": [
       "0    1524509\n",
       "1     167387\n",
       "Name: clicks, dtype: int64"
      ]
     },
     "execution_count": 223,
     "metadata": {},
     "output_type": "execute_result"
    }
   ],
   "source": [
    "combined_df[\"clicks\"].value_counts()"
   ]
  },
  {
   "cell_type": "markdown",
   "metadata": {},
   "source": [
    "## handling outliers\n",
    "In both spClicks and rcClicks there are clear outliers- a very small amount of samples with extremely large values."
   ]
  },
  {
   "cell_type": "code",
   "execution_count": 176,
   "metadata": {},
   "outputs": [],
   "source": [
    "z_score = zscore(combined_df['rcClicks'])\n",
    "\n",
    "combined_df = combined_df[z_score <= 3.5]"
   ]
  },
  {
   "cell_type": "code",
   "execution_count": 11,
   "metadata": {},
   "outputs": [
    {
     "data": {
      "text/plain": [
       "<Figure size 1000x600 with 0 Axes>"
      ]
     },
     "metadata": {},
     "output_type": "display_data"
    },
    {
     "data": {
      "image/png": "[encoded data removed]",
      "text/plain": [
       "<Figure size 640x480 with 1 Axes>"
      ]
     },
     "metadata": {},
     "output_type": "display_data"
    }
   ],
   "source": [
    "plt.figure(figsize=(10, 6))\n",
    "combined_df.hist(column=['rcClicks'], bins= 100)\n",
    "plt.yscale('log')\n"
   ]
  },
  {
   "cell_type": "code",
   "execution_count": 185,
   "metadata": {},
   "outputs": [],
   "source": [
    "z_score_spClicks = zscore(combined_df['spClicks'])\n",
    "\n",
    "combined_df = combined_df[z_score_spClicks <= 3.5]"
   ]
  },
  {
   "cell_type": "code",
   "execution_count": 10,
   "metadata": {},
   "outputs": [
    {
     "data": {
      "text/plain": [
       "<Figure size 1000x600 with 0 Axes>"
      ]
     },
     "metadata": {},
     "output_type": "display_data"
    },
    {
     "data": {
      "image/png": "[encoded data removed]",
      "text/plain": [
       "<Figure size 640x480 with 1 Axes>"
      ]
     },
     "metadata": {},
     "output_type": "display_data"
    }
   ],
   "source": [
    "plt.figure(figsize=(10, 6))\n",
    "combined_df.hist(column=['spClicks'], bins= 100)\n",
    "plt.yscale('log')"
   ]
  },
  {
   "cell_type": "markdown",
   "metadata": {},
   "source": [
    "# Limit Sparse Features"
   ]
  },
  {
   "cell_type": "code",
   "execution_count": 220,
   "metadata": {},
   "outputs": [],
   "source": [
    "def limit_sparse_feature(feature_name, threshold):\n",
    "    feature_counts = combined_df[feature_name].value_counts()\n",
    "\n",
    "    values_to_replace = feature_counts[feature_counts < threshold].index\n",
    "\n",
    "    combined_df[feature_name] = combined_df[feature_name].replace(values_to_replace, 'OTHER')\n"
   ]
  },
  {
   "cell_type": "code",
   "execution_count": 155,
   "metadata": {},
   "outputs": [],
   "source": [
    "limit_sparse_feature(\"country\", 10)"
   ]
  },
  {
   "cell_type": "code",
   "execution_count": 221,
   "metadata": {},
   "outputs": [
    {
     "name": "stderr",
     "output_type": "stream",
     "text": [
      "C:\\Users\\ofri\\AppData\\Local\\Temp\\ipykernel_2028\\1593950919.py:6: SettingWithCopyWarning: \n",
      "A value is trying to be set on a copy of a slice from a DataFrame.\n",
      "Try using .loc[row_indexer,col_indexer] = value instead\n",
      "\n",
      "See the caveats in the documentation: https://pandas.pydata.org/pandas-docs/stable/user_guide/indexing.html#returning-a-view-versus-a-copy\n",
      "  combined_df[feature_name] = combined_df[feature_name].replace(values_to_replace, 'OTHER')\n"
     ]
    },
    {
     "data": {
      "image/png": "[encoded data removed]",
      "text/plain": [
       "<Figure size 640x480 with 1 Axes>"
      ]
     },
     "metadata": {},
     "output_type": "display_data"
    }
   ],
   "source": [
    "limit_sparse_feature('region', 20)\n",
    "plt.figure()\n",
    "region_value_counts = combined_df['region'].value_counts().values\n",
    "plt.hist(region_value_counts, bins=100)\n",
    "plt.yscale('log')"
   ]
  },
  {
   "cell_type": "code",
   "execution_count": 212,
   "metadata": {},
   "outputs": [
    {
     "name": "stdout",
     "output_type": "stream",
     "text": [
      "Index(['bossoroca', 'algorta', 'petrosino', 'chabeuil', 'tibau do sul',\n",
      "       'huttwil', 'kale', 'villabruna', 'sterling', 'beckdorf',\n",
      "       ...\n",
      "       'westborough', 'sainte-marie-du-mont', 'saulny', 'vernon hills', 'hode',\n",
      "       'subotica', 'ljungby', 'serra da silveira', 'gerderest', 'sequals'],\n",
      "      dtype='object', length=44344)\n"
     ]
    },
    {
     "data": {
      "text/plain": [
       "0.08721990004113728"
      ]
     },
     "execution_count": 212,
     "metadata": {},
     "output_type": "execute_result"
    }
   ],
   "source": [
    "city_value_counts = combined_df['city'].value_counts()\n",
    "sparse_values = city_value_counts[city_value_counts < 10].index\n",
    "len(combined_df[combined_df['city'].isin(sparse_values)]) / len(combined_df)"
   ]
  },
  {
   "cell_type": "markdown",
   "metadata": {},
   "source": [
    "# version"
   ]
  },
  {
   "cell_type": "code",
   "execution_count": 341,
   "metadata": {},
   "outputs": [],
   "source": [
    "combined_df.to_csv(\"mid-processed-data.csv\", index=False)"
   ]
  },
  {
   "cell_type": "code",
   "execution_count": 147,
   "metadata": {},
   "outputs": [],
   "source": [
    "merged_df.to_csv(\"data+publisher-common-features-merged.csv\", index=False)"
   ]
  },
  {
   "cell_type": "code",
   "execution_count": 16,
   "metadata": {},
   "outputs": [],
   "source": [
    "combined_df = pd.read_csv(\"mid-processed-data.csv\")"
   ]
  },
  {
   "cell_type": "markdown",
   "metadata": {},
   "source": [
    "# Feature Engineering"
   ]
  },
  {
   "cell_type": "code",
   "execution_count": 17,
   "metadata": {},
   "outputs": [],
   "source": [
    "combined_df[\"weekend\"] = combined_df[\"date\"].isin([20231230, 20231231, 20240105])\n",
    "combined_df[\"weekend\"] = combined_df[\"weekend\"].astype('int32')"
   ]
  },
  {
   "cell_type": "markdown",
   "metadata": {},
   "source": [
    "### create a merged data frame of top 5 common user feature for every feature"
   ]
  },
  {
   "cell_type": "code",
   "execution_count": 19,
   "metadata": {},
   "outputs": [],
   "source": [
    "pub_com_country_users = pub_com_users[pub_com_users[\"feature\"] == \"COMMON_USER_COUNTRY\"]\n",
    "pub_com_region_users = pub_com_users[pub_com_users[\"feature\"] == \"COMMON_USER_REGION\"]\n",
    "pub_com_region_code_users = pub_com_users[pub_com_users[\"feature\"] == \"COMMON_USER_REGION_CODE\"]\n",
    "pub_com_city_users = pub_com_users[pub_com_users[\"feature\"] == \"COMMON_USER_CITY\"]\n",
    "pub_com_upp_tax_users = pub_com_users[pub_com_users[\"feature\"] == \"COMMON_USER_UPPER_TAXONOMY\"]"
   ]
  },
  {
   "cell_type": "code",
   "execution_count": 20,
   "metadata": {},
   "outputs": [],
   "source": [
    "pub_com_country_users = pub_com_country_users.add_suffix(\"_country\")\n",
    "pub_com_region_users = pub_com_region_users.add_suffix(\"_region\")\n",
    "pub_com_region_code_users = pub_com_region_code_users.add_suffix(\"_region_code\")\n",
    "pub_com_city_users = pub_com_city_users.add_suffix(\"_city\")\n",
    "pub_com_upp_tax_users = pub_com_upp_tax_users.add_suffix(\"_upp_tax\")"
   ]
  },
  {
   "cell_type": "code",
   "execution_count": 21,
   "metadata": {},
   "outputs": [
    {
     "name": "stdout",
     "output_type": "stream",
     "text": [
      "<class 'pandas.core.frame.DataFrame'>\n",
      "Int64Index: 1691896 entries, 0 to 1691895\n",
      "Data columns (total 55 columns):\n",
      " #   Column                                  Dtype  \n",
      "---  ------                                  -----  \n",
      " 0   sourceItemId                            int64  \n",
      " 1   itemId                                  int64  \n",
      " 2   placement                               object \n",
      " 3   userId                                  object \n",
      " 4   publisherId                             object \n",
      " 5   publisherLanguage                       object \n",
      " 6   city                                    object \n",
      " 7   region                                  object \n",
      " 8   country                                 object \n",
      " 9   sessionReferrer                         object \n",
      " 10  userQualityLoyalty                      object \n",
      " 11  upperTaxonomy                           object \n",
      " 12  alchemyTaxonomy                         object \n",
      " 13  rcClicks                                float64\n",
      " 14  spClicks                                float64\n",
      " 15  date                                    int64  \n",
      " 16  clicks                                  int64  \n",
      " 17  pvs                                     int64  \n",
      " 18  session_depth                           int64  \n",
      " 19  weekend                                 int32  \n",
      " 20  publisher_id_country                    object \n",
      " 21  publisher_group_country                 object \n",
      " 22  feature_country                         object \n",
      " 23  top_5_common_user_feature_country       object \n",
      " 24  top_5_feature_explained_pv_country      float64\n",
      " 25  total_pvs_country                       float64\n",
      " 26  total_pv_clicks_country                 float64\n",
      " 27  publisher_id_region                     object \n",
      " 28  publisher_group_region                  object \n",
      " 29  feature_region                          object \n",
      " 30  top_5_common_user_feature_region        object \n",
      " 31  top_5_feature_explained_pv_region       float64\n",
      " 32  total_pvs_region                        float64\n",
      " 33  total_pv_clicks_region                  float64\n",
      " 34  publisher_id_region_code                object \n",
      " 35  publisher_group_region_code             object \n",
      " 36  feature_region_code                     object \n",
      " 37  top_5_common_user_feature_region_code   object \n",
      " 38  top_5_feature_explained_pv_region_code  float64\n",
      " 39  total_pvs_region_code                   float64\n",
      " 40  total_pv_clicks_region_code             float64\n",
      " 41  publisher_id_city                       object \n",
      " 42  publisher_group_city                    object \n",
      " 43  feature_city                            object \n",
      " 44  top_5_common_user_feature_city          object \n",
      " 45  top_5_feature_explained_pv_city         float64\n",
      " 46  total_pvs_city                          float64\n",
      " 47  total_pv_clicks_city                    float64\n",
      " 48  publisher_id_upp_tax                    object \n",
      " 49  publisher_group_upp_tax                 object \n",
      " 50  feature_upp_tax                         object \n",
      " 51  top_5_common_user_feature_upp_tax       object \n",
      " 52  top_5_feature_explained_pv_upp_tax      float64\n",
      " 53  total_pvs_upp_tax                       float64\n",
      " 54  total_pv_clicks_upp_tax                 float64\n",
      "dtypes: float64(17), int32(1), int64(6), object(31)\n",
      "memory usage: 716.4+ MB\n"
     ]
    }
   ],
   "source": [
    "merged_df_1 = pd.merge(combined_df, pub_com_country_users, left_on='publisherId', right_on='publisher_id_country', how='left')\n",
    "merged_df_2 = pd.merge(merged_df_1, pub_com_region_users, left_on='publisherId', right_on='publisher_id_region', how='left')\n",
    "merged_df_3 = pd.merge(merged_df_2, pub_com_region_code_users, left_on='publisherId', right_on='publisher_id_region_code', how='left')\n",
    "merged_df_4 = pd.merge(merged_df_3, pub_com_city_users, left_on='publisherId', right_on='publisher_id_city', how='left')\n",
    "merged_df = pd.merge(merged_df_4, pub_com_upp_tax_users, left_on='publisherId', right_on='publisher_id_upp_tax', how='left')\n",
    "merged_df.info()\n"
   ]
  },
  {
   "cell_type": "code",
   "execution_count": 22,
   "metadata": {},
   "outputs": [],
   "source": [
    "merged_df_copy = merged_df.copy()"
   ]
  },
  {
   "cell_type": "markdown",
   "metadata": {},
   "source": [
    "### Calculate In Marketness"
   ]
  },
  {
   "cell_type": "code",
   "execution_count": null,
   "metadata": {},
   "outputs": [],
   "source": [
    "merged_df[\"top_5_common_user_feature_city\"] = merged_df[\"top_5_common_user_feature_city\"].astype('str')\n",
    "merged_df[\"top_5_common_user_feature_country\"] = merged_df[\"top_5_common_user_feature_country\"].astype('str')\n",
    "merged_df[\"top_5_common_user_feature_region\"] = merged_df[\"top_5_common_user_feature_region\"].astype('str')\n",
    "merged_df[\"top_5_common_user_feature_region_code\"] = merged_df[\"top_5_common_user_feature_region_code\"].astype('str')\n",
    "merged_df[\"top_5_common_user_feature_upp_tax\"] = merged_df[\"top_5_common_user_feature_upp_tax\"].astype('str')\n",
    "\n",
    "def in_city_condition(row):\n",
    "    if row['city'] in row['top_5_common_user_feature_city']:\n",
    "        return 1\n",
    "    return 0\n",
    "\n",
    "def in_country_condition(row):\n",
    "    if row['country'] in row['top_5_common_user_feature_country']:\n",
    "        return 1\n",
    "    return 0\n",
    "\n",
    "def in_region_condition(row):\n",
    "    if row['region'] in row['top_5_common_user_feature_region'] or row['region'] in row['top_5_common_user_feature_region_code']:\n",
    "        return 1\n",
    "    return 0\n",
    "\n",
    "merged_df['in_country_user'] = merged_df.apply(in_city_condition, axis=1)\n",
    "merged_df['in_country_user'] = merged_df.apply(in_country_condition, axis=1)\n",
    "merged_df['in_region_user'] = merged_df.apply(in_region_condition, axis=1)\n"
   ]
  },
  {
   "cell_type": "code",
   "execution_count": 23,
   "metadata": {},
   "outputs": [
    {
     "data": {
      "text/plain": [
       "2    760001\n",
       "1    636858\n",
       "3    254209\n",
       "0     40828\n",
       "Name: in_market_user, dtype: int64"
      ]
     },
     "execution_count": 23,
     "metadata": {},
     "output_type": "execute_result"
    }
   ],
   "source": [
    "merged_df_copy[\"top_5_common_user_feature_city\"] = merged_df_copy[\"top_5_common_user_feature_city\"].astype('str')\n",
    "merged_df_copy[\"top_5_common_user_feature_country\"] = merged_df_copy[\"top_5_common_user_feature_country\"].astype('str')\n",
    "merged_df_copy[\"top_5_common_user_feature_region\"] = merged_df_copy[\"top_5_common_user_feature_region\"].astype('str')\n",
    "merged_df_copy[\"top_5_common_user_feature_region_code\"] = merged_df_copy[\"top_5_common_user_feature_region_code\"].astype('str')\n",
    "merged_df_copy[\"top_5_common_user_feature_upp_tax\"] = merged_df_copy[\"top_5_common_user_feature_upp_tax\"].astype('str')\n",
    "\n",
    "def calc_in_marketness(row):\n",
    "    in_marketness = 0\n",
    "    if row['country'] in row['top_5_common_user_feature_country']:\n",
    "        in_marketness = in_marketness + 1\n",
    "    if row['region'] in row['top_5_common_user_feature_region'] or row['region'] in row['top_5_common_user_feature_region_code']:\n",
    "        in_marketness = in_marketness + 1\n",
    "    if row['city'] in row['top_5_common_user_feature_city']:\n",
    "        in_marketness = in_marketness + 1\n",
    "    return in_marketness\n",
    "\n",
    "merged_df_copy['in_market_user'] = merged_df_copy.apply(calc_in_marketness, axis=1)\n",
    "merged_df_copy['in_market_user'].value_counts()\n"
   ]
  },
  {
   "cell_type": "code",
   "execution_count": 122,
   "metadata": {},
   "outputs": [],
   "source": [
    "combined_df_2 = merged_df_copy.drop(pub_com_city_users.columns, axis=1)\n",
    "combined_df_2 = combined_df_2.drop(pub_com_country_users.columns, axis=1)\n",
    "combined_df_2 = combined_df_2.drop(pub_com_region_code_users.columns, axis=1)\n",
    "combined_df_2 = combined_df_2.drop(pub_com_region_users.columns, axis=1)\n",
    "combined_df_2 = combined_df_2.drop(pub_com_upp_tax_users.columns, axis=1)\n"
   ]
  },
  {
   "cell_type": "markdown",
   "metadata": {},
   "source": [
    "# Building First Model"
   ]
  },
  {
   "cell_type": "code",
   "execution_count": 136,
   "metadata": {},
   "outputs": [],
   "source": [
    "data = combined_df"
   ]
  },
  {
   "cell_type": "markdown",
   "metadata": {},
   "source": [
    "### Split Train Test"
   ]
  },
  {
   "cell_type": "code",
   "execution_count": 137,
   "metadata": {},
   "outputs": [],
   "source": [
    "labels = data['clicks']\n",
    "data = data.drop('clicks', axis=1)"
   ]
  },
  {
   "cell_type": "code",
   "execution_count": 138,
   "metadata": {},
   "outputs": [],
   "source": [
    "X_train, X_test, y_train, y_test = train_test_split(data, labels, test_size= 0.2, random_state=42)"
   ]
  },
  {
   "cell_type": "markdown",
   "metadata": {},
   "source": [
    "### Create And Fit Model"
   ]
  },
  {
   "cell_type": "code",
   "execution_count": 139,
   "metadata": {},
   "outputs": [
    {
     "name": "stdout",
     "output_type": "stream",
     "text": [
      "<class 'pandas.core.frame.DataFrame'>\n",
      "RangeIndex: 1691896 entries, 0 to 1691895\n",
      "Data columns (total 19 columns):\n",
      " #   Column              Dtype  \n",
      "---  ------              -----  \n",
      " 0   sourceItemId        int64  \n",
      " 1   itemId              int64  \n",
      " 2   placement           object \n",
      " 3   userId              object \n",
      " 4   publisherId         object \n",
      " 5   publisherLanguage   object \n",
      " 6   city                object \n",
      " 7   region              object \n",
      " 8   country             object \n",
      " 9   sessionReferrer     object \n",
      " 10  userQualityLoyalty  object \n",
      " 11  upperTaxonomy       object \n",
      " 12  alchemyTaxonomy     object \n",
      " 13  rcClicks            float64\n",
      " 14  spClicks            float64\n",
      " 15  date                int64  \n",
      " 16  pvs                 int64  \n",
      " 17  session_depth       int64  \n",
      " 18  weekend             int32  \n",
      "dtypes: float64(2), int32(1), int64(5), object(11)\n",
      "memory usage: 238.8+ MB\n"
     ]
    }
   ],
   "source": [
    "data.info()"
   ]
  },
  {
   "cell_type": "code",
   "execution_count": 140,
   "metadata": {},
   "outputs": [],
   "source": [
    "model = CatBoostClassifier(depth=6,  learning_rate= 0.1, num_trees=100 , cat_features= ['placement', 'publisherLanguage', 'city', 'region', 'country', 'sessionReferrer', 'userQualityLoyalty', 'upperTaxonomy', 'alchemyTaxonomy', \"userId\", \"publisherId\", \"sourceItemId\", \"itemId\", \"date\", \"weekend\"])"
   ]
  },
  {
   "cell_type": "code",
   "execution_count": 141,
   "metadata": {},
   "outputs": [
    {
     "name": "stdout",
     "output_type": "stream",
     "text": [
      "0:\tlearn: 0.6314309\ttotal: 1.31s\tremaining: 2m 9s\n",
      "1:\tlearn: 0.5811347\ttotal: 2.54s\tremaining: 2m 4s\n",
      "2:\tlearn: 0.5393174\ttotal: 3.65s\tremaining: 1m 57s\n",
      "3:\tlearn: 0.5047761\ttotal: 4.59s\tremaining: 1m 50s\n",
      "4:\tlearn: 0.4754674\ttotal: 5.68s\tremaining: 1m 47s\n",
      "5:\tlearn: 0.4506542\ttotal: 6.9s\tremaining: 1m 48s\n",
      "6:\tlearn: 0.4296506\ttotal: 8.04s\tremaining: 1m 46s\n",
      "7:\tlearn: 0.4118657\ttotal: 9.33s\tremaining: 1m 47s\n",
      "8:\tlearn: 0.3966312\ttotal: 10.4s\tremaining: 1m 45s\n",
      "9:\tlearn: 0.3836218\ttotal: 11.5s\tremaining: 1m 43s\n",
      "10:\tlearn: 0.3725656\ttotal: 12.4s\tremaining: 1m 40s\n",
      "11:\tlearn: 0.3629558\ttotal: 13.4s\tremaining: 1m 38s\n",
      "12:\tlearn: 0.3549009\ttotal: 14.5s\tremaining: 1m 36s\n",
      "13:\tlearn: 0.3479758\ttotal: 15.5s\tremaining: 1m 35s\n",
      "14:\tlearn: 0.3420571\ttotal: 16.6s\tremaining: 1m 34s\n",
      "15:\tlearn: 0.3369493\ttotal: 17.7s\tremaining: 1m 32s\n",
      "16:\tlearn: 0.3324492\ttotal: 18.6s\tremaining: 1m 30s\n",
      "17:\tlearn: 0.3286626\ttotal: 19.5s\tremaining: 1m 28s\n",
      "18:\tlearn: 0.3253639\ttotal: 20.5s\tremaining: 1m 27s\n",
      "19:\tlearn: 0.3226388\ttotal: 21.6s\tremaining: 1m 26s\n",
      "20:\tlearn: 0.3203097\ttotal: 22.7s\tremaining: 1m 25s\n",
      "21:\tlearn: 0.3183237\ttotal: 23.8s\tremaining: 1m 24s\n",
      "22:\tlearn: 0.3165637\ttotal: 24.6s\tremaining: 1m 22s\n",
      "23:\tlearn: 0.3148764\ttotal: 25.8s\tremaining: 1m 21s\n",
      "24:\tlearn: 0.3133772\ttotal: 26.8s\tremaining: 1m 20s\n",
      "25:\tlearn: 0.3121195\ttotal: 27.8s\tremaining: 1m 19s\n",
      "26:\tlearn: 0.3110946\ttotal: 28.7s\tremaining: 1m 17s\n",
      "27:\tlearn: 0.3101300\ttotal: 29.7s\tremaining: 1m 16s\n",
      "28:\tlearn: 0.3092798\ttotal: 30.7s\tremaining: 1m 15s\n",
      "29:\tlearn: 0.3085500\ttotal: 31.5s\tremaining: 1m 13s\n",
      "30:\tlearn: 0.3078836\ttotal: 32.3s\tremaining: 1m 11s\n",
      "31:\tlearn: 0.3073086\ttotal: 33.1s\tremaining: 1m 10s\n",
      "32:\tlearn: 0.3068239\ttotal: 33.9s\tremaining: 1m 8s\n",
      "33:\tlearn: 0.3064351\ttotal: 34.9s\tremaining: 1m 7s\n",
      "34:\tlearn: 0.3060609\ttotal: 36.1s\tremaining: 1m 6s\n",
      "35:\tlearn: 0.3056676\ttotal: 37.1s\tremaining: 1m 5s\n",
      "36:\tlearn: 0.3053537\ttotal: 38.1s\tremaining: 1m 4s\n",
      "37:\tlearn: 0.3050642\ttotal: 39s\tremaining: 1m 3s\n",
      "38:\tlearn: 0.3046795\ttotal: 40.2s\tremaining: 1m 2s\n",
      "39:\tlearn: 0.3043684\ttotal: 41.1s\tremaining: 1m 1s\n",
      "40:\tlearn: 0.3040678\ttotal: 41.9s\tremaining: 1m\n",
      "41:\tlearn: 0.3037880\ttotal: 42.9s\tremaining: 59.3s\n",
      "42:\tlearn: 0.3035646\ttotal: 43.9s\tremaining: 58.2s\n",
      "43:\tlearn: 0.3033904\ttotal: 44.8s\tremaining: 57s\n",
      "44:\tlearn: 0.3032073\ttotal: 45.6s\tremaining: 55.7s\n",
      "45:\tlearn: 0.3030313\ttotal: 46.4s\tremaining: 54.5s\n",
      "46:\tlearn: 0.3028750\ttotal: 47.3s\tremaining: 53.3s\n",
      "47:\tlearn: 0.3027428\ttotal: 48.2s\tremaining: 52.2s\n",
      "48:\tlearn: 0.3026145\ttotal: 49.2s\tremaining: 51.2s\n",
      "49:\tlearn: 0.3024877\ttotal: 50s\tremaining: 50s\n",
      "50:\tlearn: 0.3023820\ttotal: 51s\tremaining: 49s\n",
      "51:\tlearn: 0.3022801\ttotal: 51.8s\tremaining: 47.9s\n",
      "52:\tlearn: 0.3021533\ttotal: 52.8s\tremaining: 46.8s\n",
      "53:\tlearn: 0.3020579\ttotal: 53.7s\tremaining: 45.7s\n",
      "54:\tlearn: 0.3019839\ttotal: 54.5s\tremaining: 44.6s\n",
      "55:\tlearn: 0.3019063\ttotal: 55.4s\tremaining: 43.5s\n",
      "56:\tlearn: 0.3018274\ttotal: 56.2s\tremaining: 42.4s\n",
      "57:\tlearn: 0.3017280\ttotal: 57s\tremaining: 41.2s\n",
      "58:\tlearn: 0.3016708\ttotal: 57.7s\tremaining: 40.1s\n",
      "59:\tlearn: 0.3015906\ttotal: 58.6s\tremaining: 39.1s\n",
      "60:\tlearn: 0.3015234\ttotal: 59.4s\tremaining: 38s\n",
      "61:\tlearn: 0.3014763\ttotal: 1m\tremaining: 36.9s\n",
      "62:\tlearn: 0.3014399\ttotal: 1m 1s\tremaining: 35.9s\n",
      "63:\tlearn: 0.3013882\ttotal: 1m 1s\tremaining: 34.9s\n",
      "64:\tlearn: 0.3013450\ttotal: 1m 2s\tremaining: 33.8s\n",
      "65:\tlearn: 0.3012524\ttotal: 1m 3s\tremaining: 32.8s\n",
      "66:\tlearn: 0.3011843\ttotal: 1m 4s\tremaining: 31.8s\n",
      "67:\tlearn: 0.3011324\ttotal: 1m 5s\tremaining: 30.8s\n",
      "68:\tlearn: 0.3010702\ttotal: 1m 6s\tremaining: 29.8s\n",
      "69:\tlearn: 0.3010215\ttotal: 1m 7s\tremaining: 28.8s\n",
      "70:\tlearn: 0.3009979\ttotal: 1m 8s\tremaining: 27.8s\n",
      "71:\tlearn: 0.3009601\ttotal: 1m 8s\tremaining: 26.8s\n",
      "72:\tlearn: 0.3008993\ttotal: 1m 9s\tremaining: 25.8s\n",
      "73:\tlearn: 0.3008621\ttotal: 1m 10s\tremaining: 24.9s\n",
      "74:\tlearn: 0.3008391\ttotal: 1m 11s\tremaining: 23.9s\n",
      "75:\tlearn: 0.3007582\ttotal: 1m 12s\tremaining: 22.9s\n",
      "76:\tlearn: 0.3006988\ttotal: 1m 13s\tremaining: 21.9s\n",
      "77:\tlearn: 0.3006459\ttotal: 1m 14s\tremaining: 21s\n",
      "78:\tlearn: 0.3006251\ttotal: 1m 15s\tremaining: 20s\n",
      "79:\tlearn: 0.3005985\ttotal: 1m 16s\tremaining: 19s\n",
      "80:\tlearn: 0.3005752\ttotal: 1m 16s\tremaining: 18.1s\n",
      "81:\tlearn: 0.3005577\ttotal: 1m 17s\tremaining: 17.1s\n",
      "82:\tlearn: 0.3005330\ttotal: 1m 18s\tremaining: 16.1s\n",
      "83:\tlearn: 0.3005157\ttotal: 1m 19s\tremaining: 15.1s\n",
      "84:\tlearn: 0.3004889\ttotal: 1m 20s\tremaining: 14.2s\n",
      "85:\tlearn: 0.3004551\ttotal: 1m 21s\tremaining: 13.2s\n",
      "86:\tlearn: 0.3004320\ttotal: 1m 22s\tremaining: 12.3s\n",
      "87:\tlearn: 0.3003983\ttotal: 1m 22s\tremaining: 11.3s\n",
      "88:\tlearn: 0.3003422\ttotal: 1m 23s\tremaining: 10.4s\n",
      "89:\tlearn: 0.3003153\ttotal: 1m 24s\tremaining: 9.41s\n",
      "90:\tlearn: 0.3002842\ttotal: 1m 25s\tremaining: 8.46s\n",
      "91:\tlearn: 0.3002587\ttotal: 1m 26s\tremaining: 7.51s\n",
      "92:\tlearn: 0.3002317\ttotal: 1m 27s\tremaining: 6.57s\n",
      "93:\tlearn: 0.3002154\ttotal: 1m 28s\tremaining: 5.62s\n",
      "94:\tlearn: 0.3001907\ttotal: 1m 28s\tremaining: 4.67s\n",
      "95:\tlearn: 0.3001737\ttotal: 1m 29s\tremaining: 3.73s\n",
      "96:\tlearn: 0.3001242\ttotal: 1m 30s\tremaining: 2.8s\n",
      "97:\tlearn: 0.3001027\ttotal: 1m 31s\tremaining: 1.86s\n",
      "98:\tlearn: 0.3000978\ttotal: 1m 31s\tremaining: 927ms\n",
      "99:\tlearn: 0.3000839\ttotal: 1m 32s\tremaining: 0us\n"
     ]
    },
    {
     "data": {
      "text/plain": [
       "<catboost.core.CatBoostClassifier at 0x1a95bac50f0>"
      ]
     },
     "execution_count": 141,
     "metadata": {},
     "output_type": "execute_result"
    }
   ],
   "source": [
    "model.fit(X_train, y_train)"
   ]
  },
  {
   "cell_type": "code",
   "execution_count": 142,
   "metadata": {},
   "outputs": [],
   "source": [
    "y_pred = model.predict(X_test)"
   ]
  },
  {
   "cell_type": "code",
   "execution_count": 143,
   "metadata": {},
   "outputs": [
    {
     "data": {
      "text/plain": [
       "0.9011082215260949"
      ]
     },
     "execution_count": 143,
     "metadata": {},
     "output_type": "execute_result"
    }
   ],
   "source": [
    "accuracy = accuracy_score(y_test, y_pred)\n",
    "accuracy"
   ]
  },
  {
   "cell_type": "markdown",
   "metadata": {},
   "source": [
    "100 trees, depth- 6 accuracy: 0.9010875347242745\n",
    "100 trees, depth- 6, with im-market user: 0.9011377741001241\n",
    "200 trees, depth- 6 accuracy: 0.901403747266387\n",
    "200 trees, depth- 6, with im-market user: 0.9013475973757314\n"
   ]
  },
  {
   "cell_type": "markdown",
   "metadata": {},
   "source": [
    "## Model V2"
   ]
  },
  {
   "cell_type": "markdown",
   "metadata": {},
   "source": [
    "### Dropping Irrelevant Features"
   ]
  },
  {
   "cell_type": "code",
   "execution_count": 279,
   "metadata": {},
   "outputs": [],
   "source": [
    "data_V2 = combined_df_v2.drop(['userId', 'publisherId', 'itemId', 'sourceItemId', 'date'], axis=1)\n",
    "labels_V2 = data_V2['clicks']\n",
    "data_V2 = data_V2.drop('clicks', axis=1)"
   ]
  },
  {
   "cell_type": "markdown",
   "metadata": {},
   "source": [
    "### Split Train Test"
   ]
  },
  {
   "cell_type": "code",
   "execution_count": 281,
   "metadata": {},
   "outputs": [],
   "source": [
    "X_train_V2, X_test_V2, y_train_V2, y_test_V2 = train_test_split(data_V2, labels_V2, test_size= 0.2, random_state=42)"
   ]
  },
  {
   "cell_type": "markdown",
   "metadata": {},
   "source": [
    "### Create And Fit Model"
   ]
  },
  {
   "cell_type": "code",
   "execution_count": 299,
   "metadata": {},
   "outputs": [],
   "source": [
    "cat_features_indices = ['placement', 'publisherLanguage', 'city', 'region', 'country', 'sessionReferrer', 'userQualityLoyalty', 'upperTaxonomy', 'alchemyTaxonomy']"
   ]
  },
  {
   "cell_type": "code",
   "execution_count": 304,
   "metadata": {},
   "outputs": [],
   "source": [
    "model_V2 = CatBoostClassifier(iterations=30, depth=3, learning_rate= 0.1, cat_features= ['placement', 'publisherLanguage', 'city', 'region', 'country', 'sessionReferrer', 'userQualityLoyalty', 'upperTaxonomy', 'alchemyTaxonomy'])"
   ]
  },
  {
   "cell_type": "code",
   "execution_count": 305,
   "metadata": {},
   "outputs": [
    {
     "name": "stdout",
     "output_type": "stream",
     "text": [
      "0:\tlearn: 0.6316216\ttotal: 686ms\tremaining: 19.9s\n",
      "1:\tlearn: 0.5817498\ttotal: 898ms\tremaining: 12.6s\n",
      "2:\tlearn: 0.5401440\ttotal: 1.6s\tremaining: 14.4s\n",
      "3:\tlearn: 0.5055643\ttotal: 1.97s\tremaining: 12.8s\n",
      "4:\tlearn: 0.4765570\ttotal: 2.45s\tremaining: 12.3s\n",
      "5:\tlearn: 0.4521165\ttotal: 2.72s\tremaining: 10.9s\n",
      "6:\tlearn: 0.4314439\ttotal: 3.17s\tremaining: 10.4s\n",
      "7:\tlearn: 0.4139200\ttotal: 3.52s\tremaining: 9.68s\n",
      "8:\tlearn: 0.3989454\ttotal: 3.93s\tremaining: 9.16s\n",
      "9:\tlearn: 0.3862857\ttotal: 4.35s\tremaining: 8.7s\n",
      "10:\tlearn: 0.3753567\ttotal: 4.76s\tremaining: 8.23s\n",
      "11:\tlearn: 0.3659587\ttotal: 5.3s\tremaining: 7.95s\n",
      "12:\tlearn: 0.3583830\ttotal: 5.51s\tremaining: 7.2s\n",
      "13:\tlearn: 0.3515141\ttotal: 5.95s\tremaining: 6.8s\n",
      "14:\tlearn: 0.3456411\ttotal: 6.47s\tremaining: 6.47s\n",
      "15:\tlearn: 0.3406444\ttotal: 6.89s\tremaining: 6.03s\n",
      "16:\tlearn: 0.3365242\ttotal: 7.35s\tremaining: 5.62s\n",
      "17:\tlearn: 0.3328547\ttotal: 7.77s\tremaining: 5.18s\n",
      "18:\tlearn: 0.3298238\ttotal: 8.21s\tremaining: 4.75s\n",
      "19:\tlearn: 0.3272537\ttotal: 8.56s\tremaining: 4.28s\n",
      "20:\tlearn: 0.3249627\ttotal: 8.91s\tremaining: 3.82s\n",
      "21:\tlearn: 0.3230661\ttotal: 9.26s\tremaining: 3.37s\n",
      "22:\tlearn: 0.3214241\ttotal: 9.66s\tremaining: 2.94s\n",
      "23:\tlearn: 0.3200000\ttotal: 10s\tremaining: 2.51s\n",
      "24:\tlearn: 0.3188631\ttotal: 10.4s\tremaining: 2.08s\n",
      "25:\tlearn: 0.3177918\ttotal: 10.8s\tremaining: 1.66s\n",
      "26:\tlearn: 0.3168861\ttotal: 11.2s\tremaining: 1.25s\n",
      "27:\tlearn: 0.3161455\ttotal: 11.6s\tremaining: 832ms\n",
      "28:\tlearn: 0.3155231\ttotal: 12s\tremaining: 414ms\n",
      "29:\tlearn: 0.3149417\ttotal: 12.4s\tremaining: 0us\n"
     ]
    },
    {
     "data": {
      "text/plain": [
       "<catboost.core.CatBoostClassifier at 0x1a31b615750>"
      ]
     },
     "execution_count": 305,
     "metadata": {},
     "output_type": "execute_result"
    }
   ],
   "source": [
    "model_V2.fit(X_train_V2, y_train_V2)"
   ]
  },
  {
   "cell_type": "code",
   "execution_count": 306,
   "metadata": {},
   "outputs": [],
   "source": [
    "y_pred_V2 = model_V2.predict(X_test_V2)\n"
   ]
  },
  {
   "cell_type": "code",
   "execution_count": 307,
   "metadata": {},
   "outputs": [
    {
     "data": {
      "text/plain": [
       "0.9010136532892015"
      ]
     },
     "execution_count": 307,
     "metadata": {},
     "output_type": "execute_result"
    }
   ],
   "source": [
    "accuracy_V2 = accuracy_score(y_test_V2, y_pred_V2)\n",
    "accuracy_V2"
   ]
  },
  {
   "cell_type": "markdown",
   "metadata": {},
   "source": [
    "## Visualize Feature Importance"
   ]
  },
  {
   "cell_type": "code",
   "execution_count": 144,
   "metadata": {},
   "outputs": [
    {
     "name": "stdout",
     "output_type": "stream",
     "text": [
      "sourceItemId: Importance = 5.42\n",
      "itemId: Importance = 20.03\n",
      "placement: Importance = 18.51\n",
      "userId: Importance = 7.09\n",
      "publisherId: Importance = 19.43\n",
      "publisherLanguage: Importance = 0.76\n",
      "city: Importance = 0.0\n",
      "region: Importance = 0.01\n",
      "country: Importance = 1.06\n",
      "sessionReferrer: Importance = 0.16\n",
      "userQualityLoyalty: Importance = 0.55\n",
      "upperTaxonomy: Importance = 0.49\n",
      "alchemyTaxonomy: Importance = 2.24\n",
      "rcClicks: Importance = 22.47\n",
      "spClicks: Importance = 0.67\n",
      "date: Importance = 0.0\n",
      "pvs: Importance = 0.21\n",
      "session_depth: Importance = 0.88\n",
      "weekend: Importance = 0.01\n"
     ]
    }
   ],
   "source": [
    "feature_importance = model.get_feature_importance()\n",
    "features = data.columns\n",
    "for i, importance in enumerate(feature_importance):\n",
    "    print(f\"{features[i]}: Importance = {round(importance, 2)}\")"
   ]
  },
  {
   "cell_type": "markdown",
   "metadata": {},
   "source": [
    "### feature importace with in market user feature:\n",
    "\n",
    "sourceItemId: Importance = 3.88\n",
    "itemId: Importance = 17.34\n",
    "placement: Importance = 17.22\n",
    "userId: Importance = 4.53\n",
    "publisherId: Importance = 24.13\n",
    "publisherLanguage: Importance = 0.85\n",
    "city: Importance = 0.06\n",
    "region: Importance = 0.05\n",
    "country: Importance = 1.07\n",
    "sessionReferrer: Importance = 0.28\n",
    "userQualityLoyalty: Importance = 0.47\n",
    "upperTaxonomy: Importance = 0.4\n",
    "alchemyTaxonomy: Importance = 2.25\n",
    "rcClicks: Importance = 25.32\n",
    "spClicks: Importance = 1.15\n",
    "date: Importance = 0.0\n",
    "pvs: Importance = 0.24\n",
    "session_depth: Importance = 0.74\n",
    "weekend: Importance = 0.0\n",
    "in_market_user: Importance = 0.0"
   ]
  },
  {
   "cell_type": "code",
   "execution_count": 146,
   "metadata": {},
   "outputs": [
    {
     "data": {
      "image/png": "[encoded data removed]",
      "text/plain": [
       "<Figure size 1000x800 with 2 Axes>"
      ]
     },
     "metadata": {},
     "output_type": "display_data"
    }
   ],
   "source": [
    "numerical_features = [\"pvs\", \"rcClicks\", \"spClicks\", \"session_depth\", \"clicks\"]\n",
    "numerical_features_corr = combined_df[numerical_features].corr()\n",
    "\n",
    "plt.figure(figsize=(10, 8))\n",
    "sns.heatmap(numerical_features_corr, annot=True, cmap='coolwarm', fmt=\".2f\")\n",
    "plt.title('Correlation Heatmap for Numerical Features')\n",
    "plt.show()"
   ]
  }
 ],
 "metadata": {
  "kernelspec": {
   "display_name": "Python 3",
   "language": "python",
   "name": "python3"
  },
  "language_info": {
   "codemirror_mode": {
    "name": "ipython",
    "version": 3
   },
   "file_extension": ".py",
   "mimetype": "text/x-python",
   "name": "python",
   "nbconvert_exporter": "python",
   "pygments_lexer": "ipython3",
   "version": "3.10.11"
  }
 },
 "nbformat": 4,
 "nbformat_minor": 2
}
